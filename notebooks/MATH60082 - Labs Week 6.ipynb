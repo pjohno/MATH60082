{
 "cells": [
  {
   "cell_type": "markdown",
   "id": "059f43f6",
   "metadata": {},
   "source": [
    "# Lab Class Week 6\n",
    "\n",
    "## Vectors\n",
    "\n",
    "First we go through a few quick examples using vectors.\n"
   ]
  },
  {
   "cell_type": "markdown",
   "id": "62e8982c",
   "metadata": {},
   "source": [
    "## Tasks \n",
    "\n",
    "- Create a 1D vector and assign it some values, then print them out.\n",
    "- Try using the vector functions (look them up on the web), such as:\n",
    "~~~\n",
    "cout << V.size();\n",
    "V.clear();\n",
    "V.resize(2);\n",
    "~~~\n",
    "- Create a 2D vector and assign it some values, then print them out.\n",
    "- Practice assigning values to the vector and performing calculations on it (e.g. find the average of all the elements).\n",
    "- Try writing a function that takes a vector as an argument."
   ]
  },
  {
   "cell_type": "code",
   "execution_count": 1,
   "id": "be0583e6",
   "metadata": {},
   "outputs": [],
   "source": [
    "#include <vector>\n",
    "#include <iostream>\n",
    "#include <cmath>\n",
    "using namespace std;"
   ]
  },
  {
   "cell_type": "code",
   "execution_count": 2,
   "id": "1ed03ebf",
   "metadata": {},
   "outputs": [
    {
     "name": "stdout",
     "output_type": "stream",
     "text": [
      " v:= [ 1 , 5 , 8 , 4 ]\n"
     ]
    }
   ],
   "source": [
    "{\n",
    "    vector<double> v(4);\n",
    "    v[0] = 1.;\n",
    "    v[1] = 5.;\n",
    "    v[2] = 8.;\n",
    "    v[3] = 4.;\n",
    "    \n",
    "    cout << \" v:= [ \"<<v[0];\n",
    "    for(int i=1;i<4;i++)cout << \" , \"<<v[i];\n",
    "    cout << \" ]\" << endl;\n",
    "}"
   ]
  },
  {
   "cell_type": "markdown",
   "id": "c76b8c1f",
   "metadata": {},
   "source": [
    "Rewrite the code above with some vector functions"
   ]
  },
  {
   "cell_type": "code",
   "execution_count": 3,
   "id": "5ecc2aff",
   "metadata": {},
   "outputs": [
    {
     "name": "stdout",
     "output_type": "stream",
     "text": [
      " v:= [ 1 , 5 , 8 , 4 ]\n"
     ]
    }
   ],
   "source": [
    "{\n",
    "    // create an empty vector\n",
    "    vector<double> v;\n",
    "    // resize it to 4\n",
    "    v.resize(4);\n",
    "    // assign some values\n",
    "    v[0] = 1.;\n",
    "    v[1] = 5.;\n",
    "    v[2] = 8.;\n",
    "    v[3] = 4.;\n",
    "    \n",
    "    cout << \" v:= [ \"<<v[0];\n",
    "    // use size of vector in loop\n",
    "    for(int i=1;i<v.size();i++)cout << \" , \"<<v[i];\n",
    "    cout << \" ]\" << endl;\n",
    "}"
   ]
  },
  {
   "cell_type": "markdown",
   "id": "cf051f36",
   "metadata": {},
   "source": [
    "Now create a matrix $A$."
   ]
  },
  {
   "cell_type": "code",
   "execution_count": 4,
   "id": "a969bd33",
   "metadata": {},
   "outputs": [
    {
     "name": "stdout",
     "output_type": "stream",
     "text": [
      " A:= \n",
      " ( 11 12 13 14 ) \n",
      " ( 21 22 23 24 ) \n",
      " ( 31 32 33 34 ) \n",
      " ( 41 42 43 44 ) \n",
      " ( 51 52 53 54 ) \n",
      "\n"
     ]
    }
   ],
   "source": [
    "{\n",
    "    // create a 5x4 matrix A\n",
    "    vector<vector<double>> A(5,vector<double>(4));\n",
    "    // assign some values\n",
    "    for(int i=0;i<A.size();i++)\n",
    "    {\n",
    "        for(int j=0;j<A[i].size();j++)\n",
    "        {\n",
    "            A[i][j] = 10*(i+1) + j+1;\n",
    "        }\n",
    "    }\n",
    "    \n",
    "    cout << \" A:= \"<<endl;\n",
    "    // use size of vector in loop\n",
    "    // assign some values\n",
    "    for(int i=0;i<A.size();i++)\n",
    "    {\n",
    "        cout << \" ( \" << A[i][0];\n",
    "        for(int j=1;j<A[i].size();j++)cout << \" \" << A[i][j];\n",
    "        cout << \" ) \" << endl;\n",
    "    }\n",
    "    cout << endl;\n",
    "}"
   ]
  },
  {
   "cell_type": "code",
   "execution_count": 5,
   "id": "cd53599e",
   "metadata": {},
   "outputs": [
    {
     "name": "stdout",
     "output_type": "stream",
     "text": [
      " vector average := 4.5\n"
     ]
    }
   ],
   "source": [
    "{\n",
    "    // create an empty vector\n",
    "    vector<double> v(4);\n",
    "    // assign some values\n",
    "    v[0] = 1.;\n",
    "    v[1] = 5.;\n",
    "    v[2] = 8.;\n",
    "    v[3] = 4.;\n",
    "    \n",
    "    // calculate the average\n",
    "    double sum=0.;\n",
    "    // use size of vector in loop\n",
    "    for(int i=0;i<v.size();i++)\n",
    "        sum = sum + v[i];\n",
    "    cout << \" vector average := \" << sum/v.size() << endl;\n",
    "    \n",
    "}"
   ]
  },
  {
   "cell_type": "markdown",
   "id": "783f8f55",
   "metadata": {},
   "source": [
    "Functions that take vectors as arguments should be written either as\n",
    "~~~\n",
    "double calculatePayoff(const vector<double> &St, ...){ ....\n",
    "~~~\n",
    "if `St` should not be changed in the function or\n",
    "~~~\n",
    "void generatePath(vector<double> &St, ...){ ....\n",
    "~~~\n",
    "if you want the values of `St` to be changed. \n",
    "\n",
    "You should avoid writing\n",
    "~~~\n",
    "void calculateAverage(vector<double> v){ ....\n",
    "~~~\n",
    "as this will copy the contents of the vector to a new vector inside the function, which can take a lot of time. Such operations are the default in many scripting languages such as \"r\" which is why they are so inefficient. "
   ]
  },
  {
   "cell_type": "code",
   "execution_count": 6,
   "id": "99432563",
   "metadata": {},
   "outputs": [],
   "source": [
    "double calculateAverage(const vector<double> &v)\n",
    "{\n",
    "    // calculate the average\n",
    "    double sum=0.;\n",
    "    // use size of vector in loop\n",
    "    for(int i=0;i<v.size();i++)\n",
    "        sum = sum + v[i];\n",
    "    return sum/v.size();\n",
    "}"
   ]
  },
  {
   "cell_type": "code",
   "execution_count": 7,
   "id": "66a88786",
   "metadata": {},
   "outputs": [
    {
     "name": "stdout",
     "output_type": "stream",
     "text": [
      " vector average := 4.5\n"
     ]
    }
   ],
   "source": [
    "{\n",
    "    // create an empty vector\n",
    "    vector<double> v(4);\n",
    "    // assign some values\n",
    "    v[0] = 1.;\n",
    "    v[1] = 5.;\n",
    "    v[2] = 8.;\n",
    "    v[3] = 4.;\n",
    "    \n",
    "    cout << \" vector average := \" << calculateAverage(v) << endl;\n",
    "\n",
    "}"
   ]
  },
  {
   "cell_type": "markdown",
   "id": "457f4db7",
   "metadata": {},
   "source": [
    "## Path Dependent Options\n",
    "\n",
    "Assume that the stock price $S_t$ is observed over $K+1$ equally spaced intervals $t_0,t_1,\\dots,t_K$ with $t_0=0$ and $t_K=T$. Now let us solve the value of a path dependent option where\n",
    "we define the underlying asset $A$ to be the average absolute movements in the share price over several periods such that\n",
    "$$\n",
    "A = \\frac{\\sum_{i=1}^K | S(t_i) - S(t_{i-1}) |}{\\sqrt{K}} .\n",
    "$$\n",
    "Assuming the Black Scholes framework under the risk neutral measure, and we wish to price a call option with payoff \n",
    "$$\n",
    "C(A,S,t=T)=\\max(A-X,0).\n",
    "$$ \n",
    "\n",
    "\n",
    "Find the value\n",
    "$$\n",
    "C(S_0,t=0) = e^{-rT} E^Q[\\max(A-X,0)]\n",
    "$$\n",
    "- where $K=20$, strike price $X=30$ and a maturity $T=1$ is one year from now;\n",
    "- the current stock price is $S_0=104.81$;\n",
    "- the stock price follows a GBM with $\\sigma=0.4$, the interest rate is $r=0.03$."
   ]
  },
  {
   "cell_type": "code",
   "execution_count": 8,
   "id": "5e988712",
   "metadata": {},
   "outputs": [],
   "source": [
    "#include <iostream>\n",
    "#include <iomanip>\n",
    "#include <cmath>\n",
    "#include <vector>\n",
    "#include <fstream>\n",
    "#include <random>\n",
    "#include <algorithm>\n",
    "using namespace std;"
   ]
  },
  {
   "cell_type": "code",
   "execution_count": 9,
   "id": "76ab3579",
   "metadata": {},
   "outputs": [],
   "source": [
    "#include \"math60082_lab_plot_loader.hpp\""
   ]
  },
  {
   "cell_type": "code",
   "execution_count": 10,
   "id": "5dbbbfd3",
   "metadata": {},
   "outputs": [],
   "source": [
    "double callOption(double S0, double  sigma, double  r, double  T, double  X,int K,int N)\n",
    "{\n",
    "    static mt19937 rng;\n",
    "    normal_distribution<> ND(0., 1.);\n",
    "    double sum = 0.;\n",
    "    for (int n = 0; n < N; n++)\n",
    "    {\n",
    "        // now create a path\n",
    "        double dt = T / K;\n",
    "        vector<double> stockPath(K + 1);\n",
    "        stockPath[0] = S0;\n",
    "        for (int i = 1; i <= K; i++)\n",
    "        {\n",
    "            double phi = ND(rng);\n",
    "            stockPath[i] = stockPath[i - 1] * exp((r - 0.5*sigma*sigma)*dt + phi*sigma*sqrt(dt));\n",
    "        }\n",
    "        // and calculate A\n",
    "        double A = 0.;\n",
    "        for (int i = 1; i <= K; i++)\n",
    "        {\n",
    "            A = A + fabs(stockPath[i] - stockPath[i - 1]);\n",
    "        }\n",
    "        A = A/sqrt(K);\n",
    "        // add in the payoff to the sum\n",
    "        sum = sum + max(A - X, 0.);\n",
    "    }\n",
    "    return sum / N*exp(-r*T);\n",
    "}\n"
   ]
  },
  {
   "cell_type": "markdown",
   "id": "523234bf",
   "metadata": {},
   "source": [
    "## Tasks\n",
    "- Try running this code with different values of $N=100,200,...$, what happens?\n",
    "- Choose a large enough value of $N$, what happens when you choose different values of $K$?\n",
    "- For a fixed value of $K$, can you estimate the value **and** the accuracy of your result? (Hint: look at lab class 3)\n",
    "- Try making $A$ the average or the maximum/minimum value -- what happens to the option value?"
   ]
  },
  {
   "cell_type": "code",
   "execution_count": 11,
   "id": "c073a0e5",
   "metadata": {},
   "outputs": [
    {
     "name": "stdout",
     "output_type": "stream",
     "text": [
      "Call Option = 5.96243\n",
      "Call Option = 6.16377\n",
      "Call Option = 4.96189\n",
      "Call Option = 5.20838\n",
      "Call Option = 5.59273\n",
      "Call Option = 5.56982\n",
      "Call Option = 5.73064\n",
      "Call Option = 5.54928\n",
      "Call Option = 5.72325\n",
      "Call Option = 5.61358\n",
      "Call Option = 5.93575\n",
      "Call Option = 5.5347\n",
      "Call Option = 6.00951\n",
      "Call Option = 5.60477\n",
      "Call Option = 5.83018\n",
      "Call Option = 5.4336\n",
      "Call Option = 6.0845\n",
      "Call Option = 5.63171\n",
      "Call Option = 5.60319\n",
      "Call Option = 5.79822\n"
     ]
    }
   ],
   "source": [
    "{\n",
    "    double S0 = 104.81, sigma = 0.4, r = 0.03, T = 1, X = 30.; \n",
    "    int K = 20;\n",
    "    for(int N = 100;N<=2000;N+=100)\n",
    "        cout << \"Call Option = \" << callOption(S0, sigma, r, T, X, K, N) << endl;\n",
    "}"
   ]
  },
  {
   "cell_type": "markdown",
   "id": "8c4fdd9e",
   "metadata": {},
   "source": [
    "We get results that look like a normal distribution again. Hopefully this means that \n",
    "\n",
    "$$\n",
    "V_N \\sim N\\left( V* , \\frac{\\nu^2}{N} \\right)\n",
    "$$\n",
    "\n",
    "again where $V_N$ is our Monte Carlo estimate with $N$ paths, $V*$ is the analytic solution and $\\frac{\\nu^2}{N}$ is a variance we can estimate. Let's plot it out."
   ]
  },
  {
   "cell_type": "code",
   "execution_count": 12,
   "id": "5aa6b68f",
   "metadata": {},
   "outputs": [
    {
     "name": "stdout",
     "output_type": "stream",
     "text": [
      " File write successful \n"
     ]
    }
   ],
   "source": [
    "{\n",
    "    // open up a file stream to write data\n",
    "    ofstream output;\n",
    "    // here we are going to use comma separated variables, so end the filename with .csv\n",
    "\n",
    "    // I'm outputing to current working directory\n",
    "    output.open(\"test-6-1.csv\");\n",
    "\n",
    "    if(!output.is_open())\n",
    "    {\n",
    "        // NOTE!!!! The file will not open unless the directory exists!!!\n",
    "        cout << \" File not opened \\n\";\n",
    "        // stop the program here\n",
    "        throw;\n",
    "    }\n",
    "    // write N vs C(S0,t=0,N) to a file\n",
    "    // each column must be separated by a comma\n",
    "    // each row goes on a new line\n",
    "    double S0 = 104.81, sigma = 0.4, r = 0.03, T = 1, X = 30.; \n",
    "    int K = 20;\n",
    "    for(int N=10;N<=1000;N++)\n",
    "    {\n",
    "        output << N << \" , \" << callOption(S0, sigma, r, T, X, K, N) <<endl;\n",
    "    }\n",
    "    // file write successful then close file\n",
    "    cout << \" File write successful \\n\";\n",
    "    output.close();\n",
    "}"
   ]
  },
  {
   "cell_type": "code",
   "execution_count": 13,
   "id": "f770daa0",
   "metadata": {},
   "outputs": [
    {
     "data": {
      "image/png": "[encoded data removed]"
     },
     "execution_count": 13,
     "metadata": {},
     "output_type": "execute_result"
    }
   ],
   "source": [
    "MATH60082::gnuplotImage fig1;\n",
    "{\n",
    "    std::stringstream ss;\n",
    "    ss << \"set datafile separator ','\" << endl;\n",
    "    ss << \"set xlabel 'N'\" << endl;\n",
    "    ss << \"set ylabel 'C(S,t;N)'\" << endl;\n",
    "    ss << \"unset key\"<< endl;\n",
    "    ss << \"p'test-6-1.csv' u 1:2 w l\";\n",
    "    fig1 = MATH60082::GnuplotWidget::plotCommand(&ss);\n",
    "    \n",
    "}\n",
    "fig1"
   ]
  },
  {
   "cell_type": "markdown",
   "id": "9f03f067",
   "metadata": {},
   "source": [
    "Now lets choose a large value of $N$, what effect does the number of observations $K$ have on our solution?"
   ]
  },
  {
   "cell_type": "code",
   "execution_count": 14,
   "id": "dd17a331",
   "metadata": {},
   "outputs": [
    {
     "name": "stdout",
     "output_type": "stream",
     "text": [
      " File write successful \n"
     ]
    }
   ],
   "source": [
    "{\n",
    "    // open up a file stream to write data\n",
    "    ofstream output;\n",
    "    // here we are going to use comma separated variables, so end the filename with .csv\n",
    "\n",
    "    // I'm outputing to current working directory\n",
    "    output.open(\"test-6-2.csv\");\n",
    "\n",
    "    if(!output.is_open())\n",
    "    {\n",
    "        // NOTE!!!! The file will not open unless the directory exists!!!\n",
    "        cout << \" File not opened \\n\";\n",
    "        // stop the program here\n",
    "        throw;\n",
    "    }\n",
    "    // write N vs C(S0,t=0,N) to a file\n",
    "    // each column must be separated by a comma\n",
    "    // each row goes on a new line\n",
    "    double S0 = 104.81, sigma = 0.4, r = 0.03, T = 1, X = 30.; \n",
    "    int N = 100000;\n",
    "    for(int K=1;K<=25;K++)\n",
    "    {\n",
    "        output << K << \" , \" << callOption(S0, sigma, r, T, X, K, N) <<endl;\n",
    "    }\n",
    "    // file write successful then close file\n",
    "    cout << \" File write successful \\n\";\n",
    "    output.close();\n",
    "}"
   ]
  },
  {
   "cell_type": "code",
   "execution_count": 17,
   "id": "8ef52b20",
   "metadata": {},
   "outputs": [
    {
     "data": {
      "image/png": "[encoded data removed]"
     },
     "execution_count": 17,
     "metadata": {},
     "output_type": "execute_result"
    }
   ],
   "source": [
    "MATH60082::gnuplotImage fig2;\n",
    "{\n",
    "    std::stringstream ss;\n",
    "    ss << \"set datafile separator ','\" << endl;\n",
    "    ss << \"set xlabel 'K'\" << endl;\n",
    "    ss << \"set ylabel 'C(S,t;K)'\" << endl;\n",
    "    ss << \"unset key\"<< endl;\n",
    "    ss << \"p'test-6-2.csv' u 1:2 w l\";\n",
    "    fig2 = MATH60082::GnuplotWidget::plotCommand(&ss);\n",
    "    \n",
    "}\n",
    "fig2"
   ]
  },
  {
   "cell_type": "markdown",
   "id": "bb1f4d14",
   "metadata": {},
   "source": [
    "We see the results appear to be converging for larger values of $K$, this could be investigated if we have more time.\n",
    "\n",
    "And in a similar way as before, for fixed $K$, we can estimate the variance of the option price and hence get a confidence interval."
   ]
  },
  {
   "cell_type": "code",
   "execution_count": 16,
   "id": "6e4ad084",
   "metadata": {},
   "outputs": [
    {
     "name": "stdout",
     "output_type": "stream",
     "text": [
      " ~~~~~~~~~~~~~~~~~~~~~~~~~~~~~~\n",
      " Run results with M=100 samples from V_N, where N=1000.\n",
      " variance = 0.0756966\n",
      " variance of the sample mean = 0.000756966\n",
      " 95% confident result is in [5.73231,5.84236] with 100000 total paths.\n"
     ]
    }
   ],
   "source": [
    "{\n",
    "    double S0 = 104.81, sigma = 0.4, r = 0.03, T = 1, X = 30.; \n",
    "    int K = 20;\n",
    "    \n",
    "    // run the code 100 times and take the average, like taking N*M paths\n",
    "    int M=100;\n",
    "\n",
    "    // number of paths in each calculation\n",
    "    int N=1000;\n",
    "\n",
    "    cout << \" ~~~~~~~~~~~~~~~~~~~~~~~~~~~~~~\"<<endl;\n",
    "    cout << \" Run results with M=\"<<M<<\" samples from V_N, where N=\"<<N<<\".\"<<endl;\n",
    "\n",
    "    // estimate the mean and variance from the sample\n",
    "    double sum=0.;\n",
    "    double sumSq = 0.;\n",
    "    for(int i=0;i<M;i++)\n",
    "    {\n",
    "        double value = callOption(S0, sigma, r, T, X, K, N) ;\n",
    "        sum+=value;\n",
    "        sumSq+=value*value;\n",
    "    }\n",
    "    double mean = sum/M;\n",
    "    double variance = sumSq/M - mean*mean;\n",
    "    cout << \" variance = \" << variance << endl; \n",
    "\n",
    "    // get the standard deviation of the sample mean\n",
    "    cout << \" variance of the sample mean = \" << variance/M << endl; \n",
    "    double sd = sqrt(variance/M);\n",
    "    cout << \" 95% confident result is in [\"<<mean-2.*sd << \",\" << mean+2.*sd << \"] with \"<< N*M << \" total paths.\" << endl;\n",
    "\n",
    "}"
   ]
  }
 ],
 "metadata": {
  "kernelspec": {
   "display_name": "C++14",
   "language": "C++14",
   "name": "xcpp14"
  },
  "language_info": {
   "codemirror_mode": "text/x-c++src",
   "file_extension": ".cpp",
   "mimetype": "text/x-c++src",
   "name": "c++",
   "version": "14"
  }
 },
 "nbformat": 4,
 "nbformat_minor": 5
}
