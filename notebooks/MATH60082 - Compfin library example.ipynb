{
 "cells": [
  {
   "cell_type": "code",
   "execution_count": 1,
   "metadata": {},
   "outputs": [],
   "source": [
    "#include \"math60082_lab_plot_loader.hpp\"\n",
    "#include \"math60082_gsl_fit.hpp\"\n",
    "#include \"math60082_leastSquaresFit.hpp\""
   ]
  },
  {
   "cell_type": "code",
   "execution_count": 2,
   "metadata": {},
   "outputs": [
    {
     "name": "stdout",
     "output_type": "stream",
     "text": [
      " y = 1.95385 T_0(x)  + -0.0277396 T_1(x)  + 0.714626 T_2(x) \n",
      " 1.28955  -1.94457  0.442282 \n",
      " -1.94457  3.12399  -0.737137 \n",
      " 0.442282  -0.737137  0.184284 \n",
      "\n",
      " Ouput x,y,f(x) to `test.csv` \n"
     ]
    }
   ],
   "source": [
    "{\n",
    "    // create some data points (x,y,w), each with x value, y observation and weight w\n",
    "    std::vector<MATH60082::DataPoint> data = {\n",
    "        { 0.1 , 1.11997 ,  0.110517 } ,\n",
    "        { 0.2 , 1.21064 ,  0.12214 } ,\n",
    "        { 0.3 , 1.57588 ,  0.134986 } ,\n",
    "        { 0.4 , 1.60127 ,  0.149182 } ,\n",
    "        { 0.5 , 1.81319 ,  0.164872 } ,\n",
    "        { 0.6 , 1.58934 ,  0.182212 } ,\n",
    "        { 0.7 , 1.53111 ,  0.201375 } ,\n",
    "        { 0.8 , 2.07436 ,  0.222554 } ,\n",
    "        { 0.9 , 2.44999 ,  0.24596 } ,\n",
    "        { 1 , 2.96118 ,  0.271828 } ,\n",
    "        { 1.1 , 2.99886 ,  0.300417 } ,\n",
    "        { 1.2 , 2.88964 ,  0.332012 } ,\n",
    "        { 1.3 , 3.42419 ,  0.36693 } ,\n",
    "        { 1.4 , 4.12889 ,  0.40552 } ,\n",
    "        { 1.5 , 4.85414 ,  0.448169 } ,\n",
    "        { 1.6 , 4.68148 ,  0.495303 } ,\n",
    "        { 1.7 , 5.12469 ,  0.547395 } ,\n",
    "        { 1.8 , 6.05394 ,  0.604965 } ,\n",
    "        { 1.9 , 6.23804 ,  0.668589 } \n",
    "    };\n",
    "    \n",
    "    // run polynomial fitting algorithm with degree n=3\n",
    "    MATH60082::runFit(data,3);\n",
    "    \n",
    "}"
   ]
  },
  {
   "cell_type": "code",
   "execution_count": 3,
   "metadata": {},
   "outputs": [
    {
     "data": {
      "image/png": "[encoded data removed]"
     },
     "execution_count": 3,
     "metadata": {},
     "output_type": "execute_result"
    }
   ],
   "source": [
    "MATH60082::gnuplotImage fig;\n",
    "{\n",
    "    std::stringstream ss;\n",
    "    ss << \"set datafile separator ','\" << endl;\n",
    "    ss << \"set xlabel 'x'\" << endl;\n",
    "    ss << \"set ylabel 'y'\" << endl;\n",
    "    ss << \"set key top left\"<< endl;\n",
    "    ss << \"p'test.csv' u 1:2 ti 'observations' w p,'test.csv' u 1:3 title 'polynomial fit'  w l\";\n",
    "    fig = MATH60082::GnuplotWidget::plotCommand(&ss);\n",
    "    \n",
    "}\n",
    "fig"
   ]
  }
 ],
 "metadata": {
  "kernelspec": {
   "display_name": "C++14",
   "language": "C++14",
   "name": "xcpp14"
  },
  "language_info": {
   "codemirror_mode": "text/x-c++src",
   "file_extension": ".cpp",
   "mimetype": "text/x-c++src",
   "name": "c++",
   "version": "14"
  }
 },
 "nbformat": 4,
 "nbformat_minor": 2
}
