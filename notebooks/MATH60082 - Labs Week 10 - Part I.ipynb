{
 "cells": [
  {
   "cell_type": "markdown",
   "metadata": {},
   "source": [
    "# The PSOR Method\n",
    "\n",
    "Click on the link for the interactive version:\n",
    "[![Binder](https://mybinder.org/badge.svg)](https://mybinder.org/v2/gh/pjohno/MATH60082/master?filepath=MATH60082%20-%20Labs%20Week%2010%20-%20Part%20I.ipynb)\n",
    "\n",
    "\n",
    "Here we aim to solve the classic American put option problem using the PSOR method. \n",
    "We must solve the problem\n",
    "$$\n",
    "\\frac{\\partial P}{\\partial t} + \\frac12\\sigma^2S^2\\frac{\\partial^2 P}{\\partial S^2} + rS\\frac{\\partial P}{\\partial S} - rP = 0\n",
    "$$\n",
    "with\n",
    "$$\n",
    "P(S,T) = \\max(X-S,0),\n",
    "$$\n",
    "$$\n",
    "P(S,t) \\geq X-S,\n",
    "$$\n",
    "and\n",
    "$$\n",
    "S_0 = 9.735 \\text{ , } X=10  \\text{ , } T=1 \\text{ , } r=0.05 \\text{ , } \\sigma=0.4 ~.\n",
    "$$\n",
    "The method of PSOR is almost identical to the SOR method, but there are two important differences.\n",
    "1. Everytime we update the value we must take the maximum of the payoff and value.\n",
    "2. The residual as defined previously will no longer work.\n",
    "\n",
    "\n",
    "This means that we update the algorithm where $v_j^q$ is the $q$th guess at the solution, and $\\epsilon_j$ is our current measure of the residual error, to\n",
    "$$\n",
    "y = \\left(d_j - a_jv^{q+1}_{j-1} - c_jv^q_{j+1}\\right)/b_j\n",
    "$$\n",
    "$$\n",
    "v^{q+1/2}_j=v^q_j+\\omega(y-v^q_j) ,\n",
    "$$\n",
    "$$\n",
    "v^{q+1}_j=\\max\\left(v^{q+1/2}_j, X - S_j\\right) .\n",
    "$$\n",
    "$$\n",
    "\\epsilon_j = \\left( v^{q+1}_j - v^q_j \\right)^2\n",
    "$$\n",
    "Then the exit condition on the algorithm becomes stop if\n",
    "$$\n",
    "\\sum_j \\epsilon_j < \\text{tol}^2\n",
    "$$\n",
    "which should guarantee our solution is accurate to the level `tol`. The final solution is also on the web [click here](http://www.maths.manchester.ac.uk/~pjohnson/resources/math60082/MYCODES/solutions-sheet-7-3-1.cpp).\n",
    "\n",
    "First include standard libraries:"
   ]
  },
  {
   "cell_type": "code",
   "execution_count": 1,
   "metadata": {},
   "outputs": [],
   "source": [
    "#include <iostream>\n",
    "#include <vector>\n",
    "#include <chrono>\n",
    "#include <string>\n",
    "#include <fstream>\n",
    "#include <cmath>\n",
    "#include <algorithm>\n",
    "using namespace std;"
   ]
  },
  {
   "cell_type": "markdown",
   "metadata": {},
   "source": [
    "Next we have packaged the American put option solver up into a function. This code has been adapted from the European put option solver with SOR, so the inputs/outputs are the same. There is full flexibility on the choice of numerical parameters."
   ]
  },
  {
   "cell_type": "code",
   "execution_count": 2,
   "metadata": {},
   "outputs": [],
   "source": [
    "/** \n",
    "@brief Return the value of an American Put option using the Crank-Nicolson method with PSOR solver\n",
    "ON INPUT:\n",
    "@param S0          -- initial stock price\n",
    "@param X           -- exercise (strike) price\n",
    "@param T           -- Time to expiry (years)\n",
    "@param r           -- interest rate (per annum)\n",
    "@param sigma       -- volatility (per annum^12)\n",
    "@param iMax        -- number of time steps\n",
    "@param jMax        -- number of space steps\n",
    "@param SMax        -- Maximum value of S\n",
    "@param omega       -- is the relaxation parameter \n",
    "@param tol         -- is the tolerance level\n",
    "@param iterMax     -- is maximum iterations\n",
    "ON OUTPUT:\n",
    "@return the value of a American put option at \\f$ S=S0 \\f$, \\f$ t=0 \\f$\n",
    "**/\n",
    "double americanPut_CN(double S0,double X,double T,double r,double sigma,int iMax,int jMax,double SMax,double omega,double tol,int iterMax)\n",
    "{\n",
    "    double dS=SMax/jMax;\n",
    "    double dt=T/iMax;\n",
    "    // create storage for the stock price and option price (old and new)\n",
    "    std::vector<double> S(jMax+1),vOld(jMax+1),vNew(jMax+1);\n",
    "    // setup and initialise the stock price \n",
    "    for(int j=0;j<=jMax;j++)\n",
    "    {\n",
    "        S[j] = j*dS;\n",
    "    }\n",
    "    // reset initial condition\n",
    "    for(int j=0;j<=jMax;j++)\n",
    "    {\n",
    "        vOld[j] = std::max(X-S[j],0.);\n",
    "        vNew[j] = std::max(X-S[j],0.);\n",
    "    }\n",
    "    // run through timesteps\n",
    "    for(int i=iMax-1;i>=0;i--)\n",
    "    {\n",
    "        // declare vectors for matrix equations\n",
    "        std::vector<double> a(jMax+1),b(jMax+1),c(jMax+1),d(jMax+1);\n",
    "        // set up matrix equations a[j]=\n",
    "        a[0] = 0.;b[0] = 1.;c[0] = 0.;\n",
    "        d[0] = X*exp(-r*(iMax-i)*dt);\n",
    "        for(int j=1;j<jMax;j++)\n",
    "        {\n",
    "            a[j] = 0.25*(sigma*sigma*j*j-r*j);\n",
    "            b[j] =-0.5*sigma*sigma*j*j - 0.5*r - 1./dt;\n",
    "            c[j] = 0.25*(sigma*sigma*j*j+r*j);\n",
    "            d[j] =-a[j]*vOld[j-1] - (b[j]+2./dt)*vOld[j] - c[j]*vOld[j+1];\n",
    "        }\n",
    "        a[jMax] = 0.;b[jMax] = 1.;c[jMax] = 0.;\n",
    "        d[jMax] = 0.;\n",
    "        // solve with SOR method\n",
    "        int sor;\n",
    "        for(sor=0;sor<iterMax;sor++)\n",
    "        {\n",
    "            double error=0.;\n",
    "            // implement sor in here\n",
    "            {\n",
    "                double y = (d[0] - c[0]*vNew[1])/b[0];\n",
    "                y = vNew[0] + omega*(y-vNew[0]); \n",
    "                y = std::max(y,X-S[0]);\n",
    "                error+=(y-vNew[0])*(y-vNew[0]);\n",
    "                vNew[0] = y;\n",
    "            }\n",
    "            for(int j=1;j<jMax;j++)\n",
    "            {\n",
    "                double y = (d[j] - a[j]*vNew[j-1] - c[j]*vNew[j+1])/b[j];\n",
    "                y = vNew[j] + omega*(y-vNew[j]); \n",
    "                y = std::max(y,X-S[j]);\n",
    "                error+=(y-vNew[j])*(y-vNew[j]);\n",
    "                vNew[j] = y;\n",
    "            }\n",
    "            {\n",
    "                double y = (d[jMax] - a[jMax]*vNew[jMax-1])/b[jMax];\n",
    "                y = vNew[jMax] + omega*(y-vNew[jMax]); \n",
    "                y = std::max(y,X-S[jMax]);\n",
    "                error+=(y-vNew[jMax])*(y-vNew[jMax]);\n",
    "                vNew[jMax] = y;\n",
    "            }    \n",
    "            // make an exit condition when solution found\n",
    "            if(error<tol*tol)\n",
    "                break;\n",
    "        }\n",
    "        if(sor>=iterMax)\n",
    "        {\n",
    "            std::cout << \" Error NOT converging within required iterations\\n\";\n",
    "            std::cout.flush();\n",
    "            throw;\n",
    "        }\n",
    "        // set old=new\n",
    "        vOld=vNew;\n",
    "    }\n",
    "    int jStar=S0/dS;\n",
    "    double sum=0.;\n",
    "    sum+=(S0 - S[jStar])/dS * vNew[jStar+1];\n",
    "    sum+=(S[jStar+1] - S0)/dS * vNew[jStar];\n",
    "    return sum;\n",
    "}"
   ]
  },
  {
   "cell_type": "markdown",
   "metadata": {},
   "source": [
    "Now we declare our Black-Scholes parameters"
   ]
  },
  {
   "cell_type": "code",
   "execution_count": 3,
   "metadata": {},
   "outputs": [],
   "source": [
    "// declare and initialise Black Scholes parameters\n",
    "double S0,X,T,r,sigma;\n",
    "// declare and initialise grid paramaters \n",
    "int iMax,jMax;\n",
    "// declare and initialise local variables (ds,dt)\n",
    "double SMax;"
   ]
  },
  {
   "cell_type": "markdown",
   "metadata": {},
   "source": [
    "and initialise them"
   ]
  },
  {
   "cell_type": "code",
   "execution_count": 4,
   "metadata": {},
   "outputs": [],
   "source": [
    "// initialise Black Scholes parameters\n",
    "S0=9.735;X=10.;T=1.;r=0.05;sigma=0.4;\n",
    "// initialise grid paramaters \n",
    "iMax=40;jMax=40;SMax=2*X;"
   ]
  },
  {
   "cell_type": "markdown",
   "metadata": {},
   "source": [
    "before checking that our algorithm works and generates results."
   ]
  },
  {
   "cell_type": "code",
   "execution_count": 5,
   "metadata": {},
   "outputs": [
    {
     "name": "stdout",
     "output_type": "stream",
     "text": [
      "1.47464"
     ]
    }
   ],
   "source": [
    "cout << americanPut_CN(S0,X,T,r,sigma,iMax,jMax,SMax,1,1.e-6,1000);"
   ]
  },
  {
   "cell_type": "markdown",
   "metadata": {},
   "source": [
    "Next we can look at getting some results for different values of $n$ when $iMax=n$ and $jMax=n$."
   ]
  },
  {
   "cell_type": "code",
   "execution_count": 6,
   "metadata": {},
   "outputs": [
    {
     "name": "stdout",
     "output_type": "stream",
     "text": [
      " n    | V_n \n",
      "20 | 1.47217\n",
      "40 | 1.47464\n",
      "80 | 1.47409\n",
      "160 | 1.47466\n"
     ]
    }
   ],
   "source": [
    "cout << \" n    | V_n \\n\";\n",
    "for(int k=1;k<=4;k++)\n",
    "{\n",
    "    int n=10*pow(2,k);\n",
    "    iMax = n;\n",
    "    jMax = n;\n",
    "    double value = americanPut_CN(S0,X,T,r,sigma,iMax,jMax,SMax,1.2,1.e-6,1000);\n",
    "    cout << n << \" | \" << value << \"\\n\";\n",
    "}"
   ]
  },
  {
   "cell_type": "markdown",
   "metadata": {},
   "source": [
    "Obviously we do not have an analytical value for this option but there are many places that you can find an estimate for the value. Even on my website I have an online American put pricer written in javascript that estimates the value as \n",
    "$$\n",
    "V_\\text{exact}(S=9.735,t=0) = 1.47501\n",
    "$$\n",
    "so we can see that these estimates are not very far from the true value. If we are only interested in 4s.f. then just $n=160$ provides a good estimate. If we want something more accurate we will need to be more careful, including the interpolation and tolerance as before. \n",
    "\n",
    "So for the next example (with extrapolation) we use $S_0=X$, so that interpolation errors are removed and also increase $S_\\text{max}$ and the tolerance. The new exact value we are aiming for is\n",
    "$$\n",
    "V_\\text{exact}(S=X=10,t=0) = 1.33676 .\n",
    "$$"
   ]
  },
  {
   "cell_type": "code",
   "execution_count": 7,
   "metadata": {},
   "outputs": [],
   "source": [
    "double valueOld=0;"
   ]
  },
  {
   "cell_type": "code",
   "execution_count": 8,
   "metadata": {},
   "outputs": [
    {
     "name": "stdout",
     "output_type": "stream",
     "text": [
      " n    | V_n      | diff    | V_extrap  \n",
      "20 | 1.27856 | 1.27856 | 1.70474\n",
      "40 | 1.34674 | 0.0681884 | 1.36947\n",
      "80 | 1.3615 | 0.0147517 | 1.36641\n",
      "160 | 1.36539 | 0.00389047 | 1.36668\n",
      "320 | 1.36641 | 0.00102094 | 1.36675\n"
     ]
    }
   ],
   "source": [
    "S0 = X;\n",
    "cout << \" n    | V_n      | diff    | V_extrap  \\n\";\n",
    "for(int k=1;k<=5;k++)\n",
    "{\n",
    "    int n=10*pow(2,k);\n",
    "    iMax = n;\n",
    "    jMax = n;\n",
    "    double value = americanPut_CN(S0,X,T,r,sigma,iMax,jMax,5*X,1.2,1.e-8,1000);\n",
    "    double value_extrap = (4.*value - valueOld)/3.;\n",
    "    cout << n << \" | \" << value << \" | \" ;\n",
    "    cout << value - valueOld << \" | \";\n",
    "    cout << value_extrap << \"\\n\";\n",
    "    valueOld = value;\n",
    "}"
   ]
  },
  {
   "cell_type": "markdown",
   "metadata": {},
   "source": [
    "Again we are able to get _quite_ smooth convergence although not quite as good as previously. This time the ratio of differences between the results is not perfect so the extrapolation doesn't perform quite as well. We are still able to improve our results though and the combination of $n=160$ and $n=320$ is able to give 5 almost 6s.f. of accuracy, whereas the standard method with $n=320$ gives only 3 or 4s.f. of accuracy."
   ]
  }
 ],
 "metadata": {
  "kernelspec": {
   "display_name": "C++14",
   "language": "C++14",
   "name": "xcpp14"
  },
  "language_info": {
   "codemirror_mode": "text/x-c++src",
   "file_extension": ".cpp",
   "mimetype": "text/x-c++src",
   "name": "c++",
   "version": "14"
  }
 },
 "nbformat": 4,
 "nbformat_minor": 2
}
