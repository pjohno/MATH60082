{
 "cells": [
  {
   "cell_type": "markdown",
   "metadata": {},
   "source": [
    "# The Crank-Nicolson Method\n",
    "\n",
    "Click here for the interactive version of this notebook.\n",
    "[![Binder](https://mybinder.org/badge.svg)](https://mybinder.org/v2/gh/pjohno/MATH60082/master?labpath=notebooks/MATH60082%20-%20Labs%20Weel%209%20-%20Part%20II.ipynb)\n",
    "\n",
    "For the Crank-Nicolson method we shall need:\n",
    "\n",
    "- All parameters for the option, such as $X$ and $S_0$ etc.\n",
    "- The number of divisions in stock, $jMax$, and divisions in time $iMax$\n",
    "- The size of the divisions $\\Delta S$ and $\\Delta t$\n",
    "- Vectors to store:\n",
    "    - stock price\n",
    "    - old option values\n",
    "    - new option values\n",
    "    - three diagonal elements (a, b, and c)\n",
    "    - the right hand side of the matrix equation\n",
    "\n",
    "Again, the easiest thing to do is just to declare these at the top of the program before you start doing anything with them.\n",
    "\n",
    "A sample program structure is given in the example code [click here](http://www.maths.manchester.ac.uk/~pjohnson/resources/math60082/MYCODES/solutions-sheet-7-1-0.cpp) and the final solution is [click here](http://www.maths.manchester.ac.uk/~pjohnson/resources/math60082/MYCODES/solutions-sheet-7-1-1.cpp). I have initialised the variables and put the loop in to save time. At each timestep we must solve the matrix equation\n",
    "$$\n",
    "A\\mathbf{V} = b.\n",
    "$$\n",
    "Since the matrix is tridiagonal we need only use three vectors to store all values in the matrix $A$.\n",
    "\n",
    "## Example - A European Put\n",
    "\n",
    "Now, assuming that our vectors are indexed from 0 to $iMax$ (and therefore have $iMax+1$ elements)\n",
    " I will go through an example for a European put with $\\sigma=0.4$, $r=0.05$, $X=2$, $dS=1$, $dt=0.25$, and $jMax=4$. Note here that these calculations could have been done by hand, and trying to replicate an example of this scale with a code is a good way to start, and also to check for bugs/errors.\n",
    "\n",
    "1. First copy the example code from the web, check initial values and the initial setup phase to assign values to vectors such as stock values (that remain constant throughout) and the final payoff condition to the option values are all working correctly. \n",
    "2. Check that you understand the time loop from the example code, inside the loop the code is broken into two\n",
    " sections, matrix setup and matrix solver, both of which may be written into functions later. The following section will outline with an example how to setup and solve the matrix equations."
   ]
  },
  {
   "cell_type": "code",
   "execution_count": 1,
   "metadata": {},
   "outputs": [],
   "source": [
    "#include <iostream>\n",
    "#include <fstream>\n",
    "#include <cmath>\n",
    "#include <vector>\n",
    "using namespace std;"
   ]
  },
  {
   "cell_type": "code",
   "execution_count": 2,
   "metadata": {},
   "outputs": [
    {
     "name": "stdout",
     "output_type": "stream",
     "text": [
      "4 0 0 2 2\n",
      "4 1 1 1 1\n",
      "4 2 2 0 0\n",
      "4 3 3 0 0\n",
      "4 4 4 0 0\n",
      "3 0 0 2 2\n",
      "3 1 1 1 1\n",
      "3 2 2 0 0\n",
      "3 3 3 0 0\n",
      "3 4 4 0 0\n",
      "2 0 0 2 2\n",
      "2 1 1 1 1\n",
      "2 2 2 0 0\n",
      "2 3 3 0 0\n",
      "2 4 4 0 0\n",
      "1 0 0 2 2\n",
      "1 1 1 1 1\n",
      "1 2 2 0 0\n",
      "1 3 3 0 0\n",
      "1 4 4 0 0\n",
      "0 0 0 2 2\n",
      "0 1 1 1 1\n",
      "0 2 2 0 0\n",
      "0 3 3 0 0\n",
      "0 4 4 0 0\n"
     ]
    }
   ],
   "source": [
    "// declare and initialise Black Scholes parameters\n",
    "double S0=1.974,X=2.,T=1.,r=0.05,sigma=0.4;\n",
    "// declare and initialise grid paramaters \n",
    "int iMax=4,jMax=4;\n",
    "// declare and initialise local variables (ds,dt)\n",
    "double S_max=2*X;\n",
    "double dS=S_max/jMax;\n",
    "double dt=T/iMax;\n",
    "// create storage for the stock price and option price (old and new)\n",
    "vector<double> S(jMax+1),vOld(jMax+1),vNew(jMax+1);\n",
    "// setup and initialise the stock price \n",
    "for(int j=0;j<=jMax;j++)\n",
    "{\n",
    "  S[j] = j*dS;\n",
    "}\n",
    "// setup and initialise the final conditions on the option price \n",
    "for(int j=0;j<=jMax;j++)\n",
    "{\n",
    "    vOld[j] = max(X-S[j],0.);\n",
    "    vNew[j] = max(X-S[j],0.);\n",
    "    cout << iMax << \" \" << j << \" \" << S[j] << \" \" << vNew[j] << \" \" << vOld[j] << endl;\n",
    "}\n",
    "// start looping through time levels\n",
    "for(int i=iMax-1;i>=0;i--)\n",
    "{\n",
    "    // declare vectors for matrix equations\n",
    "  \n",
    "    // set up matrix equations a[j]=\n",
    "  \n",
    "    // solve matrix equations with SOR\n",
    "    \n",
    "    // output results\n",
    "    for(int j=0;j<=jMax;j++)\n",
    "    {\n",
    "        cout << i << \" \" << j << \" \" << S[j] << \" \" << vNew[j] << \" \" << vOld[j] << endl;\n",
    "    }\n",
    "    // set old=new \n",
    "    \n",
    "}\n",
    "// finish looping through time levels\n",
    "  \n",
    "// output the estimated option price"
   ]
  },
  {
   "cell_type": "markdown",
   "metadata": {},
   "source": [
    "I tend to use `a`, `b` and `c` to represent the tridagonal matrix $A$, and \n",
    "`d` for the right hand side of the equation. Just remember that it makes\n",
    "things easier if you are consistent with your notation. \n",
    "\n",
    "3. Declare vector storage for the terms `a`, `b`, `c` and `d`, and initialise them to be `jMax+1` in size.\n",
    "4. Set up the matrix values according to the problem."
   ]
  },
  {
   "cell_type": "code",
   "execution_count": 3,
   "metadata": {},
   "outputs": [
    {
     "name": "stdout",
     "output_type": "stream",
     "text": [
      "0 0 1 0 1.97516\n",
      "1 0.0275 -4.105 0.0525 -3.95\n",
      "2 0.135 -4.345 0.185 -0.135\n",
      "3 0.3225 -4.745 0.3975 -0\n",
      "4 0 1 0 0\n"
     ]
    }
   ],
   "source": [
    "for(int i=iMax-1;i>=0;i--)\n",
    "{\n",
    "    // declare vectors for matrix equations\n",
    "    vector<double> a(jMax+1),b(jMax+1),c(jMax+1),d(jMax+1);\n",
    "    // set up matrix equations a[j]=\n",
    "    a[0] = 0.;b[0] = 1.;c[0] = 0.;\n",
    "    d[0] = X*exp(-r*(iMax-i)*dt);\n",
    "    for(int j=1;j<jMax;j++)\n",
    "    {\n",
    "        a[j] = 0.25*(sigma*sigma*j*j-r*j);\n",
    "        b[j] =-0.5*sigma*sigma*j*j - 0.5*r - 1./dt;\n",
    "        c[j] = 0.25*(sigma*sigma*j*j+r*j);\n",
    "        d[j] =-a[j]*vOld[j-1] - (b[j]+2./dt)*vOld[j] - c[j]*vOld[j+1];\n",
    "    }\n",
    "    a[jMax] = 0.;b[jMax] = 1.;c[jMax] = 0.;\n",
    "    d[jMax] = 0.;\n",
    "    // output matrix\n",
    "    for(int j=0;j<=jMax;j++)\n",
    "    {\n",
    "        cout << j << \" \" << a[j] << \" \" << b[j] << \" \" << c[j] << \" \" << d[j] << endl;\n",
    "    }\n",
    "    // just check output at first step\n",
    "    break;\n",
    "}"
   ]
  },
  {
   "cell_type": "markdown",
   "metadata": {},
   "source": [
    "## Matrix Solver\n",
    "\n",
    "Still inside the time loop, we now need to solve the matrix equation. This can be done using either iterative methods (SOR) or direct methods (Thomas's solver). We shall go through the SOR method here as it is more easily adapted to American options.\n",
    "\n",
    "The method is as follows:-\n",
    "1. update the value of $V_j^i$ for each $j$ using the SOR formula\n",
    "2. check whether the residual is less than the tolerance:\n",
    "    - Yes - exit as we have found the solution\n",
    "    - No - go back to step one\n",
    "\n",
    "### The SOR Loop\n",
    "\n",
    "Create a loop in your code after the matrix has been setup, to iterate with\n",
    "SOR until a solution is found.\n",
    "```c++\n",
    "// store the value of sor OUTSIDE the loop to check on convergence\n",
    "int sor;\n",
    "for(sor=0;sor<iterMax;sor++)\n",
    "{\n",
    "//implement sor in here...\n",
    "\n",
    "}\n",
    "```\n",
    "where `iterMax` is the maximum number of iterations you permit (may need to be as high as 10000). Like the simple example from before, you need to write an equation to update the value at the boundary $j=0$, then a loop of equations to update all values in between $1\\leq j < jMax$ and then another at the boundary $j=jMax$."
   ]
  },
  {
   "cell_type": "code",
   "execution_count": 4,
   "metadata": {},
   "outputs": [
    {
     "name": "stdout",
     "output_type": "stream",
     "text": [
      "## Solving at timestep 3\n",
      "0 == \n",
      " ( 1.97516 , 0.975473 , 0.0613783 , 0.00417166 , 0 )\n",
      "1 == \n",
      " ( 1.97516 , 0.976258 , 0.0615803 , 0.00418539 , 0 )\n",
      "2 == \n",
      " ( 1.97516 , 0.976261 , 0.061581 , 0.00418543 , 0 )\n",
      "3 == \n",
      " ( 1.97516 , 0.976261 , 0.061581 , 0.00418543 , 0 )\n",
      " Solved after 3 iterations.\n",
      "## Solving at timestep 2\n",
      "0 == \n",
      " ( 1.95062 , 0.954192 , 0.112138 , 0.0146782 , 0 )\n",
      "1 == \n",
      " ( 1.95062 , 0.954839 , 0.112605 , 0.0147099 , 0 )\n",
      "2 == \n",
      " ( 1.95062 , 0.954845 , 0.112606 , 0.01471 , 0 )\n",
      "3 == \n",
      " ( 1.95062 , 0.954845 , 0.112606 , 0.01471 , 0 )\n",
      " Solved after 3 iterations.\n",
      "## Solving at timestep 1\n",
      "0 == \n",
      " ( 1.92639 , 0.934851 , 0.15469 , 0.0282579 , 0 )\n",
      "1 == \n",
      " ( 1.92639 , 0.935389 , 0.155283 , 0.0282983 , 0 )\n",
      "2 == \n",
      " ( 1.92639 , 0.935397 , 0.155285 , 0.0282984 , 0 )\n",
      "3 == \n",
      " ( 1.92639 , 0.935397 , 0.155285 , 0.0282984 , 0 )\n",
      " Solved after 3 iterations.\n",
      "## Solving at timestep 0\n",
      "0 == \n",
      " ( 1.90246 , 0.917166 , 0.190595 , 0.0429205 , 0 )\n",
      "1 == \n",
      " ( 1.90246 , 0.917618 , 0.191231 , 0.0429637 , 0 )\n",
      "2 == \n",
      " ( 1.90246 , 0.917626 , 0.191233 , 0.0429639 , 0 )\n",
      "3 == \n",
      " ( 1.90246 , 0.917626 , 0.191233 , 0.0429639 , 0 )\n",
      " Solved after 3 iterations.\n"
     ]
    }
   ],
   "source": [
    "// reset initial condition\n",
    "for(int j=0;j<=jMax;j++)\n",
    "{\n",
    "    vOld[j] = max(X-S[j],0.);\n",
    "    vNew[j] = max(X-S[j],0.);\n",
    "}\n",
    "// run through timesteps\n",
    "for(int i=iMax-1;i>=0;i--)\n",
    "{\n",
    "    cout << \"## Solving at timestep \"<< i << \"\\n\";\n",
    "    // declare vectors for matrix equations\n",
    "    vector<double> a(jMax+1),b(jMax+1),c(jMax+1),d(jMax+1);\n",
    "    // set up matrix equations a[j]=\n",
    "    a[0] = 0.;b[0] = 1.;c[0] = 0.;\n",
    "    d[0] = X*exp(-r*(iMax-i)*dt);\n",
    "    for(int j=1;j<jMax;j++)\n",
    "    {\n",
    "        a[j] = 0.25*(sigma*sigma*j*j-r*j);\n",
    "        b[j] =-0.5*sigma*sigma*j*j - 0.5*r - 1./dt;\n",
    "        c[j] = 0.25*(sigma*sigma*j*j+r*j);\n",
    "        d[j] =-a[j]*vOld[j-1] - (b[j]+2./dt)*vOld[j] - c[j]*vOld[j+1];\n",
    "    }\n",
    "    a[jMax] = 0.;b[jMax] = 1.;c[jMax] = 0.;\n",
    "    d[jMax] = 0.;\n",
    "    // solve with SOR method\n",
    "    int sor,iterMax=10;\n",
    "    double tol = 1.e-8,omega=1.;\n",
    "    for(sor=0;sor<iterMax;sor++)\n",
    "    {\n",
    "        double error=0.;\n",
    "        cout << sor << \" == \\n\";\n",
    "        // implement sor in here\n",
    "        {\n",
    "            double y = (d[0] - c[0]*vNew[1])/b[0];\n",
    "            vNew[0] = vNew[0] + omega*(y-vNew[0]); \n",
    "            cout << \" ( \" << vNew[0] << \" , \";\n",
    "        }\n",
    "        for(int j=1;j<jMax;j++)\n",
    "        {\n",
    "            double y = (d[j] - a[j]*vNew[j-1] - c[j]*vNew[j+1])/b[j];\n",
    "            vNew[j] = vNew[j] + omega*(y-vNew[j]); \n",
    "            cout << vNew[j] << \" , \";\n",
    "        }\n",
    "        {\n",
    "            double y = (d[jMax] - a[jMax]*vNew[jMax-1])/b[jMax];\n",
    "            vNew[jMax] = vNew[jMax] + omega*(y-vNew[jMax]); \n",
    "            cout << vNew[jMax] << \" )\\n\";\n",
    "        }\n",
    "        // calculate residual norm ||r|| as sum of absolute values\n",
    "        error += fabs(d[0] - b[0]*vNew[0] - c[0]*vNew[1]);\n",
    "        for(int j=1;j<jMax;j++)\n",
    "            error += fabs(d[j] - a[j]*vNew[j-1] - b[j]*vNew[j] - c[j]*vNew[j+1]);\n",
    "        error += fabs(d[jMax] - a[jMax]*vNew[jMax-1] - b[jMax]*vNew[jMax]);\n",
    "        // make an exit condition when solution found\n",
    "        if(error<tol)\n",
    "          break;\n",
    "    }\n",
    "    cout << \" Solved after \" << sor << \" iterations.\\n\";\n",
    "    // set old=new\n",
    "    vOld=vNew;\n",
    "}"
   ]
  },
  {
   "cell_type": "markdown",
   "metadata": {},
   "source": [
    "Once we have a solution in terms of $S$ and $V$ at particular points, we can get the value of the option at _any_ value of $S$ using interpolation. So to get the value at $S_0=1.974$ we do:"
   ]
  },
  {
   "cell_type": "code",
   "execution_count": 5,
   "metadata": {},
   "outputs": [
    {
     "name": "stdout",
     "output_type": "stream",
     "text": [
      "Value of the option V(S=1.974) = 0.21012\n"
     ]
    }
   ],
   "source": [
    "double optionValue;\n",
    "{\n",
    "    int jStar=S0/dS;\n",
    "    double sum=0.;\n",
    "    sum+=(S0 - S[jStar])/dS * vNew[jStar+1];\n",
    "    sum+=(S[jStar+1] - S0)/dS * vNew[jStar];\n",
    "    optionValue = sum;\n",
    "}\n",
    "cout << \"Value of the option V(S=\"<<S0<<\") = \" <<  optionValue << \"\\n\";"
   ]
  },
  {
   "cell_type": "markdown",
   "metadata": {},
   "source": [
    "and if we want the value at another value (say $S_0=2.141$) we have"
   ]
  },
  {
   "cell_type": "code",
   "execution_count": 6,
   "metadata": {},
   "outputs": [
    {
     "name": "stdout",
     "output_type": "stream",
     "text": [
      "Value of the option V(S=2.141) = 0.170327\n"
     ]
    }
   ],
   "source": [
    "S0=2.141;\n",
    "{\n",
    "    int jStar=S0/dS;\n",
    "    double sum=0.;\n",
    "    sum+=(S0 - S[jStar])/dS * vNew[jStar+1];\n",
    "    sum+=(S[jStar+1] - S0)/dS * vNew[jStar];\n",
    "    optionValue = sum;\n",
    "}\n",
    "cout << \"Value of the option V(S=\"<<S0<<\") = \" <<  optionValue << \"\\n\";"
   ]
  },
  {
   "cell_type": "markdown",
   "metadata": {},
   "source": [
    "Finally, you want to wrap all this code up into a function so that it can be used again and again."
   ]
  }
 ],
 "metadata": {
  "kernelspec": {
   "display_name": "C++14",
   "language": "C++14",
   "name": "xcpp14"
  },
  "language_info": {
   "codemirror_mode": "text/x-c++src",
   "file_extension": ".cpp",
   "mimetype": "text/x-c++src",
   "name": "c++",
   "version": "14"
  }
 },
 "nbformat": 4,
 "nbformat_minor": 2
}
