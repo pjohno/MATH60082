{
 "cells": [
  {
   "cell_type": "markdown",
   "id": "3a3c47e0",
   "metadata": {},
   "source": [
    "# C++ Support Class 1\n",
    "\n",
    "## Using online c++ notebooks\n",
    "\n",
    "The notebooks provide me with an easy way to present multiple code snippets and output values. You should not use them to code up your solutions, although you could quickly change values in them to experiment. The notebook cells must be run in order from the top down, try pressing restarting the kernel and running all cells if it fails. I try to run each cell as if it were it's own cpp program, so that \n",
    "~~~\n",
    "int main()\n",
    "{\n",
    "   // code\n",
    "}\n",
    "~~~\n",
    "looks like\n",
    "~~~\n",
    "{\n",
    "   // code\n",
    "}\n",
    "~~~\n",
    "in the cell. You should be able to copy/paste into a cpp file and run in your own IDE (say Visual Studio) as long as the correct include statements are at the top.\n",
    "\n",
    "\n",
    "## Tasks\n",
    "\n",
    "- Try out the following code in your main program, can you predict what will happen?\n",
    "~~~\n",
    "cout << \" This \";\n",
    "cout << \"is a \";\n",
    "cout << \"sentence \" << endl;\n",
    "cout << \" This \"<< endl << \"is a \"<< endl<< \"sentence \" << endl;\n",
    "~~~\n",
    "- Output strings are enclosed in quotes -- can you find out how to print a quote?\n",
    "- Special characters are preceded by a backslash -- find out what `\\r`, `\\n`, `\\b` and `\\\\` do to the output?\n",
    "- What is the difference between `\\n` and `endl`?\n",
    "\n",
    "## Solutions"
   ]
  },
  {
   "cell_type": "code",
   "execution_count": 1,
   "id": "e1463d1f",
   "metadata": {},
   "outputs": [],
   "source": [
    "#include <iostream>\n",
    "using namespace std;"
   ]
  },
  {
   "cell_type": "code",
   "execution_count": 2,
   "id": "ad576c5e",
   "metadata": {},
   "outputs": [
    {
     "name": "stdout",
     "output_type": "stream",
     "text": [
      " This is a sentence \n",
      " This \n",
      "is a \n",
      "sentence \n"
     ]
    }
   ],
   "source": [
    "{\n",
    "    cout << \" This \";\n",
    "    cout << \"is a \";\n",
    "    cout << \"sentence \" << endl;\n",
    "    cout << \" This \"<< endl << \"is a \"<< endl<< \"sentence \" << endl;\n",
    "}"
   ]
  },
  {
   "cell_type": "code",
   "execution_count": 3,
   "id": "f3692f74",
   "metadata": {},
   "outputs": [
    {
     "name": "stdout",
     "output_type": "stream",
     "text": [
      "Use backslash \\\" to print a \"quote\"\n"
     ]
    }
   ],
   "source": [
    "{\n",
    "    cout << \"Use backslash \\\\\\\" to print a \\\"quote\\\"\" << endl;\n",
    "}"
   ]
  },
  {
   "cell_type": "markdown",
   "id": "64d10ead",
   "metadata": {},
   "source": [
    "We can use `\\n` to start a new line. The difference between this and `endl` is that the latter adds a _flush_ command to send the buffer immediately to screen."
   ]
  },
  {
   "cell_type": "code",
   "execution_count": 4,
   "id": "b028a17b",
   "metadata": {},
   "outputs": [
    {
     "name": "stdout",
     "output_type": "stream",
     "text": [
      "End this line now\n",
      "Another line\n",
      "And another\n"
     ]
    }
   ],
   "source": [
    "{\n",
    "    cout << \"End this line now\\n\";\n",
    "    cout << \"Another line\\n\";\n",
    "    cout << \"And another\" << endl;\n",
    "}"
   ]
  },
  {
   "cell_type": "markdown",
   "id": "4b7c2491",
   "metadata": {},
   "source": [
    "The return carriage moves back to the start of a line, overwriting previously entered characters. "
   ]
  },
  {
   "cell_type": "code",
   "execution_count": 5,
   "id": "f95ab3b3",
   "metadata": {},
   "outputs": [
    {
     "name": "stdout",
     "output_type": "stream",
     "text": [
      "End this line here\r",
      "  art    \r",
      "St\n"
     ]
    }
   ],
   "source": [
    "{\n",
    "    cout << \"End this line here\\r\";\n",
    "    cout << \"  art    \\r\";\n",
    "    cout << \"St\" << endl;\n",
    "}"
   ]
  },
  {
   "cell_type": "markdown",
   "id": "e864e451",
   "metadata": {},
   "source": [
    "Use a backspace `\\b` to move back one character."
   ]
  },
  {
   "cell_type": "code",
   "execution_count": 6,
   "id": "a4a11a10",
   "metadata": {},
   "outputs": [
    {
     "name": "stdout",
     "output_type": "stream",
     "text": [
      "Write somethink\bg"
     ]
    }
   ],
   "source": [
    "{\n",
    "    cout << \"Write somethink\";\n",
    "    cout << \"\\bg\";\n",
    "}"
   ]
  },
  {
   "cell_type": "markdown",
   "id": "de0b5a03",
   "metadata": {},
   "source": [
    "Use `\\\\` to output a backslash to screen."
   ]
  },
  {
   "cell_type": "code",
   "execution_count": 7,
   "id": "f5d5f61b",
   "metadata": {},
   "outputs": [
    {
     "name": "stdout",
     "output_type": "stream",
     "text": [
      "Write a backslash \\ like this \"\\\\\""
     ]
    }
   ],
   "source": [
    "{\n",
    "    cout << \"Write a backslash \\\\ like this \\\"\\\\\\\\\\\"\";\n",
    "}"
   ]
  },
  {
   "cell_type": "markdown",
   "id": "e8274b1e",
   "metadata": {},
   "source": [
    "As stated above, the `endl` command flushes the current buffer to screen and puts an end to the last line. So you will only see the difference if you do something inbetween writing the buffer and displaying on screen, which is a relatively rare occurence."
   ]
  },
  {
   "cell_type": "markdown",
   "id": "a260a643",
   "metadata": {},
   "source": [
    "## Tasks \n",
    "\n",
    "- Try doing some simple calculations with integers and doubles. Work out $$ \\frac{a}{x} + bx \n",
    "$$ $$ ax^2 + bx + c $$ $$ \\frac{a + b*x}{c^4} $$ where $$ a = 1.17745, \\quad b=3, \\quad c=-1004.1, \\text{ and } x = 24.539~. $$ Use brackets to order the calculations. Try declaring the variables $a$, $b$, $c$ and $x$ as int, float or double -- what difference does it make to the solution?\n",
    "- Now include the `cmath` library in your program. Calculate:-\n",
    "\t$$\n",
    "\t\\frac{\\sin(ax)}{x} \n",
    "\t$$\n",
    "\t$$\n",
    "\t\\sum_{i=1}^5 (a + bx)^i\n",
    "\t$$\n",
    "\t$$\n",
    "\t\\sqrt{\\sin(e^{x^a})}\n",
    "\t$$\n",
    "\twhere\n",
    "\t$$\n",
    "\ta = 1.17745, \\quad b=3, \\quad c=-1004.1, \\text{ and } x = 24.539~.\n",
    "\t$$\n",
    "\tThe functions you will need are `sqrt`, `sin`, `cos`, `exp` and , `pow`. Look them up if required. What happens to the result of the top expression if $x=0$?. \n",
    "\n",
    "## Solutions"
   ]
  },
  {
   "cell_type": "code",
   "execution_count": 8,
   "id": "10dda35a",
   "metadata": {},
   "outputs": [
    {
     "name": "stdout",
     "output_type": "stream",
     "text": [
      "73.665\n",
      "-896.462\n",
      "7.35803e-11\n"
     ]
    }
   ],
   "source": [
    "{\n",
    "    double a=1.17745;\n",
    "    double b=3.;\n",
    "    double c=-1004.1;\n",
    "    double x=24.539;\n",
    "    cout << a/x + b*x <<endl;\n",
    "    cout << a*a*x + b*x + c <<endl;\n",
    "    cout << (a+ b*x)/c/c/c/c <<endl;\n",
    "}"
   ]
  },
  {
   "cell_type": "code",
   "execution_count": 9,
   "id": "9bbe1095",
   "metadata": {},
   "outputs": [
    {
     "name": "stdout",
     "output_type": "stream",
     "text": [
      "-0.0236486\n",
      "2.37243e+09\n",
      "0.827972\n"
     ]
    }
   ],
   "source": [
    "#include <cmath>\n",
    "\n",
    "{\n",
    "    double a=1.17745;\n",
    "    double b=3.;\n",
    "    double c=-1004.1;\n",
    "    double x=24.539;\n",
    "    cout << sin(a*x)/x <<endl;\n",
    "    double temp = a+b*x;\n",
    "    double sum = temp + temp*temp + pow(temp,3) + pow(temp,4) + pow(temp,5);\n",
    "    cout << sum <<endl;\n",
    "    cout << sqrt( sin( exp( pow(x,a) ) ) ) <<endl;\n",
    "}"
   ]
  }
 ],
 "metadata": {
  "kernelspec": {
   "display_name": "C++11",
   "language": "C++11",
   "name": "xcpp11"
  },
  "language_info": {
   "codemirror_mode": "text/x-c++src",
   "file_extension": ".cpp",
   "mimetype": "text/x-c++src",
   "name": "c++",
   "version": "11"
  }
 },
 "nbformat": 4,
 "nbformat_minor": 5
}
