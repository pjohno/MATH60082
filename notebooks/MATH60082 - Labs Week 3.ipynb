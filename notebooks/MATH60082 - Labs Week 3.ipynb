{
 "cells": [
  {
   "cell_type": "markdown",
   "id": "395d9448",
   "metadata": {},
   "source": [
    "# Lab Class Week 3\n",
    "\n",
    "Here is an example of outputting to file and then plotting the results just to show you what it should look like. You should use whatever plotting package that you are familiar with. To include plotting functionality in the notebook we need to load some libraries using this special header file:"
   ]
  },
  {
   "cell_type": "code",
   "execution_count": 1,
   "id": "18f0c68d",
   "metadata": {},
   "outputs": [],
   "source": [
    "#include \"math60082_lab_plot_loader.hpp\""
   ]
  },
  {
   "cell_type": "markdown",
   "id": "3329ba76",
   "metadata": {},
   "source": [
    "Here is the starter code from the demonstration. I am just writing the file into the current working directory."
   ]
  },
  {
   "cell_type": "code",
   "execution_count": 2,
   "id": "83c11ab6",
   "metadata": {},
   "outputs": [],
   "source": [
    "// A program to write to a file which can be opened in a spreadsheet\n",
    "#include <iostream>\n",
    "// use fstream for opening files for input/output\n",
    "#include <fstream>\n",
    "#include <sstream>\n",
    "using namespace std;"
   ]
  },
  {
   "cell_type": "code",
   "execution_count": 3,
   "id": "ddc41feb",
   "metadata": {},
   "outputs": [
    {
     "name": "stdout",
     "output_type": "stream",
     "text": [
      " File write successful \n"
     ]
    }
   ],
   "source": [
    "{\n",
    "  // open up a file stream to write data\n",
    "  ofstream output;\n",
    "  // here we are going to use comma separated variables, so end the filename with .csv\n",
    "  \n",
    "  // I'm outputing to current working directory\n",
    "  output.open(\"test.csv\");\n",
    "  \n",
    "  if(!output.is_open())\n",
    "  {\n",
    "    // NOTE!!!! The file will not open unless the directory exists!!!\n",
    "    cout << \" File not opened \\n\";\n",
    "    // stop the program here\n",
    "    throw;\n",
    "  }\n",
    "  // write x vs x^2 to a file\n",
    "  // each column must be separated by a comma\n",
    "  // each row goes on a new line\n",
    "  for(int i=0;i<11;i++)\n",
    "  {\n",
    "    double x=i*0.1;\n",
    "    output << x << \" , \" << x*x << endl; \n",
    "  }\n",
    "  // file write successful then close file\n",
    "  cout << \" File write successful \\n\";\n",
    "  output.close();\n",
    "}\n"
   ]
  },
  {
   "cell_type": "markdown",
   "id": "580b74f7",
   "metadata": {},
   "source": [
    "Here is an example of plotting the file using gnuplot built into the notebook. Note that we require the x and y axes to be labelled. You will need to use your own plotting program to generate the results, such as excel, python, r or matlab. I am not expecting anyone to understand what I am doing to get this to work!!!"
   ]
  },
  {
   "cell_type": "code",
   "execution_count": 4,
   "id": "8454f93b",
   "metadata": {},
   "outputs": [
    {
     "data": {
      "image/png": "[encoded data removed]"
     },
     "execution_count": 4,
     "metadata": {},
     "output_type": "execute_result"
    }
   ],
   "source": [
    "MATH60082::gnuplotImage fig1;\n",
    "{\n",
    "    std::stringstream ss;\n",
    "    ss << \"set datafile separator ','\" << endl;\n",
    "    ss << \"set xlabel 'x'\" << endl;\n",
    "    ss << \"set ylabel 'f(x)=x^2'\" << endl;\n",
    "    ss << \"unset key\"<< endl;\n",
    "    ss << \"p'test.csv' u 1:2 w l\";\n",
    "    fig1 = MATH60082::GnuplotWidget::plotCommand(&ss);\n",
    "    \n",
    "}\n",
    "fig1"
   ]
  },
  {
   "cell_type": "markdown",
   "id": "0db8fc41",
   "metadata": {},
   "source": [
    "## Demo Code"
   ]
  },
  {
   "cell_type": "code",
   "execution_count": 5,
   "id": "32ef2054",
   "metadata": {},
   "outputs": [],
   "source": [
    "double eulersMethod(int n,double a,double b,double alpha)\n",
    "{\n",
    "  // local variables\n",
    "  double h,x,w;\n",
    "  // intialise values\n",
    "  h=(b-a)/(double)(n);\n",
    "  x=a;\n",
    "  w=alpha;\n",
    "  // implement Euler's method\n",
    "  for(int i=0;i<n;i++)\n",
    "  {\n",
    "    x = a + i*h; // update value of x to x_i\n",
    "    w = w + h*(x*exp(3*x)-2.*w); // update w to w_{i+1}\n",
    "  }\n",
    "  return w;\n",
    "}"
   ]
  },
  {
   "cell_type": "markdown",
   "id": "b7e592f1",
   "metadata": {},
   "source": [
    "## Tasks\n",
    "\n",
    "- Run the program and check the value with $n = 10$.\n",
    "- Print out the final value for $n = 10$, 20, 40, 80, ..., what happens?\n",
    "- Calculate the difference between the results $$\\Delta_{n,m} = w_n − w_m$$ with $n = 10$ and $m = 20$, $n = 20$ and $m = 40$ and so on\n",
    "- Can you predict how $\\Delta_{n,m}$ behaves for large $n$ and $m$?\n",
    "\n",
    "## Solutions"
   ]
  },
  {
   "cell_type": "code",
   "execution_count": 6,
   "id": "a170e4fd",
   "metadata": {},
   "outputs": [
    {
     "name": "stdout",
     "output_type": "stream",
     "text": [
      "2.7609\n"
     ]
    }
   ],
   "source": [
    "{\n",
    "    cout << eulersMethod(10,0,1.,0.) << endl;\n",
    "}"
   ]
  },
  {
   "cell_type": "markdown",
   "id": "f80ebcb8",
   "metadata": {},
   "source": [
    "Result agrees with the value from before."
   ]
  },
  {
   "cell_type": "code",
   "execution_count": 7,
   "id": "d4b915f2",
   "metadata": {},
   "outputs": [
    {
     "name": "stdout",
     "output_type": "stream",
     "text": [
      "10 2.7609\n",
      "20 2.98972\n",
      "40 3.10443\n",
      "80 3.16178\n",
      "160 3.19044\n",
      "320 3.20477\n",
      "640 3.21194\n",
      "1280 3.21552\n",
      "2560 3.21731\n"
     ]
    }
   ],
   "source": [
    "for(int k=0;k<=8;k++)\n",
    "{\n",
    "    int n=10*pow(2,k);\n",
    "    cout << n << \" \" << eulersMethod(n,0,1.,0.) << endl;\n",
    "}"
   ]
  },
  {
   "cell_type": "code",
   "execution_count": 8,
   "id": "3f84a416",
   "metadata": {},
   "outputs": [
    {
     "name": "stdout",
     "output_type": "stream",
     "text": [
      "10 2.7609 2.7609\n",
      "20 2.98972 0.228823\n",
      "40 3.10443 0.114705\n",
      "80 3.16178 0.0573499\n",
      "160 3.19044 0.028665\n",
      "320 3.20477 0.0143289\n",
      "640 3.21194 0.00716338\n",
      "1280 3.21552 0.00358141\n",
      "2560 3.21731 0.00179063\n"
     ]
    }
   ],
   "source": [
    "{\n",
    "    double valueOld=0.;\n",
    "    for(int k=0;k<=8;k++)\n",
    "    {\n",
    "        int n=10*pow(2,k);\n",
    "        double value= eulersMethod(n,0,1.,0.);\n",
    "        double diff = value - valueOld;\n",
    "        cout << n << \" \" << value << \" \" << diff << endl;\n",
    "        valueOld=value;\n",
    "    }\n",
    "}"
   ]
  },
  {
   "cell_type": "markdown",
   "id": "725506e2",
   "metadata": {},
   "source": [
    "It looks as though the difference between successive results is tending to zero, which is what we would expect if the series is convergent. Also, when we double the number of points we notice that the difference between successive results is halved, indicating that our approximation\n",
    "$$\n",
    "w_n = y(b) + O(h)\n",
    "$$"
   ]
  },
  {
   "cell_type": "markdown",
   "id": "49d7c1ea",
   "metadata": {},
   "source": [
    "## Tasks:\n",
    "\n",
    "- Try implementing the RK2 method: $$k_1 = f(x_i,w_i)$$ $$k_2 = f(x_i+h,w_i+hk_1)$$ $$w_{i+1} = w_i + 0.5\\cdot h(k_1+k_2) $$\n",
    "- What is the empirical estimate for the convergence of this method?\n",
    "\n",
    "## Solutions"
   ]
  },
  {
   "cell_type": "markdown",
   "id": "808dfe35",
   "metadata": {},
   "source": [
    "One powerful way to reuse your code in C++ is to use template functions. Here we use the syntax `template <class F>` on the line above the function. Then as an argument, we write `const F &f` as the variable. This can now be any class that has the function `operator()(double  , double)` available, including a normal function declared in your code with the correct arguments. "
   ]
  },
  {
   "cell_type": "code",
   "execution_count": 9,
   "id": "586fa07e",
   "metadata": {},
   "outputs": [],
   "source": [
    "template<class F>\n",
    "double RK2Method(int n,double a,double b,double alpha,const F &f)\n",
    "{\n",
    "  // local variables\n",
    "  double h,x,w;\n",
    "  // intialise values\n",
    "  h=(b-a)/(double)(n);\n",
    "  x=a;\n",
    "  w=alpha;\n",
    "  // implement Euler's method\n",
    "  for(int i=0;i<n;i++)\n",
    "  {\n",
    "    x = a + i*h; // update value of x to x_i\n",
    "    double k1 = f(x,w);\n",
    "    double k2 = f(x+h,w+h*k1);\n",
    "    w = w + 0.5*(k1+k2)*h; // update w to w_{i+1}\n",
    "  }\n",
    "  return w;\n",
    "}"
   ]
  },
  {
   "cell_type": "code",
   "execution_count": 10,
   "id": "887e66cc",
   "metadata": {},
   "outputs": [],
   "source": [
    "double exampleFunction(double x,double y)\n",
    "{\n",
    "    return x*exp(3*x)-2.*y;\n",
    "}"
   ]
  },
  {
   "cell_type": "code",
   "execution_count": 11,
   "id": "55eff3a2",
   "metadata": {},
   "outputs": [
    {
     "name": "stdout",
     "output_type": "stream",
     "text": [
      "10 \t 3.29789 \t 0 \t -inf\n",
      "20 \t 3.23831 \t -55.351 \t -nan\n",
      "40 \t 3.22384 \t 4.11644 \t 2.0414\n",
      "80 \t 3.22027 \t 4.06516 \t 2.02331\n",
      "160 \t 3.21939 \t 4.03423 \t 2.01229\n",
      "320 \t 3.21917 \t 4.01752 \t 2.0063\n",
      "640 \t 3.21912 \t 4.00886 \t 2.00319\n",
      "1280 \t 3.2191 \t 4.00445 \t 2.00161\n",
      "2560 \t 3.2191 \t 4.00223 \t 2.0008\n"
     ]
    }
   ],
   "source": [
    "{\n",
    "    int k=2;\n",
    "    \n",
    "    double valueOld=0.;\n",
    "    double diffOld=0.;\n",
    "    for(int i=0;i<=8;i++)\n",
    "    {\n",
    "        int n=10*pow(k,i);\n",
    "        double value= RK2Method(n,0,1.,0.,exampleFunction);\n",
    "        double diff = value - valueOld;\n",
    "        double R = diffOld/diff;\n",
    "        double c = log(R)/log(k);\n",
    "        cout << n << \" \\t \" << value << \" \\t \" << R << \" \\t \" << c << endl;\n",
    "        valueOld= value;\n",
    "        diffOld = diff;\n",
    "    }\n",
    "}"
   ]
  },
  {
   "cell_type": "markdown",
   "id": "b4975015",
   "metadata": {},
   "source": [
    "Clearly, as $c=2$ this method demonstrates second order convergence to the true solution. This means that our estimate \n",
    "$$\n",
    "w_n = y(b) + O(h^2)\n",
    "$$\n",
    "corresponds to the theoretical result."
   ]
  },
  {
   "cell_type": "markdown",
   "id": "88b3082d",
   "metadata": {},
   "source": [
    "This may seem _obvious_, but there are many instances where the theoretical convergence rates cannot be acheived in real problems. This is caused by a breakdown in the underlying assumptions, such as when the function $f$ is not smooth, or in other words is discontinuous in some sense."
   ]
  }
 ],
 "metadata": {
  "kernelspec": {
   "display_name": "C++14",
   "language": "C++14",
   "name": "xcpp14"
  },
  "language_info": {
   "codemirror_mode": "text/x-c++src",
   "file_extension": ".cpp",
   "mimetype": "text/x-c++src",
   "name": "c++",
   "version": "14"
  }
 },
 "nbformat": 4,
 "nbformat_minor": 5
}
