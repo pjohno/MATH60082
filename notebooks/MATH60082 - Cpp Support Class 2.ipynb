{
 "cells": [
  {
   "cell_type": "markdown",
   "id": "0771dffe",
   "metadata": {},
   "source": [
    "# C++ Support Class 2\n",
    "\n",
    "## Tasks\n",
    "\n",
    "- Write a function that takes the arguments $a$, $b$ and $c$, computes and then displays the roots of the quadratic equation $$ax^2 + bx + c =0$$ You will need to identify whether the roots are real or complex. If the roots are complex, display the results in the form $A + Bi$.\n",
    "- Write a loop to calculate and output the first $n$ fibonacci numbers.\n",
    "- Write a loop to calculate and output the binomial coefficients for $0 \\leq k \\leq n$: $$ \\left(\\begin{array}{c} n\\\\k \\end{array}\\right) $$"
   ]
  },
  {
   "cell_type": "code",
   "execution_count": 1,
   "id": "50646a68",
   "metadata": {},
   "outputs": [
    {
     "name": "stdout",
     "output_type": "stream",
     "text": [
      "Roots are -0.5+0.866025i and -1-0.866025i\n"
     ]
    }
   ],
   "source": [
    "#include <iostream>\n",
    "#include <cmath>\n",
    "using namespace std;\n",
    "\n",
    "{\n",
    "    double a=1.;\n",
    "    double b=1.;\n",
    "    double c=1;\n",
    "    \n",
    "    double det = b*b - 4*a*c ;\n",
    "    if(det>0.)\n",
    "    {\n",
    "        cout << \"Roots are \" << (-b + sqrt(det))/2./a << \" and \"<< (-b - sqrt(det))/2./a << endl;\n",
    "    }\n",
    "    else if(det==0.)\n",
    "    {\n",
    "        cout << \"Single root \" << -b/2./a << endl;\n",
    "    }\n",
    "    else\n",
    "    {\n",
    "        cout << \"Roots are \" << -b/2./a << \"+\" << sqrt(-det)/2./a << \"i and \";\n",
    "        cout << -b << \"-\"<< sqrt(-det)/2./a << \"i\" << endl;\n",
    "    }\n",
    "}"
   ]
  },
  {
   "cell_type": "code",
   "execution_count": 2,
   "id": "85155f79",
   "metadata": {},
   "outputs": [
    {
     "name": "stdout",
     "output_type": "stream",
     "text": [
      " First 25 Fibonacci numbers\n",
      "0 1 1 2 3 5 8 13 21 34 55 89 144 233 377 610 987 1597 2584 4181 6765 10946 17711 28657 46368 75025"
     ]
    }
   ],
   "source": [
    "{\n",
    "    int n=25;\n",
    "    \n",
    "    double prev=0.;\n",
    "    double curr=1.;\n",
    "    \n",
    "    cout << \" First \" << n << \" Fibonacci numbers\" << endl;\n",
    "    cout << prev << \" \" << curr;\n",
    "    for(int i=2;i<=n;i++)\n",
    "    {\n",
    "        double next = prev + curr;\n",
    "        cout << \" \" << next;\n",
    "        prev = curr;\n",
    "        curr = next;\n",
    "    }\n",
    "}"
   ]
  },
  {
   "cell_type": "markdown",
   "id": "5443ff70",
   "metadata": {},
   "source": [
    "There are a variety of ways to do this, but I'm looking at a method only using loops (no functions or storage)."
   ]
  },
  {
   "cell_type": "code",
   "execution_count": 3,
   "id": "057495a3",
   "metadata": {},
   "outputs": [
    {
     "name": "stdout",
     "output_type": "stream",
     "text": [
      "126\n"
     ]
    }
   ],
   "source": [
    "{\n",
    "    int n=9;\n",
    "    int k=4;\n",
    "    \n",
    "    double n_choose_k=1.;\n",
    "    for(int i=1;i<=k;i++)\n",
    "        n_choose_k *= double(n + 1 - i)/double(i); \n",
    "    cout << n_choose_k << endl;\n",
    "}"
   ]
  },
  {
   "cell_type": "markdown",
   "id": "de16a2ef",
   "metadata": {},
   "source": [
    "## Tasks\n",
    "\n",
    "- Try writing a different function to solve each of the problems you have encountered so far.\n",
    "- You are given that\n",
    "\t$$\n",
    "\t\\phi(\\eta,\\xi) = e^{-\\lambda_b\\eta} e^{-\\lambda_s\\xi} \n",
    "\t$$\n",
    "\tand\n",
    "\t$$\n",
    "\t\\Gamma(x,t) = (1-\\phi(x^2t,\\sqrt{t})) + \\sin(\\phi (t^{-1},x t^{-2})).\n",
    "\t$$\n",
    "\tWrite two functions to evaluate these quantities. Calculate $\\Gamma$ when $\\lambda_b = 1.3$, $\\lambda_s =0.26$, $x= \\pi^2$ and $t=\\sqrt{3}$. \n",
    "- Think about how you can include parameters in your functions.\n",
    "\n",
    "## Solutions"
   ]
  },
  {
   "cell_type": "markdown",
   "id": "3de11490",
   "metadata": {},
   "source": [
    "An example of a recursive function for Fibonacci numbers"
   ]
  },
  {
   "cell_type": "code",
   "execution_count": 4,
   "id": "399e7840",
   "metadata": {},
   "outputs": [],
   "source": [
    "// BE CAREFUL RUNNING THIS CELL YOU CAN ONLY DECLARE THIS FUNCTION ONCE\n",
    "double fibonacci(int n)\n",
    "{\n",
    "    if(n==0)return 0.;\n",
    "    if(n==1)return 1.;\n",
    "    return fibonacci(n-1) + fibonacci(n-2);\n",
    "}"
   ]
  },
  {
   "cell_type": "code",
   "execution_count": 5,
   "id": "6f16faa0",
   "metadata": {},
   "outputs": [
    {
     "name": "stdout",
     "output_type": "stream",
     "text": [
      " First 25 Fibonacci numbers\n",
      " 0 1 1 2 3 5 8 13 21 34 55 89 144 233 377 610 987 1597 2584 4181 6765 10946 17711 28657 46368 75025"
     ]
    }
   ],
   "source": [
    "{\n",
    "    int n=25;\n",
    "    \n",
    "    cout << \" First \" << n << \" Fibonacci numbers\" << endl;\n",
    "    for(int i=0;i<=n;i++)\n",
    "        cout << \" \" << fibonacci(i);\n",
    "}"
   ]
  },
  {
   "cell_type": "code",
   "execution_count": 6,
   "id": "dc2028ca",
   "metadata": {},
   "outputs": [],
   "source": [
    "double phi(double eta,double xi  ,  double lambda_b,double lambda_s)\n",
    "{\n",
    "    return exp(-lambda_b*eta)*exp(-lambda_s*xi);\n",
    "}"
   ]
  },
  {
   "cell_type": "code",
   "execution_count": 7,
   "id": "376173d7",
   "metadata": {},
   "outputs": [],
   "source": [
    "double Lambda(double x,double t , double lambda_b,double lambda_s)\n",
    "{\n",
    "    return ( 1. - phi(x*x*t , sqrt(t) , lambda_b,lambda_s))\n",
    "        + sin( phi(1./t,x/t/t , lambda_b,lambda_s) );\n",
    "}"
   ]
  },
  {
   "cell_type": "markdown",
   "id": "ae78fe8f",
   "metadata": {},
   "source": [
    "I've used the standard library mathematical constant `M_PI`$=\\pi$, which may or may not be available on your compiler. You can use the formula $\\pi = 4\\tan^{-1}(1)$ if this isn't available."
   ]
  },
  {
   "cell_type": "code",
   "execution_count": 8,
   "id": "64d274e2",
   "metadata": {},
   "outputs": [
    {
     "name": "stdout",
     "output_type": "stream",
     "text": [
      "1.19936"
     ]
    }
   ],
   "source": [
    "{\n",
    "    double lambda_b = 1.3;\n",
    "    double lambda_s = 0.26;\n",
    "    double x = M_PI*M_PI;\n",
    "    double t=sqrt(3);\n",
    "    cout << Lambda(x,t,lambda_b,lambda_s);\n",
    "}"
   ]
  }
 ],
 "metadata": {
  "kernelspec": {
   "display_name": "C++11",
   "language": "C++11",
   "name": "xcpp11"
  },
  "language_info": {
   "codemirror_mode": "text/x-c++src",
   "file_extension": ".cpp",
   "mimetype": "text/x-c++src",
   "name": "c++",
   "version": "11"
  }
 },
 "nbformat": 4,
 "nbformat_minor": 5
}
