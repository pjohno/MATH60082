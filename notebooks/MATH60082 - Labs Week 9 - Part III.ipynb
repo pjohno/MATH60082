{
 "cells": [
  {
   "cell_type": "markdown",
   "metadata": {},
   "source": [
    "# Analysing the Crank-Nicolson Method\n",
    "\n",
    "Click here for the interactive version of this notebook.\n",
    "[![Binder](https://mybinder.org/badge.svg)](https://mybinder.org/v2/gh/pjohno/MATH60082/master?filepath=MATH60082%20-%20Labs%20Weel%209%20-%20Part%20III.ipynb)\n",
    "\n",
    "Here we aim to study the convergence properties of a Crank-Nicolson method solving the European put option problem in finance. We know from the theory that the truncation errors of the method are $O\\big((\\Delta t)^2,(\\Delta S)^2)$, so what happens in reality? There are many sources of error in our algorithm, in particular\n",
    "- finite difference approximations, which are $O\\big( (\\Delta t)^2,(\\Delta S)^2 \\big)$\n",
    "- nonlinearity errors (caused by discontinuity in payoff and any barriers or early exercise boundaries)\n",
    "- truncation errors in the grid (choice of `SMax`)\n",
    "- interpolation errors (since $S_0$ is not necessarily a grid point)\n",
    "- SOR matrix solve (bounded by tolerance)\n",
    "The key point to note here is that any algorithm is only as good as its worst performing error, so improving one or two errors and not improving any of the others is useless. The most efficient implementation of the scheme will make sure each of the errors is roughly of a similar magnitude.\n",
    "\n",
    "We solve the problem\n",
    "$$\n",
    "\\frac{\\partial P}{\\partial t} + \\frac12\\sigma^2S^2\\frac{\\partial^2 P}{\\partial S^2} + rS\\frac{\\partial P}{\\partial S} - rP = 0\n",
    "$$\n",
    "with\n",
    "$$\n",
    "P(S,T) = \\max(X-S,0)\n",
    "$$\n",
    "and\n",
    "$$\n",
    "S_0 = 1.973 \\text{ , } X=2  \\text{ , } T=1 \\text{ , } r=0.05 \\text{ , } \\sigma=0.4\n",
    "$$\n",
    "\n",
    "To implement our analysis we wish to put our algorithm into a function, so that we can easily call it for several numerical parameter combinations. We pass in all option contract and model parameters as well as all of the numerical parameters in the scheme."
   ]
  },
  {
   "cell_type": "code",
   "execution_count": 1,
   "metadata": {},
   "outputs": [],
   "source": [
    "#include <iostream>\n",
    "#include <vector>\n",
    "#include <cmath>\n",
    "#include <algorithm>\n",
    "using namespace std;"
   ]
  },
  {
   "cell_type": "markdown",
   "metadata": {},
   "source": [
    "Now we include our function:"
   ]
  },
  {
   "cell_type": "code",
   "execution_count": 2,
   "metadata": {},
   "outputs": [],
   "source": [
    "/* \n",
    "ON INPUT:\n",
    "S0          -- initial stock price\n",
    "X           -- exercise (strike) price\n",
    "T           -- Time to expiry (years)\n",
    "r           -- interest rate (per annum)\n",
    "sigma       -- volatility (per annum^12)\n",
    "iMax        -- number of time steps\n",
    "jMax        -- number of space steps\n",
    "SMax        -- Maximum value of S\n",
    "omega       -- is the relaxation parameter \n",
    "tol         -- is the tolerance level\n",
    "iterMax     -- is maximum iterations\n",
    "ON OUTPUT:\n",
    "return      -- the value of a European put option at S=S0, t=0\n",
    "*/\n",
    "double europeanPut_CN(double S0,double X,double T,double r,double sigma,int iMax,int jMax,double SMax,double omega,double tol,int iterMax)\n",
    "{\n",
    "    double dS=SMax/jMax;\n",
    "    double dt=T/iMax;\n",
    "    // create storage for the stock price and option price (old and new)\n",
    "    std::vector<double> S(jMax+1),vOld(jMax+1),vNew(jMax+1);\n",
    "    // setup and initialise the stock price \n",
    "    for(int j=0;j<=jMax;j++)\n",
    "    {\n",
    "        S[j] = j*dS;\n",
    "    }\n",
    "    // reset initial condition\n",
    "    for(int j=0;j<=jMax;j++)\n",
    "    {\n",
    "        vOld[j] = std::max(X-S[j],0.);\n",
    "        vNew[j] = std::max(X-S[j],0.);\n",
    "    }\n",
    "    // run through timesteps\n",
    "    for(int i=iMax-1;i>=0;i--)\n",
    "    {\n",
    "        // declare vectors for matrix equations\n",
    "        std::vector<double> a(jMax+1),b(jMax+1),c(jMax+1),d(jMax+1);\n",
    "        // set up matrix equations a[j]=\n",
    "        a[0] = 0.;b[0] = 1.;c[0] = 0.;\n",
    "        d[0] = X*exp(-r*(iMax-i)*dt);\n",
    "        for(int j=1;j<jMax;j++)\n",
    "        {\n",
    "            a[j] = 0.25*(sigma*sigma*j*j-r*j);\n",
    "            b[j] =-0.5*sigma*sigma*j*j - 0.5*r - 1./dt;\n",
    "            c[j] = 0.25*(sigma*sigma*j*j+r*j);\n",
    "            d[j] =-a[j]*vOld[j-1] - (b[j]+2./dt)*vOld[j] - c[j]*vOld[j+1];\n",
    "        }\n",
    "        a[jMax] = 0.;b[jMax] = 1.;c[jMax] = 0.;\n",
    "        d[jMax] = 0.;\n",
    "        // solve with SOR method\n",
    "        int sor;\n",
    "        for(sor=0;sor<iterMax;sor++)\n",
    "        {\n",
    "            double error=0.;\n",
    "            // implement sor in here\n",
    "            {\n",
    "                double y = (d[0] - c[0]*vNew[1])/b[0];\n",
    "                vNew[0] = vNew[0] + omega*(y-vNew[0]); \n",
    "            }\n",
    "            for(int j=1;j<jMax;j++)\n",
    "            {\n",
    "                double y = (d[j] - a[j]*vNew[j-1] - c[j]*vNew[j+1])/b[j];\n",
    "                vNew[j] = vNew[j] + omega*(y-vNew[j]); \n",
    "            }\n",
    "            {\n",
    "                double y = (d[jMax] - a[jMax]*vNew[jMax-1])/b[jMax];\n",
    "                vNew[jMax] = vNew[jMax] + omega*(y-vNew[jMax]); \n",
    "            }\n",
    "            // calculate residual norm ||r|| as sum of absolute values\n",
    "            error += fabs(d[0] - b[0]*vNew[0] - c[0]*vNew[1]);\n",
    "            for(int j=1;j<jMax;j++)\n",
    "                error += fabs(d[j] - a[j]*vNew[j-1] - b[j]*vNew[j] - c[j]*vNew[j+1]);\n",
    "            error += fabs(d[jMax] - a[jMax]*vNew[jMax-1] - b[jMax]*vNew[jMax]);\n",
    "            // make an exit condition when solution found\n",
    "            if(error<tol)\n",
    "                break;\n",
    "        }\n",
    "        if(sor>=iterMax)\n",
    "        {\n",
    "            std::cout << \" Error NOT converging within required iterations\\n\";\n",
    "            std::cout.flush();\n",
    "            throw;\n",
    "        }\n",
    "        // set old=new\n",
    "        vOld=vNew;\n",
    "    }\n",
    "    int jStar=S0/dS;\n",
    "    double sum=0.;\n",
    "    sum+=(S0 - S[jStar])/dS * vNew[jStar+1];\n",
    "    sum+=(S[jStar+1] - S0)/dS * vNew[jStar];\n",
    "    return sum;\n",
    "}\n"
   ]
  },
  {
   "cell_type": "markdown",
   "metadata": {},
   "source": [
    "In order to complete our analysis we will need the analytic solutions of the put option to compare against. So we put these in as functions as well:"
   ]
  },
  {
   "cell_type": "code",
   "execution_count": 3,
   "metadata": {},
   "outputs": [],
   "source": [
    "double normalDistribution(double x)\n",
    "{\n",
    "  return 0.5*erfc(-x/sqrt(2.));\n",
    "}"
   ]
  },
  {
   "cell_type": "code",
   "execution_count": 4,
   "metadata": {},
   "outputs": [],
   "source": [
    "// return the value of a put option using the black scholes formula\n",
    "double europeanPut_exact(double S,double X,double T,double r,double sigma)\n",
    "{\n",
    "  if(fabs(T)<1.e-14) // check if we are at maturity\n",
    "  {\n",
    "    if(S<X)return X-S;\n",
    "    else return 0;\n",
    "  }\n",
    "  if((T)<=-1.e-14)return 0.; // option expired\n",
    "  if(X<1.e-14*S)return 0.; // check if strike << asset then exercise with certainty\n",
    "  if(S<1.e-14*X)return X*exp(-r*(T)) - S; // check if asset << strike then worthless\n",
    "  if(sigma*sigma*(T)<1.e-14) // check if variance very small then no diffusion\n",
    "  {\n",
    "    if(S<X*exp(-r*(T)))return X*exp(-r*(T)) - S;\n",
    "    else return 0.;\n",
    "  }\n",
    "  // calculate option price\n",
    "  double d1=(log(S/X) + (r+sigma*sigma/2.)*(T))/(sigma*sqrt(T));\n",
    "  double d2=(log(S/X) + (r-sigma*sigma/2.)*(T))/(sigma*sqrt(T));\n",
    "  return normalDistribution(-d2)*X*exp(-r*(T)) - normalDistribution(-d1)*S ;\n",
    "}"
   ]
  },
  {
   "cell_type": "markdown",
   "metadata": {},
   "source": [
    "Now declare our Black-Scholes parameters and the put option contract parameters, as well as the grid parameters;"
   ]
  },
  {
   "cell_type": "code",
   "execution_count": 5,
   "metadata": {},
   "outputs": [],
   "source": [
    "// declare and initialise Black Scholes parameters\n",
    "double S0,X,T,r,sigma;\n",
    "// declare and initialise grid paramaters \n",
    "int iMax,jMax;\n",
    "double SMax;"
   ]
  },
  {
   "cell_type": "markdown",
   "metadata": {},
   "source": [
    "and initialise them:"
   ]
  },
  {
   "cell_type": "code",
   "execution_count": 6,
   "metadata": {},
   "outputs": [],
   "source": [
    "// initialise Black Scholes parameters\n",
    "S0=1.973;X=2.;T=1.;r=0.05;sigma=0.4;\n",
    "// initialise grid paramaters \n",
    "iMax=40;jMax=40;SMax=2*X;"
   ]
  },
  {
   "cell_type": "markdown",
   "metadata": {},
   "source": [
    "First let us check that the code is running correctly and the values look sensible, we expect the result from our Crank-Nicolson implementation to be broadly similar to the exact value."
   ]
  },
  {
   "cell_type": "code",
   "execution_count": 7,
   "metadata": {},
   "outputs": [
    {
     "name": "stdout",
     "output_type": "stream",
     "text": [
      "0.273017 0.273152"
     ]
    }
   ],
   "source": [
    "cout << europeanPut_CN(S0,X,T,r,sigma,iMax,jMax,SMax,1,1.e-6,1000);\n",
    "cout << \" \" << europeanPut_exact(S0,X,T,r,sigma);"
   ]
  },
  {
   "cell_type": "markdown",
   "metadata": {},
   "source": [
    "Now lets run for some different values of iMax and jMax..."
   ]
  },
  {
   "cell_type": "code",
   "execution_count": 8,
   "metadata": {},
   "outputs": [
    {
     "name": "stdout",
     "output_type": "stream",
     "text": [
      " n    | V_cn     | V_exact  | error   \n",
      "20 | 0.271973 | 0.273152 | -0.00117863\n",
      "40 | 0.273017 | 0.273152 | -0.000134771\n",
      "80 | 0.273116 | 0.273152 | -3.58068e-05\n",
      "160 | 0.273085 | 0.273152 | -6.66597e-05\n"
     ]
    }
   ],
   "source": [
    "cout << \" n    | V_cn     | V_exact  | error   \\n\";\n",
    "for(int k=1;k<=4;k++)\n",
    "{\n",
    "    int n=10*pow(2,k);\n",
    "    iMax = n;\n",
    "    jMax = n;\n",
    "    double value_exact = europeanPut_exact(S0,X,T,r,sigma);\n",
    "    double value_cn = europeanPut_CN(S0,X,T,r,sigma,iMax,jMax,SMax,1,1.e-6,1000);\n",
    "    cout << n << \" | \" << value_cn;\n",
    "    cout << \" | \" << value_exact << \" | \" ;\n",
    "    cout << value_cn - value_exact << \"\\n\";\n",
    "}"
   ]
  },
  {
   "cell_type": "markdown",
   "metadata": {},
   "source": [
    "If you are running this in the notebook you will notice that it takes quite a while to run, which is to be expected as the code is compiled on the fly. Running this code as a compiled executable (in VS or commandline) will be 100s or even 1000s of times faster.\n",
    "\n",
    "We notice that the last result with $n=160$ is actually _worse_ than the result with $n=80$, which does not seem to make sense. In fact this is caused by an inappropriate boundary condition, since $S_\\text{max}=2X$ is __much__ too small it cause large truncation errors. So we try running the code again this time with $S_\\text{max}=5X$."
   ]
  },
  {
   "cell_type": "code",
   "execution_count": 9,
   "metadata": {},
   "outputs": [
    {
     "name": "stdout",
     "output_type": "stream",
     "text": [
      " n    | V_cn     | V_exact  | error   \n",
      "20 | 0.26121 | 0.273152 | -0.0119412\n",
      "40 | 0.271037 | 0.273152 | -0.00211423\n",
      "80 | 0.2729 | 0.273152 | -0.000251823\n",
      "160 | 0.273158 | 0.273152 | 6.52624e-06\n"
     ]
    }
   ],
   "source": [
    "cout << \" n    | V_cn     | V_exact  | error   \\n\";\n",
    "for(int k=1;k<=4;k++)\n",
    "{\n",
    "    int n=10*pow(2,k);\n",
    "    iMax = n;\n",
    "    jMax = n;\n",
    "    double value_exact = europeanPut_exact(S0,X,T,r,sigma);\n",
    "    double value_cn = europeanPut_CN(S0,X,T,r,sigma,iMax,jMax,5*X,1.2,1.e-6,1000);\n",
    "    cout << n << \" | \" << value_cn;\n",
    "    cout << \" | \" << value_exact << \" | \" ;\n",
    "    cout << value_cn - value_exact << \"\\n\";\n",
    "}"
   ]
  },
  {
   "cell_type": "markdown",
   "metadata": {},
   "source": [
    "This gives slightly better results than before, but we still see problems in the solution. One thing to note here is that the errors with $n=160$ are similar magnitude to the tolerance in our scheme. We should not expect the solution will be more accurate than the tolerance, so we increase the tolerance before increasing $n$ to further investigate the solution."
   ]
  },
  {
   "cell_type": "code",
   "execution_count": 10,
   "metadata": {},
   "outputs": [
    {
     "name": "stdout",
     "output_type": "stream",
     "text": [
      " n    | V_cn     | V_exact  | error   \n",
      "20 | 0.26121 | 0.273152 | -0.0119412\n",
      "40 | 0.271037 | 0.273152 | -0.00211422\n",
      "80 | 0.2729 | 0.273152 | -0.000251822\n",
      "160 | 0.273158 | 0.273152 | 6.52653e-06\n",
      "320 | 0.273123 | 0.273152 | -2.89602e-05\n"
     ]
    }
   ],
   "source": [
    "cout << \" n    | V_cn     | V_exact  | error   \\n\";\n",
    "for(int k=1;k<=5;k++)\n",
    "{\n",
    "    int n=10*pow(2,k);\n",
    "    iMax = n;\n",
    "    jMax = n;\n",
    "    double value_exact = europeanPut_exact(S0,X,T,r,sigma);\n",
    "    double value_cn = europeanPut_CN(S0,X,T,r,sigma,iMax,jMax,5*X,1.4,1.e-8,1000);\n",
    "    cout << n << \" | \" << value_cn;\n",
    "    cout << \" | \" << value_exact << \" | \" ;\n",
    "    cout << value_cn - value_exact << \"\\n\";\n",
    "}"
   ]
  },
  {
   "cell_type": "markdown",
   "metadata": {},
   "source": [
    "So this doesn't look good -- the results haven't actually improved at all. So if it isn't $S_\\text{max}$ or the tolerance which is the problem, what can it be? There shouldn't be any non-linearity errors (grid is aligned to the strike price) so the only one left is the interpolation. To see if this is the problem, we can return the value on a grid node and see how that behaves. So set $S_0=X$ and run again:"
   ]
  },
  {
   "cell_type": "code",
   "execution_count": 11,
   "metadata": {},
   "outputs": [
    {
     "name": "stdout",
     "output_type": "stream",
     "text": [
      " n    | V_cn     | V_exact  | error   \n",
      "20 | 0.247269 | 0.262918 | -0.0156485\n",
      "40 | 0.259262 | 0.262918 | -0.00365595\n",
      "80 | 0.262016 | 0.262918 | -0.000902232\n",
      "160 | 0.262693 | 0.262918 | -0.00022486\n",
      "320 | 0.262862 | 0.262918 | -5.61718e-05\n"
     ]
    }
   ],
   "source": [
    "S0 = X;\n",
    "cout << \" n    | V_cn     | V_exact  | error   \\n\";\n",
    "for(int k=1;k<=5;k++)\n",
    "{\n",
    "    int n=10*pow(2,k);\n",
    "    iMax = n;\n",
    "    jMax = n;\n",
    "    double value_exact = europeanPut_exact(S0,X,T,r,sigma);\n",
    "    double value_cn = europeanPut_CN(S0,X,T,r,sigma,iMax,jMax,5*X,1.4,1.e-8,1000);\n",
    "    cout << n << \" | \" << value_cn;\n",
    "    cout << \" | \" << value_exact << \" | \" ;\n",
    "    cout << value_cn - value_exact << \"\\n\";\n",
    "}"
   ]
  },
  {
   "cell_type": "markdown",
   "metadata": {},
   "source": [
    "In fact this gives very good results and we can very easily extrpolate these values. However, it also implies that the linear interpolation we use in the function is __not good enough__ for extrapolation of values. We need our interpolation to several orders more accurate than the accuracy of the scheme. I recommend using at least cubic interpolation (left as an exercise). To examine how good this method can be if we have accurate results and stable convergence, consider the results above. Let a new estimate of the value be found using the formula (from Richardson extrapolation) \n",
    "$$\n",
    "V_\\text{extrap} = \\frac{4V_{2n} - V_n}{3}\n",
    "$$"
   ]
  },
  {
   "cell_type": "markdown",
   "metadata": {},
   "source": [
    "To implement the Richardson extrapolation we introduce some extra storage to keep hold of the results from previous steps"
   ]
  },
  {
   "cell_type": "code",
   "execution_count": 12,
   "metadata": {},
   "outputs": [],
   "source": [
    "double valueOld=0;\n",
    "double valueOlder=0;"
   ]
  },
  {
   "cell_type": "markdown",
   "metadata": {},
   "source": [
    "Now run the code again and this time include the extrapolated result."
   ]
  },
  {
   "cell_type": "code",
   "execution_count": 13,
   "metadata": {},
   "outputs": [
    {
     "name": "stdout",
     "output_type": "stream",
     "text": [
      " n    | V_cn     | V_exact  | error  | V_extrap | error \n",
      "20 | 0.247269 | 0.262918 | -0.0156485 | 0.329693 | 0.0667747\n",
      "40 | 0.259262 | 0.262918 | -0.00365595 | 0.263259 | 0.000341548\n",
      "80 | 0.262016 | 0.262918 | -0.000902232 | 0.262934 | 1.56755e-05\n",
      "160 | 0.262693 | 0.262918 | -0.00022486 | 0.262919 | 9.31133e-07\n",
      "320 | 0.262862 | 0.262918 | -5.61718e-05 | 0.262918 | 5.74938e-08\n"
     ]
    }
   ],
   "source": [
    "S0 = X;\n",
    "cout << \" n    | V_cn     | V_exact  | error  | V_extrap | error \\n\";\n",
    "for(int k=1;k<=5;k++)\n",
    "{\n",
    "    int n=10*pow(2,k);\n",
    "    iMax = n;\n",
    "    jMax = n;\n",
    "    double value_exact = europeanPut_exact(S0,X,T,r,sigma);\n",
    "    double value_cn = europeanPut_CN(S0,X,T,r,sigma,iMax,jMax,5*X,1.2,1.e-8,1000);\n",
    "    double value_extrap = (4.*value_cn - valueOld)/3.;\n",
    "    cout << n << \" | \" << value_cn;\n",
    "    cout << \" | \" << value_exact << \" | \" ;\n",
    "    cout << value_cn - value_exact << \" | \";\n",
    "    cout << value_extrap << \" | \";\n",
    "    cout << value_extrap - value_exact << \"\\n\";\n",
    "    valueOld = value_cn;\n",
    "}"
   ]
  },
  {
   "cell_type": "markdown",
   "metadata": {},
   "source": [
    "So we can see that using just $n=80$ and $n=160$ we can get a solution which is accurate to six digits. In fact we can even extrapolate the extrapolated results to an even better solution. The formula would be \n",
    "$$\n",
    "V_{\\text{extrap}^2} = \\frac{16V_{4n} -8V_{2n} + V_n}{9} .\n",
    "$$\n",
    "This works for $S=X$, but for values that are not on grid nodes you would need an extremely accurate interpolation to make it work. The final solution is also on the web [click here](http://www.maths.manchester.ac.uk/~pjohnson/resources/math60082/MYCODES/solutions-sheet-7-2-1.cpp)."
   ]
  }
 ],
 "metadata": {
  "kernelspec": {
   "display_name": "C++14",
   "language": "C++14",
   "name": "xcpp14"
  },
  "language_info": {
   "codemirror_mode": "text/x-c++src",
   "file_extension": ".cpp",
   "mimetype": "text/x-c++src",
   "name": "c++",
   "version": "14"
  }
 },
 "nbformat": 4,
 "nbformat_minor": 2
}
