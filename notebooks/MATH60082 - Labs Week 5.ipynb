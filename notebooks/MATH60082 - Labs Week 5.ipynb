{
 "cells": [
  {
   "cell_type": "markdown",
   "id": "7873f729",
   "metadata": {},
   "source": [
    "# Lab Class Week 5\n",
    "\n",
    "## Demo Code\n",
    "\n",
    "Here is a copy of the code available to download from the pdf."
   ]
  },
  {
   "cell_type": "code",
   "execution_count": 1,
   "id": "19886e69",
   "metadata": {},
   "outputs": [],
   "source": [
    "#include <iostream>\n",
    "#include <fstream>\n",
    "#include <random>\n",
    "#include <cmath>\n",
    "#include <vector>\n",
    "#include <algorithm>\n",
    "using namespace std;"
   ]
  },
  {
   "cell_type": "code",
   "execution_count": 2,
   "id": "618daabb",
   "metadata": {},
   "outputs": [],
   "source": [
    "double monteCarlo(double S0,double strikePrice,double interestRate,double sigma,double maturity,int N)\n",
    "{\n",
    "  // declare the random number generator\n",
    "  mt19937 rng;\n",
    "  // declare the distribution\n",
    "  normal_distribution<> ND(0.,1.);\n",
    "  ND(rng);\n",
    "  // initialise sum\n",
    "  double sum=0.;\n",
    "  for(int i=0;i<N;i++)\n",
    "  {\n",
    "    double phi=ND(rng);\n",
    "    double ST=S0 * exp( (interestRate - 0.5*sigma*sigma)*maturity + phi*sigma*sqrt(maturity) );\n",
    "    sum = sum + max( ST - strikePrice , 0. );\n",
    "  }\n",
    "  return sum/N*exp(-interestRate*maturity);\n",
    "}"
   ]
  },
  {
   "cell_type": "code",
   "execution_count": 3,
   "id": "68a78f88",
   "metadata": {},
   "outputs": [
    {
     "name": "stdout",
     "output_type": "stream",
     "text": [
      "1.2671\n"
     ]
    }
   ],
   "source": [
    "{\n",
    "  cout << monteCarlo(9.576,10.,0.05,0.4,0.75,1000) << endl;\n",
    "}"
   ]
  },
  {
   "cell_type": "markdown",
   "id": "8c70fc06",
   "metadata": {},
   "source": [
    "## Tasks\n",
    "\n",
    "- Put the Monte Carlo code into a function, and check the result. Use this code if you get stuck:-[click here to download](https://personalpages.manchester.ac.uk/staff/paul.johnson-2/resources/math60082/MYCODES/solutions-sheet-3-2-5.cpp)\n",
    "- Run this function several times -- what happens?\n",
    "- Write the keyword `static` in front of the declaration of the random number generator like this:-\n",
    "~~~\n",
    "static mt19937 rng;\n",
    "~~~\n",
    "and try again. What happens now?\n",
    "- Run this code for $N=100,200,300,\\dots$ and plot out the results for different $N$. What does it look like?"
   ]
  },
  {
   "cell_type": "markdown",
   "id": "3b3e1a11",
   "metadata": {},
   "source": [
    "First run a few times"
   ]
  },
  {
   "cell_type": "code",
   "execution_count": 4,
   "id": "89d63f37",
   "metadata": {},
   "outputs": [
    {
     "name": "stdout",
     "output_type": "stream",
     "text": [
      "1.2671\n",
      "1.2671\n",
      "1.2671\n",
      "1.2671\n",
      "1.2671\n",
      "1.2671\n"
     ]
    }
   ],
   "source": [
    "{\n",
    "  cout << monteCarlo(9.576,10.,0.05,0.4,0.75,1000) << endl;\n",
    "  cout << monteCarlo(9.576,10.,0.05,0.4,0.75,1000) << endl;\n",
    "  cout << monteCarlo(9.576,10.,0.05,0.4,0.75,1000) << endl;\n",
    "  cout << monteCarlo(9.576,10.,0.05,0.4,0.75,1000) << endl;\n",
    "  cout << monteCarlo(9.576,10.,0.05,0.4,0.75,1000) << endl;\n",
    "  cout << monteCarlo(9.576,10.,0.05,0.4,0.75,1000) << endl;\n",
    "}"
   ]
  },
  {
   "cell_type": "markdown",
   "id": "49932a6d",
   "metadata": {},
   "source": [
    "All the values are the same?!?!?!? This is because the variable `rng` is created every time the function is run, resetting the random number generator back to the start. Fix this by making the variable `static` so that it only gets created once the first time a function is called."
   ]
  },
  {
   "cell_type": "code",
   "execution_count": 5,
   "id": "846314f1",
   "metadata": {},
   "outputs": [],
   "source": [
    "double monteCarloStatic(double S0,double strikePrice,double interestRate,double sigma,double maturity,int N)\n",
    "{\n",
    "  // declare the random number generator\n",
    "  static mt19937 rng;\n",
    "  // declare the distribution\n",
    "  normal_distribution<> ND(0.,1.);\n",
    "  ND(rng);\n",
    "  // initialise sum\n",
    "  double sum=0.;\n",
    "  for(int i=0;i<N;i++)\n",
    "  {\n",
    "    double phi=ND(rng);\n",
    "    double ST=S0 * exp( (interestRate - 0.5*sigma*sigma)*maturity + phi*sigma*sqrt(maturity) );\n",
    "    sum = sum + max( ST - strikePrice , 0. );\n",
    "  }\n",
    "  return sum/N*exp(-interestRate*maturity);\n",
    "}"
   ]
  },
  {
   "cell_type": "markdown",
   "id": "a025563d",
   "metadata": {},
   "source": [
    "I've had to rename the function to get it to work here, you don't have to do that."
   ]
  },
  {
   "cell_type": "code",
   "execution_count": 6,
   "id": "9842c69e",
   "metadata": {},
   "outputs": [
    {
     "name": "stdout",
     "output_type": "stream",
     "text": [
      "1.2671\n",
      "1.33243\n",
      "1.22289\n",
      "1.31114\n",
      "1.55638\n",
      "1.32801\n"
     ]
    }
   ],
   "source": [
    "{\n",
    "  cout << monteCarloStatic(9.576,10.,0.05,0.4,0.75,1000) << endl;\n",
    "  cout << monteCarloStatic(9.576,10.,0.05,0.4,0.75,1000) << endl;\n",
    "  cout << monteCarloStatic(9.576,10.,0.05,0.4,0.75,1000) << endl;\n",
    "  cout << monteCarloStatic(9.576,10.,0.05,0.4,0.75,1000) << endl;\n",
    "  cout << monteCarloStatic(9.576,10.,0.05,0.4,0.75,1000) << endl;\n",
    "  cout << monteCarloStatic(9.576,10.,0.05,0.4,0.75,1000) << endl;\n",
    "}"
   ]
  },
  {
   "cell_type": "markdown",
   "id": "957019cb",
   "metadata": {},
   "source": [
    "Now write some values of this function for different values of $N$."
   ]
  },
  {
   "cell_type": "code",
   "execution_count": 7,
   "id": "05b4a9d8",
   "metadata": {},
   "outputs": [
    {
     "name": "stdout",
     "output_type": "stream",
     "text": [
      " File write successful \n"
     ]
    }
   ],
   "source": [
    "{\n",
    "    // open up a file stream to write data\n",
    "    ofstream output;\n",
    "    // here we are going to use comma separated variables, so end the filename with .csv\n",
    "\n",
    "    // I'm outputing to current working directory\n",
    "    output.open(\"test-5-1.csv\");\n",
    "\n",
    "    if(!output.is_open())\n",
    "    {\n",
    "        // NOTE!!!! The file will not open unless the directory exists!!!\n",
    "        cout << \" File not opened \\n\";\n",
    "        // stop the program here\n",
    "        throw;\n",
    "    }\n",
    "    // write N vs P(a,b,N) to a file\n",
    "    // each column must be separated by a comma\n",
    "    // each row goes on a new line\n",
    "    for(int N=10;N<=1000;N++)\n",
    "    {\n",
    "        output << N << \" , \" << monteCarloStatic(9.576,10.,0.05,0.4,0.75,N) <<endl;\n",
    "    }\n",
    "    // file write successful then close file\n",
    "    cout << \" File write successful \\n\";\n",
    "    output.close();\n",
    "}"
   ]
  },
  {
   "cell_type": "code",
   "execution_count": 8,
   "id": "a4260a62",
   "metadata": {},
   "outputs": [],
   "source": [
    "#include \"math60082_lab_plot_loader.hpp\""
   ]
  },
  {
   "cell_type": "code",
   "execution_count": 9,
   "id": "0058d2df",
   "metadata": {},
   "outputs": [
    {
     "data": {
      "image/png": "[encoded data removed]"
     },
     "execution_count": 9,
     "metadata": {},
     "output_type": "execute_result"
    }
   ],
   "source": [
    "MATH60082::gnuplotImage fig1;\n",
    "{\n",
    "    std::stringstream ss;\n",
    "    ss << \"set datafile separator ','\" << endl;\n",
    "    ss << \"set xlabel 'N'\" << endl;\n",
    "    ss << \"set ylabel 'C(S,t;N)'\" << endl;\n",
    "    ss << \"unset key\"<< endl;\n",
    "    ss << \"p'test-5-1.csv' u 1:2 w l\";\n",
    "    fig1 = MATH60082::GnuplotWidget::plotCommand(&ss);\n",
    "    \n",
    "}\n",
    "fig1"
   ]
  },
  {
   "cell_type": "markdown",
   "id": "91f7dc35",
   "metadata": {},
   "source": [
    "## Tasks\n",
    "\n",
    "- Run this analysis to get confidence intervals for a range of values for $N$ and $M$\n",
    "- If $N*M$ stays the same, what can you say about the confidence interval? Why?\n",
    "- Try different payoff functions, say put options, binary options, different parameters.\n",
    "- What has the most effect on the results?"
   ]
  },
  {
   "cell_type": "markdown",
   "id": "95a82d65",
   "metadata": {},
   "source": [
    "You can change the values of $N$ and $M$ in the box below:-"
   ]
  },
  {
   "cell_type": "code",
   "execution_count": 10,
   "id": "edb7a335",
   "metadata": {},
   "outputs": [
    {
     "name": "stdout",
     "output_type": "stream",
     "text": [
      " ~~~~~~~~~~~~~~~~~~~~~~~~~~~~~~\n",
      " Run results with M=100 samples from V_N, where N=1000.\n",
      " variance = 0.00542748\n",
      " variance of the sample mean = 5.42748e-05\n",
      " 95% confident result is in [1.28119,1.31065] with 100000 total paths.\n"
     ]
    }
   ],
   "source": [
    "{\n",
    "    // run the code 100 times and take the average, like taking N*M paths\n",
    "    int M=100;\n",
    "\n",
    "    // number of paths in each calculation\n",
    "    int N=1000;\n",
    "\n",
    "    cout << \" ~~~~~~~~~~~~~~~~~~~~~~~~~~~~~~\"<<endl;\n",
    "    cout << \" Run results with M=\"<<M<<\" samples from V_N, where N=\"<<N<<\".\"<<endl;\n",
    "\n",
    "    // estimate the mean and variance from the sample\n",
    "    double sum=0.;\n",
    "    double sumSq = 0.;\n",
    "    for(int i=0;i<M;i++)\n",
    "    {\n",
    "        double value = monteCarloStatic(9.576,10.,0.05,0.4,0.75,N);\n",
    "        sum+=value;\n",
    "        sumSq+=value*value;\n",
    "    }\n",
    "    double mean = sum/M;\n",
    "    double variance = sumSq/M - mean*mean;\n",
    "    cout << \" variance = \" << variance << endl; \n",
    "\n",
    "    // get the standard deviation of the sample mean\n",
    "    cout << \" variance of the sample mean = \" << variance/M << endl; \n",
    "    double sd = sqrt(variance/M);\n",
    "    cout << \" 95% confident result is in [\"<<mean-2.*sd << \",\" << mean+2.*sd << \"] with \"<< N*M << \" total paths.\" << endl;\n",
    "\n",
    "}"
   ]
  },
  {
   "cell_type": "markdown",
   "id": "925ac57d",
   "metadata": {},
   "source": [
    "Note that you could use $N=1$ or even just calculate the variance inside the algorithm, but it is more efficient to split out the calculation as outlined above."
   ]
  }
 ],
 "metadata": {
  "kernelspec": {
   "display_name": "C++14",
   "language": "C++14",
   "name": "xcpp14"
  },
  "language_info": {
   "codemirror_mode": "text/x-c++src",
   "file_extension": ".cpp",
   "mimetype": "text/x-c++src",
   "name": "c++",
   "version": "14"
  }
 },
 "nbformat": 4,
 "nbformat_minor": 5
}
