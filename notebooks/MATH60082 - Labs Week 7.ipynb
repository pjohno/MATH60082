{
 "cells": [
  {
   "cell_type": "markdown",
   "id": "88b5b517",
   "metadata": {},
   "source": [
    "# Binomial Trees\n",
    "\n",
    "The two most popular models for using binomial trees to price options are \n",
    "- Cox Ross and Ingersol (1979) (CRR for short) introduced a model whose extra degree of freedom is to set $$ud=1$$ thus $$ u=e^{\\sigma \\sqrt{\\Delta t}},\\quad d=e^{-\\sigma\\sqrt{\\Delta t}},\\quad \n",
    "q=\\frac{e^{r\\Delta t}-d}{u-d} $$\n",
    "- Rendleman and Bartter (1979) choose $$q=\\frac12$$ and so $$u=e^{(r-\\tfrac12\\sigma^2)\\Delta t+\\sigma\\sqrt{\\Delta t}},\\quad d=e^{(r-\\tfrac12\\sigma^2)\\Delta t-\\sigma \\sqrt{\\Delta t}}. $$\n",
    "\n",
    "We wish to generate a stock price tree, so denote the value of the underlying asset after timestep $i$ and upstate $j$ by $S_{ij}$ and we have that:\n",
    "$$\n",
    "S_{ij}=S_0u^jd^{i-j}\n",
    "$$\n",
    "First start with headers:"
   ]
  },
  {
   "cell_type": "code",
   "execution_count": 1,
   "id": "822b7ca1",
   "metadata": {},
   "outputs": [],
   "source": [
    "#include <iostream>\n",
    "#include <iomanip>\n",
    "#include <fstream>\n",
    "#include <cmath>\n",
    "#include <vector>\n",
    "#include <algorithm>\n",
    "using namespace std;"
   ]
  },
  {
   "cell_type": "markdown",
   "id": "d70b6c75",
   "metadata": {},
   "source": [
    "Now declare and initialise the Black Scholes parameters for your chosen problem. Here we are going to value a \n",
    "Black Scholes vanilla European call option with, $S_0=100$, $X=100$, $T=1$, $r=0.06$ and $\\sigma=0.2$, so declare variables\n",
    "for each of these. Next add in an integer to store the number of steps in the tree and call it $n$.\n",
    "Finally add in some local variable to describe the tree, so we have the timestep length $dt$,\n",
    "$u$, $d$ and $q$. Your code should look like:-"
   ]
  },
  {
   "cell_type": "code",
   "execution_count": 2,
   "id": "a63b01cf",
   "metadata": {},
   "outputs": [],
   "source": [
    "{\n",
    "    // declare and initialise Black Scholes parameters\n",
    "    double S0=100.,X=100.,T=1.,r=0.06,sigma=0.2;\n",
    "    // declare and initialise tree paramaters (steps in tree)\n",
    "    int n=3;\n",
    "    // declare and initialise local variables (u,d,q)\n",
    "    double dt,u,d,q;\n",
    "    dt = T/n;\n",
    "    u = exp(sigma*sqrt(dt));\n",
    "    d = exp(-sigma*sqrt(dt));\n",
    "    q = (exp(r*dt)-d)/(u-d);\n",
    "}"
   ]
  },
  {
   "cell_type": "markdown",
   "id": "13b58b54",
   "metadata": {},
   "source": [
    "Then calculate the values for $dt$, $u$, $d$ and $q$, using the appropriate formula, you should check the value of these against those\n",
    "found in my lecture notes.\n",
    "\n",
    "Next we need to create some storage for the values of the stock and option value at each node in the tree. Declare a _vector of vectors_ `stockTree` and `valueTree`, \n",
    "into which we will place our stock price and option values.  They should be initialised to an $n+1\\times n+1$ 2D array, and $n$ is the number of nodes in the tree.\n",
    "\n",
    "Now use a `for` loop and the function `pow` to input the value of the stock at each node in the tree, \n",
    "where $$S_{i,j} \\rightarrow \\text{stockTree[i][j]},$$\n",
    "and then setup the payoff of the option\n",
    "$$\n",
    " V_{n,j}=\\max(S_{n,j}-X,0.).\n",
    "$$\n",
    " "
   ]
  },
  {
   "cell_type": "code",
   "execution_count": 3,
   "id": "9019d849",
   "metadata": {},
   "outputs": [
    {
     "name": "stdout",
     "output_type": "stream",
     "text": [
      "3 0 0\n",
      "3 1 0\n",
      "3 2 12.2401\n",
      "3 3 41.3982\n"
     ]
    }
   ],
   "source": [
    "{\n",
    "    // declare and initialise Black Scholes parameters\n",
    "    double S0=100.,X=100.,T=1.,r=0.06,sigma=0.2;\n",
    "    // declare and initialise tree paramaters (steps in tree)\n",
    "    int n=3;\n",
    "    // declare and initialise local variables (u,d,q)\n",
    "    double dt,u,d,q;\n",
    "    dt = T/n;\n",
    "    u = exp(sigma*sqrt(dt));\n",
    "    d = exp(-sigma*sqrt(dt));\n",
    "    q = (exp(r*dt)-d)/(u-d);\n",
    "    // create storage for the stock price tree and option price tree\n",
    "    vector<vector<double>> stockTree(n+1,vector<double>(n+1));\n",
    "    vector<vector<double>> valueTree(n+1,vector<double>(n+1));\n",
    "    // setup and initialise the stock price tree\n",
    "    for(int i=0;i<=n;i++)\n",
    "    {\n",
    "        for(int j=0;j<=i;j++)\n",
    "        {\n",
    "            stockTree[i][j]=S0*pow(u,j)*pow(d,i-j);\n",
    "        }\n",
    "    }\n",
    "    // setup and initialise the final conditions on the option price tree\n",
    "    for(int j=0;j<=n;j++)\n",
    "    {\n",
    "        valueTree[n][j]=max(stockTree[n][j]-X,0.);\n",
    "        cout << n << \" \" << j << \" \" << valueTree[n][j] << endl;\n",
    "    }\n",
    "    // loop through time levels, setting the option price at each node in the tree\n",
    "\n",
    "    // output the estimated option price\n",
    "\n",
    "}"
   ]
  },
  {
   "cell_type": "markdown",
   "id": "e1d51395",
   "metadata": {},
   "source": [
    "Now we need to loop **backwards** through the tree to generate the value at each node using the equation:\n",
    " $$\n",
    " V_{ij}=e^{-r\\Delta t}(qV_{i+1,j+1}+(1-q)V_{i+1,j}).\n",
    " $$\n",
    " "
   ]
  },
  {
   "cell_type": "code",
   "execution_count": 4,
   "id": "96ecb63e",
   "metadata": {},
   "outputs": [
    {
     "name": "stdout",
     "output_type": "stream",
     "text": [
      " V(S=100,t=0) = 11.552\n"
     ]
    }
   ],
   "source": [
    "{\n",
    "    // declare and initialise Black Scholes parameters\n",
    "    double S0=100.,X=100.,T=1.,r=0.06,sigma=0.2;\n",
    "    // declare and initialise tree paramaters (steps in tree)\n",
    "    int n=3;\n",
    "    // declare and initialise local variables (u,d,q)\n",
    "    double dt,u,d,q;\n",
    "    dt = T/n;\n",
    "    u = exp(sigma*sqrt(dt));\n",
    "    d = exp(-sigma*sqrt(dt));\n",
    "    q = (exp(r*dt)-d)/(u-d);\n",
    "    // create storage for the stock price tree and option price tree\n",
    "    vector<vector<double>> stockTree(n+1,vector<double>(n+1));\n",
    "    vector<vector<double>> valueTree(n+1,vector<double>(n+1));\n",
    "    // setup and initialise the stock price tree\n",
    "    for(int i=0;i<=n;i++)\n",
    "    {\n",
    "        for(int j=0;j<=i;j++)\n",
    "        {\n",
    "            stockTree[i][j]=S0*pow(u,j)*pow(d,i-j);\n",
    "        }\n",
    "    }\n",
    "    // setup and initialise the final conditions on the option price tree\n",
    "    for(int j=0;j<=n;j++)\n",
    "    {\n",
    "        valueTree[n][j]=max(stockTree[n][j]-X,0.);\n",
    "    }\n",
    "    // loop through time levels, setting the option price at each node in the tree\n",
    "    for(int i=n-1;i>=0;i--)\n",
    "    {\n",
    "        for(int j=0;j<=i;j++)\n",
    "        {\n",
    "            valueTree[i][j] = exp(-r*dt)*( q*valueTree[i+1][j+1] + (1-q)*valueTree[i+1][j]);\n",
    "        }\n",
    "    }\n",
    "    // output the estimated option price\n",
    "    cout << \" V(S=\"<<S0<<\",t=0) = \" << valueTree[0][0] << endl;\n",
    "    /** OUTPUT\n",
    "     V *(S=100,t=0) = 11.552\n",
    "     */\n",
    "}"
   ]
  },
  {
   "cell_type": "markdown",
   "id": "26ba5d2a",
   "metadata": {},
   "source": [
    "# Tasks\n",
    "\n",
    "- Create a function returning the value of the binomial tree for a set of given parameters.\n",
    "- Write a code storing two time-levels, and compare (at every stage if needed) with the previous code.\n",
    "- Is it possible to store just one time-level? Try to write a code for this.\n",
    "- Do you notice any difference (time taken for computation) between the codes with different storage requirements?"
   ]
  },
  {
   "cell_type": "markdown",
   "id": "de5f13b8",
   "metadata": {},
   "source": [
    "Now let's put that code in a function"
   ]
  },
  {
   "cell_type": "code",
   "execution_count": 5,
   "id": "8742b9d3",
   "metadata": {},
   "outputs": [],
   "source": [
    "double binomialOptionValue(\n",
    "    // Black Scholes parameters\n",
    "    double S0,\n",
    "    double X,\n",
    "    double T,\n",
    "    double r,\n",
    "    double sigma,\n",
    "    // Steps in tree\n",
    "    int n\n",
    ")\n",
    "{\n",
    "    // declare and initialise local variables (u,d,q)\n",
    "    double dt,u,d,q;\n",
    "    dt = T/n;\n",
    "    u = exp(sigma*sqrt(dt));\n",
    "    d = exp(-sigma*sqrt(dt));\n",
    "    q = (exp(r*dt)-d)/(u-d);\n",
    "    // create storage for the stock price tree and option price tree\n",
    "    vector<vector<double>> stockTree(n+1,vector<double>(n+1));\n",
    "    vector<vector<double>> valueTree(n+1,vector<double>(n+1));\n",
    "    // setup and initialise the stock price tree\n",
    "    for(int i=0;i<=n;i++)\n",
    "    {\n",
    "        for(int j=0;j<=i;j++)\n",
    "        {\n",
    "            stockTree[i][j]=S0*pow(u,j)*pow(d,i-j);\n",
    "        }\n",
    "    }\n",
    "    // setup and initialise the final conditions on the option price tree\n",
    "    for(int j=0;j<=n;j++)\n",
    "    {\n",
    "        valueTree[n][j]=max(stockTree[n][j]-X,0.);\n",
    "    }\n",
    "    // loop through time levels, setting the option price at each node in the tree\n",
    "    for(int i=n-1;i>=0;i--)\n",
    "    {\n",
    "        for(int j=0;j<=i;j++)\n",
    "        {\n",
    "            valueTree[i][j] = exp(-r*dt)*( q*valueTree[i+1][j+1] + (1-q)*valueTree[i+1][j]);\n",
    "        }\n",
    "    }\n",
    "    // return the estimated option price\n",
    "    return valueTree[0][0];\n",
    "}"
   ]
  },
  {
   "cell_type": "code",
   "execution_count": 6,
   "id": "d53f667a",
   "metadata": {},
   "outputs": [
    {
     "name": "stdout",
     "output_type": "stream",
     "text": [
      " V(S=100,t=0) = 11.552\n"
     ]
    }
   ],
   "source": [
    "{\n",
    "    // declare and initialise Black Scholes parameters\n",
    "    double S0=100.,X=100.,T=1.,r=0.06,sigma=0.2;\n",
    "    // declare and initialise tree paramaters (steps in tree)\n",
    "    int n=3;\n",
    "    // output the estimated option price\n",
    "    cout << \" V(S=\"<<S0<<\",t=0) = \" << binomialOptionValue(S0,X,T,r,sigma,n) << endl;\n",
    "    /** OUTPUT\n",
    "     V *(S=100,t=0) = 11.552\n",
    "     */\n",
    "}"
   ]
  },
  {
   "cell_type": "markdown",
   "id": "b74ceb08",
   "metadata": {},
   "source": [
    "You could do this without storing all those values. We also introduce a template to solve for a generic payoff."
   ]
  },
  {
   "cell_type": "code",
   "execution_count": 7,
   "id": "bc4d7fd9",
   "metadata": {},
   "outputs": [],
   "source": [
    "template < class F >\n",
    "double binomialOptionValueAdvanced(\n",
    "    // Black Scholes parameters\n",
    "    double S0,\n",
    "    double T,\n",
    "    double r,\n",
    "    double sigma,\n",
    "    // Steps in tree\n",
    "    int n,\n",
    "    // generic payoff\n",
    "    const F &payoff\n",
    ")\n",
    "{\n",
    "    // declare and initialise local variables (u,d,q)\n",
    "    double dt,u,d,q;\n",
    "    dt = T/n;\n",
    "    u = exp(sigma*sqrt(dt));\n",
    "    d = exp(-sigma*sqrt(dt));\n",
    "    q = (exp(r*dt)-d)/(u-d);\n",
    "    // create storage for the option price\n",
    "    vector<double> valueTree(n+1);\n",
    "    \n",
    "    // setup and initialise the final conditions on the option price tree\n",
    "    for(int j=0;j<=n;j++)\n",
    "    {\n",
    "        valueTree[j]=payoff(S0*pow(u,j)*pow(d,n-j));\n",
    "    }\n",
    "    // loop through time levels, setting the option price at each node in the tree\n",
    "    for(int i=n-1;i>=0;i--)\n",
    "    {\n",
    "        for(int j=0;j<=i;j++)\n",
    "        {\n",
    "            valueTree[j] = exp(-r*dt)*( q*valueTree[j+1] + (1-q)*valueTree[j]);\n",
    "        }\n",
    "    }\n",
    "    // return the estimated option price\n",
    "    return valueTree[0];\n",
    "}"
   ]
  },
  {
   "cell_type": "markdown",
   "id": "727786cf",
   "metadata": {},
   "source": [
    " The syntax here is to introduce a _lambda_ function, the syntax is:\n",
    " ~~~\n",
    " auto functionName = [ capture list ] ( argument list ) { function definition } ;\n",
    " ~~~\n",
    " so for a simple call option payoff, we want to\n",
    " - capture the strike price $X$,\n",
    " - make it a function of $S$, so the argument list is `double S`\n",
    " - define the function to return $\\max(S-X,0)$\n",
    " which looks like\n",
    " ~~~\n",
    " auto callPayoff = [ X ] ( double S ) { return max(S-X,0.); } ;\n",
    " ~~~"
   ]
  },
  {
   "cell_type": "code",
   "execution_count": 8,
   "id": "401a3d98",
   "metadata": {},
   "outputs": [
    {
     "name": "stdout",
     "output_type": "stream",
     "text": [
      " V(S=100,t=0) = 11.552\n"
     ]
    }
   ],
   "source": [
    "{\n",
    "    // declare and initialise Black Scholes parameters\n",
    "    double S0=100.,X=100.,T=1.,r=0.06,sigma=0.2;\n",
    "    // declare and initialise tree paramaters (steps in tree)\n",
    "    int n=3;\n",
    "    auto callPayoff = [X](double S){return max(S-X,0.);};\n",
    "    // output the estimated option price\n",
    "    cout << \" V(S=\"<<S0<<\",t=0) = \" << binomialOptionValueAdvanced(S0,T,r,sigma,n,callPayoff) << endl;\n",
    "    /** OUTPUT\n",
    "     V *(S=100,t=0) = 11.552\n",
    "     */\n",
    "}"
   ]
  },
  {
   "cell_type": "markdown",
   "id": "8d602389",
   "metadata": {},
   "source": [
    "# Convergence Properties\n",
    "\n"
   ]
  },
  {
   "cell_type": "markdown",
   "id": "96f973fb",
   "metadata": {},
   "source": [
    "Now we wish to investigate what happens when $N$ is increasing. Write the following loop in your code to output\n",
    "some results to file, you will need to adjust the output filename depending on you preference for where the file should be saved\n"
   ]
  },
  {
   "cell_type": "code",
   "execution_count": 9,
   "id": "de38a1fa",
   "metadata": {},
   "outputs": [],
   "source": [
    "#include \"math60082_lab_plot_loader.hpp\""
   ]
  },
  {
   "cell_type": "code",
   "execution_count": 10,
   "id": "1de8b662",
   "metadata": {},
   "outputs": [
    {
     "name": "stdout",
     "output_type": "stream",
     "text": [
      " File write successful \n"
     ]
    }
   ],
   "source": [
    "{\n",
    "    // open up a file stream to write data\n",
    "    ofstream output;\n",
    "    // here we are going to use comma separated variables, so end the filename with .csv\n",
    "\n",
    "    // I'm outputing to current working directory\n",
    "    output.open(\"test-7-1.csv\");\n",
    "\n",
    "    if(!output.is_open())\n",
    "    {\n",
    "        // NOTE!!!! The file will not open unless the directory exists!!!\n",
    "        cout << \" File not opened \\n\";\n",
    "        // stop the program here\n",
    "        throw;\n",
    "    }\n",
    "    // write N vs C(S0,t=0,N) to a file\n",
    "    // each column must be separated by a comma\n",
    "    // each row goes on a new line\n",
    "    double S0=100.,X=100.,T=1.,r=0.06,sigma=0.2;\n",
    "    auto callPayoff = [X](double S){return max(S-X,0.);};\n",
    "    for(int n=10;n<=1000;n++)\n",
    "    {\n",
    "        output << n << \" , \" << binomialOptionValueAdvanced(S0,T,r,sigma,n,callPayoff) <<endl;\n",
    "    }\n",
    "    // file write successful then close file\n",
    "    cout << \" File write successful \\n\";\n",
    "    output.close();\n",
    "}"
   ]
  },
  {
   "cell_type": "code",
   "execution_count": 11,
   "id": "50d217bc",
   "metadata": {},
   "outputs": [
    {
     "data": {
      "image/png": "[encoded data removed]"
     },
     "execution_count": 11,
     "metadata": {},
     "output_type": "execute_result"
    }
   ],
   "source": [
    "MATH60082::gnuplotImage fig1;\n",
    "{\n",
    "    std::stringstream ss;\n",
    "    ss << \"set datafile separator ','\" << endl;\n",
    "    ss << \"set xlabel 'N'\" << endl;\n",
    "    ss << \"set ylabel 'C(S,t;N)'\" << endl;\n",
    "    ss << \"unset key\"<< endl;\n",
    "    ss << \"p'test-7-1.csv' u 1:2 w l\";\n",
    "    fig1 = MATH60082::GnuplotWidget::plotCommand(&ss);\n",
    "    \n",
    "}\n",
    "fig1"
   ]
  },
  {
   "cell_type": "code",
   "execution_count": 12,
   "id": "e67bf078",
   "metadata": {},
   "outputs": [
    {
     "name": "stdout",
     "output_type": "stream",
     "text": [
      " File write successful \n"
     ]
    }
   ],
   "source": [
    "{\n",
    "    // open up a file stream to write data\n",
    "    ofstream output;\n",
    "    // here we are going to use comma separated variables, so end the filename with .csv\n",
    "\n",
    "    // I'm outputing to current working directory\n",
    "    output.open(\"test-7-2.csv\");\n",
    "\n",
    "    if(!output.is_open())\n",
    "    {\n",
    "        // NOTE!!!! The file will not open unless the directory exists!!!\n",
    "        cout << \" File not opened \\n\";\n",
    "        // stop the program here\n",
    "        throw;\n",
    "    }\n",
    "    // write N vs C(S0,t=0,N) to a file\n",
    "    // each column must be separated by a comma\n",
    "    // each row goes on a new line\n",
    "    double S0=97.3467,X=100.,T=1.,r=0.06,sigma=0.2;\n",
    "    auto callPayoff = [X](double S){return max(S-X,0.);};\n",
    "    for(int n=10;n<=1000;n++)\n",
    "    {\n",
    "        output << n << \" , \" << binomialOptionValueAdvanced(S0,T,r,sigma,n,callPayoff) <<endl;\n",
    "    }\n",
    "    // file write successful then close file\n",
    "    cout << \" File write successful \\n\";\n",
    "    output.close();\n",
    "}"
   ]
  },
  {
   "cell_type": "code",
   "execution_count": 13,
   "id": "5be9dc90",
   "metadata": {},
   "outputs": [
    {
     "data": {
      "image/png": "[encoded data removed]"
     },
     "execution_count": 13,
     "metadata": {},
     "output_type": "execute_result"
    }
   ],
   "source": [
    "MATH60082::gnuplotImage fig2;\n",
    "{\n",
    "    std::stringstream ss;\n",
    "    ss << \"set datafile separator ','\" << endl;\n",
    "    ss << \"set xlabel 'N'\" << endl;\n",
    "    ss << \"set ylabel 'C(S,t;N)'\" << endl;\n",
    "    ss << \"unset key\"<< endl;\n",
    "    ss << \"p'test-7-2.csv' u 1:2 w l\";\n",
    "    fig2 = MATH60082::GnuplotWidget::plotCommand(&ss);\n",
    "    \n",
    "}\n",
    "fig2"
   ]
  },
  {
   "cell_type": "markdown",
   "id": "fdbd6026",
   "metadata": {},
   "source": [
    "Now try with a different payoff, \n",
    "$$\n",
    "BC(S,T) = \\left\\{    \n",
    "\\begin{array}{cc}\n",
    "A & \\text{ if } S>X \\\\\n",
    "0 & \\text{ if } S\\leq X\n",
    "\\end{array}\n",
    "\\right.\n",
    "$$"
   ]
  },
  {
   "cell_type": "code",
   "execution_count": 14,
   "id": "a546318a",
   "metadata": {},
   "outputs": [
    {
     "name": "stdout",
     "output_type": "stream",
     "text": [
      " File write successful \n"
     ]
    }
   ],
   "source": [
    "{\n",
    "    // open up a file stream to write data\n",
    "    ofstream output;\n",
    "    // here we are going to use comma separated variables, so end the filename with .csv\n",
    "\n",
    "    // I'm outputing to current working directory\n",
    "    output.open(\"test-7-3.csv\");\n",
    "\n",
    "    if(!output.is_open())\n",
    "    {\n",
    "        // NOTE!!!! The file will not open unless the directory exists!!!\n",
    "        cout << \" File not opened \\n\";\n",
    "        // stop the program here\n",
    "        throw;\n",
    "    }\n",
    "    // write N vs C(S0,t=0,N) to a file\n",
    "    // each column must be separated by a comma\n",
    "    // each row goes on a new line\n",
    "    double S0=97.3467,A=10.,X=100.,T=1.,r=0.06,sigma=0.2;\n",
    "    auto binaryCallPayoff = [A,X](double S){\n",
    "        if(S>X)\n",
    "            return A;\n",
    "        else\n",
    "            return 0.;\n",
    "    };\n",
    "    for(int n=10;n<=1000;n++)\n",
    "    {\n",
    "        output << n << \" , \" << binomialOptionValueAdvanced(S0,T,r,sigma,n,binaryCallPayoff) <<endl;\n",
    "    }\n",
    "    // file write successful then close file\n",
    "    cout << \" File write successful \\n\";\n",
    "    output.close();\n",
    "}"
   ]
  },
  {
   "cell_type": "code",
   "execution_count": 15,
   "id": "c6279849",
   "metadata": {},
   "outputs": [
    {
     "data": {
      "image/png": "[encoded data removed]"
     },
     "execution_count": 15,
     "metadata": {},
     "output_type": "execute_result"
    }
   ],
   "source": [
    "MATH60082::gnuplotImage fig3;\n",
    "{\n",
    "    std::stringstream ss;\n",
    "    ss << \"set datafile separator ','\" << endl;\n",
    "    ss << \"set xlabel 'N'\" << endl;\n",
    "    ss << \"set ylabel 'C(S,t;N)'\" << endl;\n",
    "    ss << \"unset key\"<< endl;\n",
    "    ss << \"p'test-7-3.csv' u 1:2 w l\";\n",
    "    fig3 = MATH60082::GnuplotWidget::plotCommand(&ss);\n",
    "    \n",
    "}\n",
    "fig3"
   ]
  },
  {
   "cell_type": "markdown",
   "id": "98978266",
   "metadata": {},
   "source": [
    "The shape looks quite different, so why is this? The reason is to do with the discrete approximation of the payoff as compared to the continuous value we are trying to solve for. In this case for the binary option, we have a _rectangle_ shape for area under the payoff, where as in a call option the area under the payoff forms a _triangle_.\n",
    "\n",
    "The major error that we are seeing here is due to the value of the payoff at the node closest to the strike price. There are some suggestions in the literature as to how this should be tackled. For instance try the payoff:\n",
    "$$\n",
    "V_{n,j} = \\left\\{\\begin{array}{ccc}\n",
    "0 & \\text{ if } &S_j^N<2X - S^N_{j+1}\\\\\n",
    "&&\\\\\n",
    "A\\frac{S^N_{j+1} + S^N_j - 2X}{S^N_{j+1}-S^N_{j-1}} & \\text{ if } &2X - S^N_{j+1}\\leq  S_j^N  \\leq 2X-S^N_{j-1} \\\\\n",
    "&&\\\\\n",
    "A & \\text{ if } &S_j^N > 2X-S^N_{j-1}\n",
    "\\end{array}\\right.\n",
    "$$"
   ]
  },
  {
   "cell_type": "code",
   "execution_count": 16,
   "id": "4b3ce816",
   "metadata": {},
   "outputs": [
    {
     "name": "stdout",
     "output_type": "stream",
     "text": [
      "0 5 51.7189\n",
      "1 5 58.6926\n",
      "2 5 66.6067\n",
      "3 5 75.5879\n",
      "4 5 85.7802\n",
      "5 5 97.3467\n",
      "6 5 110.473\n",
      "7 5 125.369\n",
      "8 5 142.274\n",
      "9 5 161.458\n",
      "10 5 183.229\n"
     ]
    }
   ],
   "source": [
    "{\n",
    "    \n",
    "    double S0=97.3467,A=10.,X=100.,T=1.,r=0.06,sigma=0.2;\n",
    "    int n=10;\n",
    "    double dt,u,d;\n",
    "    dt = T/n;\n",
    "    u = exp(sigma*sqrt(dt));\n",
    "    d = exp(-sigma*sqrt(dt));\n",
    "    \n",
    "    int jStar = log(X/S0/pow(d,n)) / log(u/d) + 0.5;\n",
    "    \n",
    "    for(int j=0;j<=n;j++)\n",
    "    {\n",
    "        cout << j << \" \" << jStar << \" \" << S0*pow(u,j)*pow(d,n-j) <<endl;\n",
    "    }\n",
    "    \n",
    "}"
   ]
  },
  {
   "cell_type": "code",
   "execution_count": 17,
   "id": "312d4fb2",
   "metadata": {},
   "outputs": [
    {
     "name": "stdout",
     "output_type": "stream",
     "text": [
      " File write successful \n"
     ]
    }
   ],
   "source": [
    "{\n",
    "    // open up a file stream to write data\n",
    "    ofstream output;\n",
    "    // here we are going to use comma separated variables, so end the filename with .csv\n",
    "\n",
    "    // I'm outputing to current working directory\n",
    "    output.open(\"test-7-4.csv\");\n",
    "\n",
    "    if(!output.is_open())\n",
    "    {\n",
    "        // NOTE!!!! The file will not open unless the directory exists!!!\n",
    "        cout << \" File not opened \\n\";\n",
    "        // stop the program here\n",
    "        throw;\n",
    "    }\n",
    "    // write N vs C(S0,t=0,N) to a file\n",
    "    // each column must be separated by a comma\n",
    "    // each row goes on a new line\n",
    "    double S0=97.3467,A=10.,X=100.,T=1.,r=0.06,sigma=0.2;\n",
    "    for(int n=10;n<=1000;n++)\n",
    "    {\n",
    "        auto binaryCallPayoff = [A,X,T,sigma,n](double S){\n",
    "            double dt,u,d;\n",
    "            dt = T/n;\n",
    "            u = exp(sigma*sqrt(dt));\n",
    "            d = exp(-sigma*sqrt(dt));\n",
    "    \n",
    "            double Sj = S;\n",
    "            double Sjplus = Sj*u/d;\n",
    "            double Sjminus = Sj*d/u;\n",
    "  \n",
    "            if(Sj < 2*X-Sjplus)\n",
    "                return 0.;\n",
    "            else if ( Sj>= 2*X-Sjplus && Sj <= 2*X-Sjminus)\n",
    "                return A*(Sjplus+Sj-2*X)/(Sjplus-Sjminus);\n",
    "            else                \n",
    "                return A;\n",
    "\n",
    "        };\n",
    "    \n",
    "        output << n << \" , \" << binomialOptionValueAdvanced(S0,T,r,sigma,n,binaryCallPayoff) << endl;\n",
    "    }\n",
    "    // file write successful then close file\n",
    "    cout << \" File write successful \\n\";\n",
    "    output.close();\n",
    "}"
   ]
  },
  {
   "cell_type": "code",
   "execution_count": 18,
   "id": "df79f3d3",
   "metadata": {},
   "outputs": [
    {
     "data": {
      "image/png": "[encoded data removed]"
     },
     "execution_count": 18,
     "metadata": {},
     "output_type": "execute_result"
    }
   ],
   "source": [
    "MATH60082::gnuplotImage fig4;\n",
    "{\n",
    "    std::stringstream ss;\n",
    "    ss << \"set datafile separator ','\" << endl;\n",
    "    ss << \"set xlabel 'N'\" << endl;\n",
    "    ss << \"set ylabel 'C(S,t;N)'\" << endl;\n",
    "    ss << \"unset key\"<< endl;\n",
    "    ss << \"p'test-7-4.csv' u 1:2 w l\";\n",
    "    fig4 = MATH60082::GnuplotWidget::plotCommand(&ss);\n",
    "    \n",
    "}\n",
    "fig4"
   ]
  },
  {
   "cell_type": "markdown",
   "id": "287ded81",
   "metadata": {},
   "source": [
    "Convergence is much improved!\n",
    "\n",
    "Now try using the same idea on a call option. If the midpoint between nodes are given by \n",
    "$$\n",
    "S_{j+1/2}^n = \\frac12 (S_{j+1}^n+S_j^n)\n",
    "$$\n",
    "and\n",
    "$$\n",
    "S_{j-1/2}^n = \\frac12 (S_{j}^n+S_{j-1}^n),\n",
    "$$\n",
    "then the payoff at the node closest to the strike price can be found by integrating\n",
    "$$\n",
    "\\int_X^{S^n_{j+1/2}} (S-X) dS\n",
    "$$\n",
    "so we get\n",
    "$$\n",
    "V_j^n = \\frac{ \\frac12 (S_{j+1/2}-X)^2 }{S_{j+1/2}^n-S_{j-1/2}^n }.\n",
    "$$"
   ]
  },
  {
   "cell_type": "code",
   "execution_count": 19,
   "id": "b225fa37",
   "metadata": {},
   "outputs": [
    {
     "name": "stdout",
     "output_type": "stream",
     "text": [
      " File write successful \n"
     ]
    }
   ],
   "source": [
    "{\n",
    "    // open up a file stream to write data\n",
    "    ofstream output;\n",
    "    // here we are going to use comma separated variables, so end the filename with .csv\n",
    "\n",
    "    // I'm outputing to current working directory\n",
    "    output.open(\"test-7-4.csv\");\n",
    "\n",
    "    if(!output.is_open())\n",
    "    {\n",
    "        // NOTE!!!! The file will not open unless the directory exists!!!\n",
    "        cout << \" File not opened \\n\";\n",
    "        // stop the program here\n",
    "        throw;\n",
    "    }\n",
    "    // write N vs C(S0,t=0,N) to a file\n",
    "    // each column must be separated by a comma\n",
    "    // each row goes on a new line\n",
    "    double S0=97.3467,A=10.,X=100.,T=1.,r=0.06,sigma=0.2;\n",
    "    for(int n=10;n<=1000;n++)\n",
    "    {\n",
    "        auto binaryCallPayoff = [A,X,T,sigma,n](double S){\n",
    "            double dt,u,d;\n",
    "            dt = T/n;\n",
    "            u = exp(sigma*sqrt(dt));\n",
    "            d = exp(-sigma*sqrt(dt));\n",
    "    \n",
    "            double Sj = S;\n",
    "            double Sjplus = Sj*u/d;\n",
    "            double Sjminus = Sj*d/u;\n",
    "  \n",
    "            if(Sj < 2*X-Sjplus)\n",
    "                return 0.;\n",
    "            else if ( Sj>= 2*X-Sjplus && Sj <= 2*X-Sjminus)\n",
    "                return (0.5*(Sjplus+Sj)-X)*(0.5*(Sjplus+Sj)-X)/(Sjplus-Sjminus);\n",
    "            else                \n",
    "                return Sj-X;\n",
    "\n",
    "        };\n",
    "    \n",
    "        output << n << \" , \" << binomialOptionValueAdvanced(S0,T,r,sigma,n,binaryCallPayoff) << endl;\n",
    "    }\n",
    "    // file write successful then close file\n",
    "    cout << \" File write successful \\n\";\n",
    "    output.close();\n",
    "}"
   ]
  },
  {
   "cell_type": "code",
   "execution_count": 20,
   "id": "42215907",
   "metadata": {},
   "outputs": [
    {
     "data": {
      "image/png": "[encoded data removed]"
     },
     "execution_count": 20,
     "metadata": {},
     "output_type": "execute_result"
    }
   ],
   "source": [
    "MATH60082::gnuplotImage fig4;\n",
    "{\n",
    "    std::stringstream ss;\n",
    "    ss << \"set datafile separator ','\" << endl;\n",
    "    ss << \"set xlabel 'N'\" << endl;\n",
    "    ss << \"set ylabel 'C(S,t;N)'\" << endl;\n",
    "    ss << \"unset key\"<< endl;\n",
    "    ss << \"p'test-7-4.csv' u 1:2 w l\";\n",
    "    fig4 = MATH60082::GnuplotWidget::plotCommand(&ss);\n",
    "    \n",
    "}\n",
    "fig4"
   ]
  },
  {
   "cell_type": "markdown",
   "id": "0fa100f2",
   "metadata": {},
   "source": [
    "Again this is looking much smoother as compared to the previous picture."
   ]
  }
 ],
 "metadata": {
  "kernelspec": {
   "display_name": "C++14",
   "language": "C++14",
   "name": "xcpp14"
  },
  "language_info": {
   "codemirror_mode": "text/x-c++src",
   "file_extension": ".cpp",
   "mimetype": "text/x-c++src",
   "name": "c++",
   "version": "14"
  }
 },
 "nbformat": 4,
 "nbformat_minor": 5
}
