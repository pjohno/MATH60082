{
 "cells": [
  {
   "cell_type": "markdown",
   "metadata": {},
   "source": [
    "# SOR Method\n",
    "\n",
    "Click on the link for the interactive version:\n",
    "[![Binder](https://mybinder.org/badge.svg)](https://mybinder.org/v2/gh/pjohno/MATH60082/master?filepath=MATH60082%20-%20Labs%20Week%209%20-%20Part%20I.ipynb)\n",
    "\n",
    "\n",
    "Consider the matrix equation\n",
    "$$\n",
    "A\\mathbf{x}=\\mathbf{b}.\n",
    "$$ \n",
    "where\n",
    "$$\n",
    "A=\\left(\n",
    "\\begin{array}{cccc}\n",
    "1&0&0&0\\\\\n",
    "-1&2&-1&0\\\\\n",
    "0&-1&2&-1\\\\\n",
    "0&0&-1&1\n",
    "\\end{array}\n",
    "\\right) \n",
    "\\text{, } \n",
    "\\mathbf{x}=\\left(\n",
    "\\begin{array}{c}\n",
    "x_0\\\\\n",
    "x_1\\\\\n",
    "x_2\\\\\n",
    "x3\n",
    "\\end{array}\n",
    "\\right)\\text{ and }\n",
    "\\mathbf{b}=\\left(\n",
    "\\begin{array}{c}\n",
    "1\\\\\n",
    "\\frac14\\\\\n",
    "\\frac12\\\\\n",
    "0\n",
    "\\end{array}\n",
    "\\right) .\n",
    "$$\n",
    "Open the example code on my website [click here](http://www.maths.manchester.ac.uk/~pjohnson/resources/math60082/MYCODES/solutions-sheet-7-0-0.cpp), it will provide a template to implement the code outlined in this demonstration. The final solution is also on the web [click here](http://www.maths.manchester.ac.uk/~pjohnson/resources/math60082/MYCODES/solutions-sheet-7-0-1.cpp). Out aim is to implement SOR to find the solution $\\mathbf{x}$. The task will be split into several steps:\n",
    "\n",
    "1. Copy the code into a new project, check it compiles and runs.\n",
    "2. Update your guess for $\\mathbf{x}$ by rearranging each line of the matrix equation to get an equation for $x_0$,  $x_1$, $x_2$ and $x_3$. For example $$x_0=(b_0-A_{0,1}x_1-A_{0,2}x_2-A_{0,3}x_3)/A_{0,0}.$$ Put the four expressions for each value of $x_j$ into the code at the appropriate place, take advantage of the zeros in the matrix to simplify formula.\n",
    "3. Run the code, does the solution converge?\n",
    "4. Try outputing the error by summing up the residuals. The residual is given by $$ r_i=b_i-\\sum_jA_{i,j}x_j.$$ Can you see the residual going down as your guess approaches the solution?\n",
    "5. Now try to use the parameter  ωω  to overrelax your new guess with the formula $$x^{q+1}_j=x^q_j+\\omega(x^{q+1}_j-x^q_j).$$ Can you choose $\\omega$ to speed up convergence?\n"
   ]
  },
  {
   "cell_type": "markdown",
   "metadata": {},
   "source": [
    "To solve this problem first we need to declare the appropriate libraries at the top of the code:"
   ]
  },
  {
   "cell_type": "code",
   "execution_count": 1,
   "metadata": {},
   "outputs": [],
   "source": [
    "#include <iostream>\n",
    "#include <cmath>\n",
    "#include <vector>\n",
    "using namespace std;"
   ]
  },
  {
   "cell_type": "markdown",
   "metadata": {},
   "source": [
    "Inside the main function we need to set up the problem, we use three vectors `a`, `b`, `c` for the diagonals of the matrix, and a vector `rhs` for $\\mathbf{b}$.  "
   ]
  },
  {
   "cell_type": "code",
   "execution_count": 2,
   "metadata": {},
   "outputs": [],
   "source": [
    "// declare vector to store matrix A\n",
    "vector<double> a = { 0.,-1,-1,-1};\n",
    "vector<double> b = { 1.,2,2,1};\n",
    "vector<double> c = { 0.,-1,-1,0.};\n",
    "// declare vector for the rhs v and solution x \n",
    "vector<double> rhs = {1.,0.25,0.5,0.};\n",
    "vector<double> x;"
   ]
  },
  {
   "cell_type": "markdown",
   "metadata": {},
   "source": [
    "Now we set up the matrix solver using a simple iteration scheme. The general code layout is outlined below, at the moment the code breaks after one step."
   ]
  },
  {
   "cell_type": "code",
   "execution_count": 3,
   "metadata": {},
   "outputs": [
    {
     "name": "stdout",
     "output_type": "stream",
     "text": [
      "x = { 0 0 0 0 } at iteration 1\n"
     ]
    }
   ],
   "source": [
    "{\n",
    "    // initial guess for x\n",
    "    x = {0.,0.,0.,0.};\n",
    "    // MATRIX SOLVE\n",
    "    // sor variables\n",
    "    // set iterMax to a large enough value so that method converges\n",
    "    int iterMax=50;\n",
    "    double tol=1.e-6,omega=1;\n",
    "    // sor loop\n",
    "    for(int sor=0;sor<iterMax;sor++)\n",
    "    {\n",
    "        // implement sor in here\n",
    "        // x[0]=...\n",
    "    \n",
    "        // output guess at (sor+1)th iteration\n",
    "        cout << \"x = { \";\n",
    "        for(auto xi : x)cout << xi << \" \";\n",
    "        cout << \"} at iteration \" << sor+1 << \"\\n\";\n",
    "        // make an exit condition when solution found\n",
    "        // ...\n",
    "        break;\n",
    "    }\n",
    "}"
   ]
  },
  {
   "cell_type": "markdown",
   "metadata": {},
   "source": [
    "Now input the sor code, exploiting the tridiagonal structure of the matrix so simplify the process. We can see that the solution converges after about 50 steps (to 6sf)."
   ]
  },
  {
   "cell_type": "code",
   "execution_count": 4,
   "metadata": {
    "scrolled": true
   },
   "outputs": [
    {
     "name": "stdout",
     "output_type": "stream",
     "text": [
      "x = { 1 0.625 0.5625 0.5625 } at iteration 1\n",
      "x = { 1 0.90625 0.984375 0.984375 } at iteration 2\n",
      "x = { 1 1.11719 1.30078 1.30078 } at iteration 3\n",
      "x = { 1 1.27539 1.53809 1.53809 } at iteration 4\n",
      "x = { 1 1.39404 1.71606 1.71606 } at iteration 5\n",
      "x = { 1 1.48303 1.84955 1.84955 } at iteration 6\n",
      "x = { 1 1.54977 1.94966 1.94966 } at iteration 7\n",
      "x = { 1 1.59983 2.02475 2.02475 } at iteration 8\n",
      "x = { 1 1.63737 2.08106 2.08106 } at iteration 9\n",
      "x = { 1 1.66553 2.12329 2.12329 } at iteration 10\n",
      "x = { 1 1.68665 2.15497 2.15497 } at iteration 11\n",
      "x = { 1 1.70249 2.17873 2.17873 } at iteration 12\n",
      "x = { 1 1.71436 2.19655 2.19655 } at iteration 13\n",
      "x = { 1 1.72327 2.20991 2.20991 } at iteration 14\n",
      "x = { 1 1.72995 2.21993 2.21993 } at iteration 15\n",
      "x = { 1 1.73497 2.22745 2.22745 } at iteration 16\n",
      "x = { 1 1.73872 2.23309 2.23309 } at iteration 17\n",
      "x = { 1 1.74154 2.23732 2.23732 } at iteration 18\n",
      "x = { 1 1.74366 2.24049 2.24049 } at iteration 19\n",
      "x = { 1 1.74524 2.24286 2.24286 } at iteration 20\n",
      "x = { 1 1.74643 2.24465 2.24465 } at iteration 21\n",
      "x = { 1 1.74732 2.24599 2.24599 } at iteration 22\n",
      "x = { 1 1.74799 2.24699 2.24699 } at iteration 23\n",
      "x = { 1 1.74849 2.24774 2.24774 } at iteration 24\n",
      "x = { 1 1.74887 2.24831 2.24831 } at iteration 25\n",
      "x = { 1 1.74915 2.24873 2.24873 } at iteration 26\n",
      "x = { 1 1.74937 2.24905 2.24905 } at iteration 27\n",
      "x = { 1 1.74952 2.24929 2.24929 } at iteration 28\n",
      "x = { 1 1.74964 2.24946 2.24946 } at iteration 29\n",
      "x = { 1 1.74973 2.2496 2.2496 } at iteration 30\n",
      "x = { 1 1.7498 2.2497 2.2497 } at iteration 31\n",
      "x = { 1 1.74985 2.24977 2.24977 } at iteration 32\n",
      "x = { 1 1.74989 2.24983 2.24983 } at iteration 33\n",
      "x = { 1 1.74992 2.24987 2.24987 } at iteration 34\n",
      "x = { 1 1.74994 2.2499 2.2499 } at iteration 35\n",
      "x = { 1 1.74995 2.24993 2.24993 } at iteration 36\n",
      "x = { 1 1.74996 2.24995 2.24995 } at iteration 37\n",
      "x = { 1 1.74997 2.24996 2.24996 } at iteration 38\n",
      "x = { 1 1.74998 2.24997 2.24997 } at iteration 39\n",
      "x = { 1 1.74998 2.24998 2.24998 } at iteration 40\n",
      "x = { 1 1.74999 2.24998 2.24998 } at iteration 41\n",
      "x = { 1 1.74999 2.24999 2.24999 } at iteration 42\n",
      "x = { 1 1.74999 2.24999 2.24999 } at iteration 43\n",
      "x = { 1 1.75 2.24999 2.24999 } at iteration 44\n",
      "x = { 1 1.75 2.24999 2.24999 } at iteration 45\n",
      "x = { 1 1.75 2.25 2.25 } at iteration 46\n",
      "x = { 1 1.75 2.25 2.25 } at iteration 47\n",
      "x = { 1 1.75 2.25 2.25 } at iteration 48\n",
      "x = { 1 1.75 2.25 2.25 } at iteration 49\n",
      "x = { 1 1.75 2.25 2.25 } at iteration 50\n"
     ]
    }
   ],
   "source": [
    "{\n",
    "    // initial guess for x\n",
    "    x = {0.,0.,0.,0.};\n",
    "    // MATRIX SOLVE\n",
    "    // sor variables\n",
    "    // set iterMax to a large enough value so that method converges\n",
    "    int iterMax=50;\n",
    "    double tol=1.e-6,omega=1;\n",
    "    int sor=0;\n",
    "    // sor loop\n",
    "    for(sor=0;sor<iterMax;sor++)\n",
    "    {\n",
    "        // implement sor in here\n",
    "        x[0] = rhs[0]/b[0];\n",
    "        for(int j=1;j<3;j++)\n",
    "        {\n",
    "            x[j] = (rhs[j] - a[j]*x[j-1] - c[j]*x[j+1])/b[j];\n",
    "        }\n",
    "        x[3] = (rhs[3] - a[3]*x[2])/b[3];\n",
    "        // output guess at (sor+1)th iteration\n",
    "        cout << \"x = { \";\n",
    "        for(auto xi : x)cout << xi << \" \";\n",
    "        cout << \"} at iteration \" << sor+1 << \"\\n\";\n",
    "    }\n",
    "}"
   ]
  },
  {
   "cell_type": "markdown",
   "metadata": {},
   "source": [
    "Next we want to know how to track convergence of our method. Often one of the best ways is to looks at a residual analysis, which is basically where we calculate $$ \\mathbf{r} = \\mathbf{b} - A\\mathbf{x} .$$\n",
    " \n",
    "We have to do this after we have solved for all elements in the vector $\\mathbf{x}$."
   ]
  },
  {
   "cell_type": "code",
   "execution_count": 5,
   "metadata": {},
   "outputs": [
    {
     "name": "stdout",
     "output_type": "stream",
     "text": [
      "x = { 1 1.66553 2.12329 2.12329 } and r = {0 0.0422351 0.0422351 0 } at iteration 10\n",
      "x = { 1 1.74524 2.24286 2.24286 } and r = {0 0.00237841 0.00237841 0 } at iteration 20\n",
      "x = { 1 1.74973 2.2496 2.2496 } and r = {0 0.000133937 0.000133937 0 } at iteration 30\n",
      "x = { 1 1.74998 2.24998 2.24998 } and r = {0 7.54244e-06 7.54244e-06 0 } at iteration 40\n",
      "x = { 1 1.75 2.25 2.25 } and r = {0 4.24741e-07 4.24741e-07 0 } at iteration 50\n"
     ]
    }
   ],
   "source": [
    "{\n",
    "    // initial guess for x\n",
    "    x = {0.,0.,0.,0.};\n",
    "    // MATRIX SOLVE\n",
    "    // sor variables\n",
    "    // set iterMax to a large enough value so that method converges\n",
    "    int iterMax=50;\n",
    "    double tol=1.e-6,omega=1;\n",
    "    int sor=0;\n",
    "    // sor loop\n",
    "    for(sor=0;sor<iterMax;sor++)\n",
    "    {\n",
    "        vector<double> r(4);\n",
    "        // implement sor in here\n",
    "        x[0] = rhs[0]/b[0];\n",
    "        for(int j=1;j<3;j++)\n",
    "        {\n",
    "            x[j] = (rhs[j] - a[j]*x[j-1] - c[j]*x[j+1])/b[j];\n",
    "        }\n",
    "        x[3] = (rhs[3] - a[3]*x[2])/b[3];\n",
    "        // output guess at (sor+1)th iteration\n",
    "        if(sor%10==9)\n",
    "        {\n",
    "            cout << \"x = { \";\n",
    "            for(auto xi : x)cout << xi << \" \";\n",
    "            cout << \"} and r = {\";\n",
    "            cout << rhs[0] - b[0]*x[0] << \" \";\n",
    "            cout << rhs[1] - a[1]*x[0] - b[1]*x[1] - c[1]*x[2] << \" \";\n",
    "            cout << rhs[2] - a[2]*x[1] - b[2]*x[2] - c[2]*x[3] << \" \";\n",
    "            cout << rhs[3] - a[3]*x[2] - b[3]*x[3] << \" \";\n",
    "            cout << \"} at iteration \" << sor+1 << \"\\n\";\n",
    "        }\n",
    "    }\n",
    "}"
   ]
  },
  {
   "cell_type": "markdown",
   "metadata": {},
   "source": [
    "Here we can see that the size of the residual is broadly similar to the error in the solution. As a result we can use the _size_ of the residual (i.e. the norm) to measure how close we are to the solution. We introduce an error term to the calculation and check it against the tolerance. Further we also implement SOR, storing our new estimate in a variable `y` so that we can generate a new value `x[j] = x[j] + omega*(y-x[j])`."
   ]
  },
  {
   "cell_type": "code",
   "execution_count": 6,
   "metadata": {},
   "outputs": [
    {
     "name": "stdout",
     "output_type": "stream",
     "text": [
      "Converged after 19 iterations.\n"
     ]
    },
    {
     "data": {
      "text/plain": [
       "{ 1.0000000, 1.7500003, 2.2500001, 2.2500001 }"
      ]
     },
     "execution_count": 6,
     "metadata": {},
     "output_type": "execute_result"
    }
   ],
   "source": [
    "{\n",
    "    // initial guess for x\n",
    "    x = {0.,0.,0.,0.};\n",
    "  // MATRIX SOLVE\n",
    "  // sor variables\n",
    "  // set iterMax to a large enough value so that method converges\n",
    "  int iterMax=500;\n",
    "  double tol=1.e-6,omega=1.4;\n",
    "  int sor=0;\n",
    "  // sor loop\n",
    "  for(sor=0;sor<iterMax;sor++)\n",
    "  {\n",
    "    double error=0.;\n",
    "    // implement sor in here\n",
    "    {\n",
    "      double y = rhs[0]/b[0];\n",
    "      x[0] = x[0] + omega*(y-x[0]); \n",
    "    }\n",
    "    for(int j=1;j<3;j++)\n",
    "    {\n",
    "      double y = (rhs[j] - a[j]*x[j-1] - c[j]*x[j+1])/b[j];\n",
    "      x[j] = x[j] + omega*(y-x[j]); \n",
    "    }\n",
    "    {\n",
    "      double y = (rhs[3] - a[3]*x[2])/b[3];\n",
    "      x[3] = x[3] + omega*(y-x[3]); \n",
    "    }\n",
    "    // calculate residual norm ||r|| as sum of absolute values\n",
    "    error += fabs(rhs[0] - b[0]*x[0]);\n",
    "    error += fabs(rhs[1] - a[1]*x[0] - b[1]*x[1] - c[1]*x[2]);\n",
    "    error += fabs(rhs[2] - a[2]*x[1] - b[2]*x[2] - c[2]*x[3]);\n",
    "    error += fabs(rhs[3] - a[3]*x[2] - b[3]*x[3]);\n",
    "    // make an exit condition when solution found\n",
    "    if(error<tol)\n",
    "      break;\n",
    "  }\n",
    "  cout << \"Converged after \" << sor+1 << \" iterations.\\n\";\n",
    "}\n",
    "x"
   ]
  },
  {
   "cell_type": "markdown",
   "metadata": {},
   "source": [
    "We can easily convert this into a function, which we can put in a separate file [click here](http://www.maths.manchester.ac.uk/~pjohnson/resources/math60082/MYCODES/math60082_sor.hpp) or above the main function. The function is called `sorSolve(...)` where the arguments are `a`, `b`, `c`, `rhs`, `x`, `iterMax`, `tol`, `omega` and `sor`. The definition of each parameter can be implied from the code above. "
   ]
  },
  {
   "cell_type": "code",
   "execution_count": 7,
   "metadata": {},
   "outputs": [],
   "source": [
    "/* \n",
    "ON INPUT:\n",
    "a, b and c -- are the diagonals of the matrix\n",
    "rhs        -- is the right hand side\n",
    "x          -- is the initial guess\n",
    "iterMax    -- is maximum iterations\n",
    "tol        -- is the tolerance level\n",
    "omega      -- is the relaxation parameter \n",
    "sor        -- not used\n",
    "ON OUTPUT:\n",
    "a, b, c, rhs        -- unchanged\n",
    "x                   -- solution to Ax=b\n",
    "iterMax, tol, omega -- unchanged\n",
    "sor                 -- number of iterations to converge\n",
    "*/\n",
    "void sorSolve(const std::vector<double> &a,const std::vector<double> &b,const std::vector<double> &c,const std::vector<double> &rhs,\n",
    "std::vector<double> &x,int iterMax,double tol,double omega,int &sor )\n",
    "{\n",
    "    // assumes vectors a,b,c,d,rhs and x are same size (doesn't check)\n",
    "    int n=a.size()-1;\n",
    "    // sor loop\n",
    "  for(sor=0;sor<iterMax;sor++)\n",
    "  {\n",
    "    double error=0.;\n",
    "    // implement sor in here\n",
    "    {\n",
    "      double y = (rhs[0] - c[0]*x[1])/b[0];\n",
    "      x[0] = x[0] + omega*(y-x[0]); \n",
    "    }\n",
    "    for(int j=1;j<n;j++)\n",
    "    {\n",
    "      double y = (rhs[j] - a[j]*x[j-1] - c[j]*x[j+1])/b[j];\n",
    "      x[j] = x[j] + omega*(y-x[j]); \n",
    "    }\n",
    "    {\n",
    "      double y = (rhs[n] - a[n]*x[n-1])/b[n];\n",
    "      x[n] = x[n] + omega*(y-x[n]); \n",
    "    }\n",
    "    // calculate residual norm ||r|| as sum of absolute values\n",
    "    error += std::fabs(rhs[0] - b[0]*x[0] - c[0]*x[1]);\n",
    "    for(int j=1;j<n;j++) \n",
    "        error += std::fabs(rhs[j] - a[j]*x[j-1] - b[j]*x[j] - c[j]*x[j+1]);\n",
    "    error += std::fabs(rhs[n] - a[n]*x[n-1] - b[n]*x[n]);\n",
    "    // make an exit condition when solution found\n",
    "    if(error<tol)\n",
    "      break;\n",
    "  }\n",
    "}"
   ]
  },
  {
   "cell_type": "markdown",
   "metadata": {},
   "source": [
    "Once in a function we can play around to see the effect of the different input parameters. For instance, with defaults as above we get:"
   ]
  },
  {
   "cell_type": "code",
   "execution_count": 8,
   "metadata": {},
   "outputs": [
    {
     "name": "stdout",
     "output_type": "stream",
     "text": [
      "Converged after 50 iterations.\n"
     ]
    },
    {
     "data": {
      "text/plain": [
       "{ 1.0000000, 1.7499992, 2.2499987, 2.2499987 }"
      ]
     },
     "execution_count": 8,
     "metadata": {},
     "output_type": "execute_result"
    }
   ],
   "source": [
    "// reset initial guess for x\n",
    "x = {0.,0.,0.,0.};\n",
    "int sor;\n",
    "// iterMax=50, tol=1.e-6, omega = 1\n",
    "sorSolve(a,b,c,rhs,x,50,1.e-6,1.,sor);\n",
    "cout << \"Converged after \" << sor+1 << \" iterations.\\n\";\n",
    "x"
   ]
  },
  {
   "cell_type": "markdown",
   "metadata": {},
   "source": [
    "So with `omega=1` we converge in 50 iterations. Now try again with `omega=1.1`:"
   ]
  },
  {
   "cell_type": "code",
   "execution_count": 9,
   "metadata": {},
   "outputs": [
    {
     "name": "stdout",
     "output_type": "stream",
     "text": [
      "Converged after 40 iterations.\n"
     ]
    },
    {
     "data": {
      "text/plain": [
       "{ 1.0000000, 1.7499993, 2.2499990, 2.2499991 }"
      ]
     },
     "execution_count": 9,
     "metadata": {},
     "output_type": "execute_result"
    }
   ],
   "source": [
    "// reset initial guess for x\n",
    "x = {0.,0.,0.,0.};\n",
    "// this time omega = 1.1\n",
    "sorSolve(a,b,c,rhs,x,50,1.e-6,1.1,sor);\n",
    "cout << \"Converged after \" << sor+1 << \" iterations.\\n\";\n",
    "x"
   ]
  },
  {
   "cell_type": "markdown",
   "metadata": {},
   "source": [
    "Now try it with a few different values"
   ]
  },
  {
   "cell_type": "code",
   "execution_count": 10,
   "metadata": {},
   "outputs": [
    {
     "name": "stdout",
     "output_type": "stream",
     "text": [
      "Try with omega = 0.5 we get x = { 1 1.75 2.25 2.25 } after 158 iterations.\n",
      "Try with omega = 0.6 we get x = { 1 1.75 2.25 2.25 } after 122 iterations.\n",
      "Try with omega = 0.7 we get x = { 1 1.75 2.25 2.25 } after 97 iterations.\n",
      "Try with omega = 0.8 we get x = { 1 1.75 2.25 2.25 } after 78 iterations.\n",
      "Try with omega = 0.9 we get x = { 1 1.75 2.25 2.25 } after 62 iterations.\n",
      "Try with omega = 1 we get x = { 1 1.75 2.25 2.25 } after 50 iterations.\n",
      "Try with omega = 1.1 we get x = { 1 1.75 2.25 2.25 } after 40 iterations.\n",
      "Try with omega = 1.2 we get x = { 1 1.75 2.25 2.25 } after 31 iterations.\n",
      "Try with omega = 1.3 we get x = { 1 1.75 2.25 2.25 } after 21 iterations.\n",
      "Try with omega = 1.4 we get x = { 1 1.75 2.25 2.25 } after 19 iterations.\n",
      "Try with omega = 1.5 we get x = { 1 1.75 2.25 2.25 } after 26 iterations.\n",
      "Try with omega = 1.6 we get x = { 1 1.75 2.25 2.25 } after 36 iterations.\n",
      "Try with omega = 1.7 we get x = { 1 1.75 2.25 2.25 } after 53 iterations.\n",
      "Try with omega = 1.8 we get x = { 1 1.75 2.25 2.25 } after 87 iterations.\n",
      "Try with omega = 1.9 we get x = { 1 1.75 2.25 2.25 } after 192 iterations.\n",
      "Try with omega = 2 we get x = { 0 -3331.25 4 -3329.5 } after 5001 iterations.\n"
     ]
    }
   ],
   "source": [
    "for(int varyOmega=5;varyOmega<=20;varyOmega++)\n",
    "{\n",
    "    // reset initial guess for x\n",
    "    x = {0.,0.,0.,0.};\n",
    "    // this time omega = 1.1\n",
    "    double omega = varyOmega/10.;\n",
    "    sorSolve(a,b,c,rhs,x,5000,1.e-6,omega,sor);\n",
    "    cout << \"Try with omega = \" << omega << \" we get x = { \";\n",
    "    for(auto xi : x)cout << xi << \" \";\n",
    "    cout << \"} after \" << sor+1 << \" iterations.\\n\";\n",
    "}"
   ]
  },
  {
   "cell_type": "markdown",
   "metadata": {},
   "source": [
    "As we can see the number of iterations is very dependent on the choice of omega. If we choose the value $\\omega=1.4$ the solver will converge around 2.5 times quicker, whilst choosing a value that is too big of $\\omega=1.9$ takes around 4 times longer. In fact, theoretically there is always an optimal choice of $\\omega\\in[1,2)$ that depend on the properties of the matrix $A$ (the spectral radius). For some simple matrices this can be calculated easily but in general it is difficult to know."
   ]
  }
 ],
 "metadata": {
  "kernelspec": {
   "display_name": "C++14",
   "language": "C++14",
   "name": "xcpp14"
  },
  "language_info": {
   "codemirror_mode": "text/x-c++src",
   "file_extension": ".cpp",
   "mimetype": "text/x-c++src",
   "name": "c++",
   "version": "14"
  }
 },
 "nbformat": 4,
 "nbformat_minor": 2
}
