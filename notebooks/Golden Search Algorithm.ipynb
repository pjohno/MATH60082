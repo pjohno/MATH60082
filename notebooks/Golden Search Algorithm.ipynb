{
 "cells": [
  {
   "cell_type": "markdown",
   "id": "3280e14c",
   "metadata": {},
   "source": [
    "# Golden Search Algorithm\n",
    "\n",
    "An implementation of the golden search algorithm is given in the header file `math60082_mMinima.hpp`, as the function:\n",
    "\n",
    "`static std::pair<T,T> goldenSearch(const F &f,T xMin,T xMax,T tol)`\n",
    "\n",
    "See below for an example."
   ]
  },
  {
   "cell_type": "code",
   "execution_count": 1,
   "id": "bbdbe19d",
   "metadata": {},
   "outputs": [],
   "source": [
    "#pragma cling add_include_path(\"../include\")\n",
    "#include <math60082_mMinima.hpp>\n",
    "#include <iostream>\n",
    "#include <functional>\n",
    "#include <cmath>"
   ]
  },
  {
   "cell_type": "markdown",
   "id": "2589326d",
   "metadata": {},
   "source": [
    "First create a function to minimise, for example $$f(x) = \\cos(x)$$ over the interval $$x\\in [0,4].$$"
   ]
  },
  {
   "cell_type": "code",
   "execution_count": 8,
   "id": "0e2f080b",
   "metadata": {},
   "outputs": [],
   "source": [
    "using MATH60082::goldenSearch;\n",
    "auto rootMin = goldenSearch(cos,0.,4.,1.e-8);"
   ]
  },
  {
   "cell_type": "markdown",
   "id": "12addcf6",
   "metadata": {},
   "source": [
    "The root is stored as a pair, so use `rootMin.first` to get the value of $x$ at the minimum, and `rootMin.second` to get the value of $f(x)$."
   ]
  },
  {
   "cell_type": "code",
   "execution_count": 9,
   "id": "1aceb777",
   "metadata": {},
   "outputs": [
    {
     "name": "stdout",
     "output_type": "stream",
     "text": [
      "3.14157 -1\n"
     ]
    }
   ],
   "source": [
    "std::cout << rootMin.first << \" \" << rootMin.second << std::endl;"
   ]
  },
  {
   "cell_type": "markdown",
   "id": "19ef0303",
   "metadata": {},
   "source": [
    "We can use any function or class with an `operator()(T x) const` member function including lambda functions."
   ]
  },
  {
   "cell_type": "code",
   "execution_count": 11,
   "id": "89eebcaf",
   "metadata": {},
   "outputs": [],
   "source": [
    "struct MyClass{\n",
    "  \n",
    "    double a,b,c;\n",
    "    \n",
    "    double operator()(double x) const {\n",
    "        // could be some complex calculation\n",
    "        return a*cos(b*x+c);\n",
    "    }\n",
    "    \n",
    "};"
   ]
  },
  {
   "cell_type": "code",
   "execution_count": 14,
   "id": "21890ce8",
   "metadata": {},
   "outputs": [
    {
     "name": "stdout",
     "output_type": "stream",
     "text": [
      "3.14157 -1\n"
     ]
    }
   ],
   "source": [
    "MyClass mc = {1.,1.,0.};// initialise MyClass with a=1, b=1, c=0\n",
    "rootMin = goldenSearch(mc,0.,4.,1.e-8);\n",
    "std::cout << rootMin.first << \" \" << rootMin.second << std::endl;"
   ]
  },
  {
   "cell_type": "code",
   "execution_count": 15,
   "id": "f8c555a5",
   "metadata": {},
   "outputs": [
    {
     "name": "stdout",
     "output_type": "stream",
     "text": [
      "1.42081 -0.5\n"
     ]
    }
   ],
   "source": [
    "mc = {0.5,2.,0.3};// change values a=0.5, b=2, c=0.3\n",
    "rootMin = goldenSearch(mc,0.,4.,1.e-8);\n",
    "std::cout << rootMin.first << \" \" << rootMin.second << std::endl;"
   ]
  },
  {
   "cell_type": "markdown",
   "id": "7e71db0a",
   "metadata": {},
   "source": [
    "Now try with a lambda function"
   ]
  },
  {
   "cell_type": "code",
   "execution_count": 18,
   "id": "7e91c691",
   "metadata": {},
   "outputs": [
    {
     "name": "stdout",
     "output_type": "stream",
     "text": [
      "0.499995 0.75\n"
     ]
    }
   ],
   "source": [
    "auto myFunc = [](double x){return 1+x*(x-1);};\n",
    "rootMin = goldenSearch(myFunc,0.,4.,1.e-8);\n",
    "std::cout << rootMin.first << \" \" << rootMin.second << std::endl;"
   ]
  }
 ],
 "metadata": {
  "kernelspec": {
   "display_name": "C++17",
   "language": "C++17",
   "name": "xcpp17"
  },
  "language_info": {
   "codemirror_mode": "text/x-c++src",
   "file_extension": ".cpp",
   "mimetype": "text/x-c++src",
   "name": "c++",
   "version": "17"
  }
 },
 "nbformat": 4,
 "nbformat_minor": 5
}
