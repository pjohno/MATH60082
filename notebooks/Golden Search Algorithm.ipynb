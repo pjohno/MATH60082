{
 "cells": [
  {
   "cell_type": "markdown",
   "id": "766d2a3a",
   "metadata": {},
   "source": [
    "# Golden Search Algorithm\n",
    "\n",
    "An implementation of the golden search algorithm is given in the header file `math60082_mMinima.hpp`, as the function:\n",
    "\n",
    "`static std::pair<T,T> goldenSearch(const F &f,T xMin,T xMax,T tol)`\n",
    "\n",
    "See below for an example."
   ]
  },
  {
   "cell_type": "code",
   "execution_count": 1,
   "id": "da449b1a",
   "metadata": {},
   "outputs": [],
   "source": [
    "#pragma cling add_include_path(\"../include\")\n",
    "#include <math60082_mMinima.hpp>\n",
    "#include <iostream>\n",
    "#include <functional>\n",
    "#include <cmath>"
   ]
  },
  {
   "cell_type": "markdown",
   "id": "850c00c8",
   "metadata": {},
   "source": [
    "First create a function to minimise, for example $$f(x) = \\cos(x)$$ over the interval $$x\\in [0,4].$$"
   ]
  },
  {
   "cell_type": "code",
   "execution_count": 2,
   "id": "79eaa54f",
   "metadata": {},
   "outputs": [],
   "source": [
    "using MATH60082::goldenSearch;\n",
    "auto rootMin = goldenSearch(cos,0.,4.,1.e-8);"
   ]
  },
  {
   "cell_type": "markdown",
   "id": "9c4c63a3",
   "metadata": {},
   "source": [
    "The root is stored as a pair, so use `rootMin.first` to get the value of $x$ at the minimum, and `rootMin.second` to get the value of $f(x)$."
   ]
  },
  {
   "cell_type": "code",
   "execution_count": 3,
   "id": "f461ef31",
   "metadata": {},
   "outputs": [
    {
     "name": "stdout",
     "output_type": "stream",
     "text": [
      "3.14157 -1\n"
     ]
    }
   ],
   "source": [
    "std::cout << rootMin.first << \" \" << rootMin.second << std::endl;"
   ]
  },
  {
   "cell_type": "markdown",
   "id": "8429129a",
   "metadata": {},
   "source": [
    "We can use any function or class with an `operator()(T x) const` member function including lambda functions."
   ]
  },
  {
   "cell_type": "code",
   "execution_count": 4,
   "id": "890d9d10",
   "metadata": {},
   "outputs": [],
   "source": [
    "struct MyClass{\n",
    "  \n",
    "    double a,b,c;\n",
    "    \n",
    "    double operator()(double x) const {\n",
    "        // could be some complex calculation\n",
    "        return a*cos(b*x+c);\n",
    "    }\n",
    "    \n",
    "};"
   ]
  },
  {
   "cell_type": "code",
   "execution_count": 5,
   "id": "4d25c7f1",
   "metadata": {},
   "outputs": [
    {
     "name": "stdout",
     "output_type": "stream",
     "text": [
      "3.14157 -1\n"
     ]
    }
   ],
   "source": [
    "MyClass mc = {1.,1.,0.};// initialise MyClass with a=1, b=1, c=0\n",
    "rootMin = goldenSearch(mc,0.,4.,1.e-8);\n",
    "std::cout << rootMin.first << \" \" << rootMin.second << std::endl;"
   ]
  },
  {
   "cell_type": "code",
   "execution_count": 6,
   "id": "5b36b7ef",
   "metadata": {},
   "outputs": [
    {
     "name": "stdout",
     "output_type": "stream",
     "text": [
      "1.42081 -0.5\n"
     ]
    }
   ],
   "source": [
    "mc = {0.5,2.,0.3};// change values a=0.5, b=2, c=0.3\n",
    "rootMin = goldenSearch(mc,0.,4.,1.e-8);\n",
    "std::cout << rootMin.first << \" \" << rootMin.second << std::endl;"
   ]
  },
  {
   "cell_type": "markdown",
   "id": "f8390e24",
   "metadata": {},
   "source": [
    "Now try with a lambda function"
   ]
  },
  {
   "cell_type": "code",
   "execution_count": 7,
   "id": "9f2602a7",
   "metadata": {},
   "outputs": [
    {
     "name": "stdout",
     "output_type": "stream",
     "text": [
      "0.499995 0.75\n"
     ]
    }
   ],
   "source": [
    "auto myFunc = [](double x){return 1+x*(x-1);};\n",
    "rootMin = goldenSearch(myFunc,0.,4.,1.e-8);\n",
    "std::cout << rootMin.first << \" \" << rootMin.second << std::endl;"
   ]
  }
 ],
 "metadata": {
  "kernelspec": {
   "display_name": "C++14",
   "language": "C++14",
   "name": "xcpp14"
  },
  "language_info": {
   "codemirror_mode": "text/x-c++src",
   "file_extension": ".cpp",
   "mimetype": "text/x-c++src",
   "name": "c++",
   "version": "14"
  }
 },
 "nbformat": 4,
 "nbformat_minor": 5
}
