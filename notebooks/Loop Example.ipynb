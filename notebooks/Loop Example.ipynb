{
 "cells": [
  {
   "cell_type": "markdown",
   "metadata": {},
   "source": [
    "Assume we are calculating \n",
    " $$\n",
    " I = \\sum_{i=0}^{10} f(x_i), \\quad \\quad x_i = i\\times 0.1  \n",
    " $$\n",
    " so $x$ varies in steps of 0.1 over the interval $x\\in[0,1]$. Here we define \n",
    " $$\n",
    " f(x) = x^2 .\n",
    " $$"
   ]
  },
  {
   "cell_type": "markdown",
   "metadata": {},
   "source": [
    "And we input the code:-"
   ]
  },
  {
   "cell_type": "code",
   "execution_count": 1,
   "metadata": {},
   "outputs": [],
   "source": [
    "#include <iostream>\n",
    "#include <cmath>"
   ]
  },
  {
   "cell_type": "code",
   "execution_count": 2,
   "metadata": {},
   "outputs": [],
   "source": [
    "double f(double x)\n",
    "{\n",
    "    return x*x;\n",
    "}"
   ]
  },
  {
   "cell_type": "code",
   "execution_count": 3,
   "metadata": {},
   "outputs": [
    {
     "name": "stdout",
     "output_type": "stream",
     "text": [
      "0 0\n",
      "0.1 0.01\n",
      "0.2 0.05\n",
      "0.3 0.14\n",
      "0.4 0.3\n",
      "0.5 0.55\n",
      "0.6 0.91\n",
      "0.7 1.4\n",
      "0.8 2.04\n",
      "0.9 2.85\n",
      "1 3.85\n"
     ]
    }
   ],
   "source": [
    "{\n",
    "    double x=0.;\n",
    "    double sum = 0.;\n",
    "    while(x<=1.)\n",
    "    {\n",
    "        sum = sum + f(x);\n",
    "        std::cout << x << \" \" << sum << \"\\n\";\n",
    "        x = x + 0.1;\n",
    "    }\n",
    "}"
   ]
  },
  {
   "cell_type": "code",
   "execution_count": 4,
   "metadata": {
    "scrolled": true
   },
   "outputs": [
    {
     "name": "stdout",
     "output_type": "stream",
     "text": [
      "0.9 24.7065\n",
      "0.91 25.5346\n",
      "0.92 26.381\n",
      "0.93 27.2459\n",
      "0.94 28.1295\n",
      "0.95 29.032\n",
      "0.96 29.9536\n",
      "0.97 30.8945\n",
      "0.98 31.8549\n",
      "0.99 32.835\n"
     ]
    }
   ],
   "source": [
    "{\n",
    "    double x=0.;\n",
    "    double sum = 0.;\n",
    "    while(x<=1.)\n",
    "    {\n",
    "        sum = sum + f(x);\n",
    "        if(x>0.9)\n",
    "            std::cout << x << \" \" << sum << \"\\n\";\n",
    "        x = x + 0.01;\n",
    "    }\n",
    "}"
   ]
  },
  {
   "cell_type": "code",
   "execution_count": null,
   "metadata": {},
   "outputs": [],
   "source": []
  },
  {
   "cell_type": "code",
   "execution_count": null,
   "metadata": {},
   "outputs": [],
   "source": []
  }
 ],
 "metadata": {
  "kernelspec": {
   "display_name": "C++11",
   "language": "C++11",
   "name": "xcpp11"
  },
  "language_info": {
   "codemirror_mode": "text/x-c++src",
   "file_extension": ".cpp",
   "mimetype": "text/x-c++src",
   "name": "c++",
   "version": "11"
  }
 },
 "nbformat": 4,
 "nbformat_minor": 2
}
