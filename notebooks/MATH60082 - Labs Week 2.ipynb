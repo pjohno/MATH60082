{
 "cells": [
  {
   "cell_type": "markdown",
   "id": "3f3704bb",
   "metadata": {},
   "source": [
    "# Lab Class Week 2\n",
    "\n",
    "## Using online c++ notebooks\n",
    "\n",
    "The notebooks provide me with an easy way to present multiple code snippets and output values. You should not use them to code up your solutions, although you could quickly change values in them to experiment. The notebook cells must be run in order from the top down, try pressing restarting the kernel and running all cells if it fails. I try to run each cell as if it were it's own cpp program, so that \n",
    "~~~\n",
    "int main()\n",
    "{\n",
    "   // code\n",
    "}\n",
    "~~~\n",
    "looks like\n",
    "~~~\n",
    "{\n",
    "   // code\n",
    "}\n",
    "~~~\n",
    "in the cell. You should be able to copy/paste into a cpp file and run in your own IDE (say Visual Studio) as long as the correct include statements are at the top.\n",
    "\n",
    "To include functions, you can put a function in a cell and then use the function in subsequent cells, so\n",
    "~~~\n",
    "double myFunction( // arguments )\n",
    "{\n",
    "   // function code\n",
    "}\n",
    "~~~\n",
    "goes into a cell on its own.\n",
    "\n",
    "## Code from Demo 1.1:"
   ]
  },
  {
   "cell_type": "code",
   "execution_count": 1,
   "id": "3a2be582",
   "metadata": {},
   "outputs": [],
   "source": [
    "#include <iostream>\n",
    "#include <cmath>\n",
    "using namespace std;"
   ]
  },
  {
   "cell_type": "code",
   "execution_count": 2,
   "id": "ed56fe7a",
   "metadata": {},
   "outputs": [],
   "source": [
    "double normalDistribution_int(double x,int N)\n",
    "{\n",
    "  if(x<-10.)return 0.;\n",
    "  if(x>10.)return 1.;\n",
    "  // range of integration\n",
    "  double a=0,b=x;\n",
    "  // local variables\n",
    "  double s,h,sum=0.;\n",
    "  // inialise the variables\n",
    "  h=(b-a)/N;\n",
    "  // add in the first few terms\n",
    "  sum = sum + exp(-a*a/2.) + 4.*exp(-(a+h)*(a+h)/2.);\n",
    "  // and the last one\n",
    "  sum = sum + exp(-b*b/2.);\n",
    "  // loop over terms 2 up to N-1\n",
    "  for(int i=1;i<N/2;i++)\n",
    "  {\n",
    "    s = a + 2*i*h;\n",
    "    sum = sum + 2.*exp(-s*s/2.);\n",
    "    s = s + h;\n",
    "    sum = sum + 4.*exp(-s*s/2.);\n",
    "  }\n",
    "  // complete the integral\n",
    "  sum = 0.5 + h*sum/3./sqrt(8.*atan(1.));\n",
    "  // return result\n",
    "  return sum;\n",
    "}"
   ]
  },
  {
   "cell_type": "markdown",
   "id": "3b953881",
   "metadata": {},
   "source": [
    "## Tasks\n",
    "\n",
    "- Test your code by outputting some values of $N(x)$ for $x$ in the range $[-10,10].$\n",
    "- Try varying the number of steps in the integration, what happens for very small or very large numbers?\n",
    "- Try using a polynomial approximation to $N(x)$ (less than single precision!): $$ N(x)= 1-N'(x)(a_1 k+a_2 k^2+a_3 k^3), \\quad x\\geq 0,$$ $$N(x)=1-N(-x),\\quad x<0.$$ Here $k=\\frac{1}{1+\\gamma x}$, $\\gamma=0.33267$, $a_1=0.43618$,\n",
    "$a_2=-0.12017$, and $a_3=0.93730$."
   ]
  },
  {
   "cell_type": "markdown",
   "id": "38acea0b",
   "metadata": {},
   "source": [
    "Check out the value at a few points:"
   ]
  },
  {
   "cell_type": "code",
   "execution_count": 3,
   "id": "10d52c02",
   "metadata": {},
   "outputs": [
    {
     "name": "stdout",
     "output_type": "stream",
     "text": [
      "0.5\n",
      "0.841345\n",
      "0.97725\n",
      "0.99865\n",
      "0.999968\n",
      "1\n"
     ]
    }
   ],
   "source": [
    "{\n",
    "    cout << normalDistribution_int(0,128) << endl;\n",
    "    cout << normalDistribution_int(1,128) << endl;\n",
    "    cout << normalDistribution_int(2,128) << endl;\n",
    "    cout << normalDistribution_int(3,128) << endl;\n",
    "    cout << normalDistribution_int(4,128) << endl;\n",
    "    cout << normalDistribution_int(5,128) << endl;\n",
    "}"
   ]
  },
  {
   "cell_type": "markdown",
   "id": "049bfaa6",
   "metadata": {},
   "source": [
    "Now run the function with increasing values of $n$, notice that the value stops changing when the value of $n$ gets large, seeming that the solution has converged."
   ]
  },
  {
   "cell_type": "code",
   "execution_count": 4,
   "id": "fb24ecea",
   "metadata": {},
   "outputs": [
    {
     "name": "stdout",
     "output_type": "stream",
     "text": [
      "2 0.841529\n",
      "4 0.841355\n",
      "8 0.841345\n",
      "16 0.841345\n",
      "32 0.841345\n",
      "64 0.841345\n",
      "128 0.841345\n",
      "256 0.841345\n",
      "512 0.841345\n",
      "1024 0.841345\n",
      "2048 0.841345\n",
      "4096 0.841345\n"
     ]
    }
   ],
   "source": [
    "{\n",
    "    for(int n=2;n<=5000;n*=2)\n",
    "        cout << n << \" \" << normalDistribution_int(1,n) << endl;\n",
    "}"
   ]
  },
  {
   "cell_type": "markdown",
   "id": "fe677bba",
   "metadata": {},
   "source": [
    "Now we implement the polynomial function approximation as given:"
   ]
  },
  {
   "cell_type": "code",
   "execution_count": 5,
   "id": "eb3d16d2",
   "metadata": {},
   "outputs": [],
   "source": [
    "double normalDistribution_poly(double x)\n",
    "{\n",
    "    double gmm=0.33267;\n",
    "    double a1=0.43618;\n",
    "    double a2=-0.12017;\n",
    "    double a3=0.93730;\n",
    "    double k=1/(1+gmm*x);\n",
    "    double Ndash = exp(-x*x/2.)/sqrt(8.*atan(1.));\n",
    "    if(x>=0.)return 1.-Ndash*((a3*k+a2)*k+a1)*k;\n",
    "    else return Ndash*((a3*k+a2)*k+a1)*k;\n",
    "}"
   ]
  },
  {
   "cell_type": "markdown",
   "id": "15c8a675",
   "metadata": {},
   "source": [
    "Notice that the solution is similar but there is clearly an error of the order $10^{-4}$ in places."
   ]
  },
  {
   "cell_type": "code",
   "execution_count": 6,
   "id": "93023f68",
   "metadata": {},
   "outputs": [
    {
     "name": "stdout",
     "output_type": "stream",
     "text": [
      "0.500002\n",
      "0.841352\n",
      "0.977241\n",
      "0.998645\n",
      "0.999968\n",
      "1\n"
     ]
    }
   ],
   "source": [
    "{\n",
    "    cout << normalDistribution_poly(0) << endl;\n",
    "    cout << normalDistribution_poly(1) << endl;\n",
    "    cout << normalDistribution_poly(2) << endl;\n",
    "    cout << normalDistribution_poly(3) << endl;\n",
    "    cout << normalDistribution_poly(4) << endl;\n",
    "    cout << normalDistribution_poly(5) << endl;\n",
    "}"
   ]
  },
  {
   "cell_type": "markdown",
   "id": "e3a920ae",
   "metadata": {},
   "source": [
    "## Code from Demo 1.2"
   ]
  },
  {
   "cell_type": "code",
   "execution_count": 7,
   "id": "c7d410f4",
   "metadata": {},
   "outputs": [],
   "source": [
    "#include <iomanip>\n",
    "#include <chrono>"
   ]
  },
  {
   "cell_type": "code",
   "execution_count": 8,
   "id": "80a25ae8",
   "metadata": {},
   "outputs": [
    {
     "name": "stdout",
     "output_type": "stream",
     "text": [
      "5.26988e+10\n",
      " Total time elapsed for 1.1e+06 calculations is 0.0672662\n"
     ]
    }
   ],
   "source": [
    "{\n",
    "  int N=100000;\n",
    "  // get start time\n",
    "  auto start = std::chrono::steady_clock::now(); \n",
    "  // code in here is timed\n",
    "  double sum=0.;\n",
    "  for(int i=0;i<N;i++)\n",
    "  {\n",
    "    for(int x=-5;x<=5;x++)\n",
    "      sum = sum + normalDistribution_poly(x);\n",
    "  }\n",
    "  cout << sum << endl;\n",
    "  // get finish time\n",
    "  auto finish = std::chrono::steady_clock::now();\n",
    "  // convert into real time in seconds\n",
    "  auto elapsed = std::chrono::duration_cast<std::chrono::duration<double> >(finish - start);\n",
    "  // output values\n",
    "  cout << \" Total time elapsed for \"; \n",
    "  cout << 11.*N << \" calculations is \" << elapsed.count() << endl;\n",
    "}"
   ]
  },
  {
   "cell_type": "markdown",
   "id": "7db3c69c",
   "metadata": {},
   "source": [
    "## Tasks\n",
    "\n",
    "- Test the efficiency of your calculation for $N(x)$ against the polynomial approximation -- which method is the best one?\n",
    "- Try using the standard library error function `erfc`, how does this compare to other methods?\n",
    "- Go through the solutions for the Black-Scholes equation -- note solution codes are provided for all options.\n",
    "\n",
    "## Solutions\n"
   ]
  },
  {
   "cell_type": "markdown",
   "id": "79026e1d",
   "metadata": {},
   "source": [
    "Now try the integral approximation `normalDistibution_int` with $n=128$ steps in the integration and run it $N=100000$ times. Choosing higher values than this may mean waiting a long time!"
   ]
  },
  {
   "cell_type": "code",
   "execution_count": 9,
   "id": "05b28675",
   "metadata": {},
   "outputs": [
    {
     "name": "stdout",
     "output_type": "stream",
     "text": [
      "550000\n",
      " Total time elapsed for 1.1e+06 calculations is 2.11759\n"
     ]
    }
   ],
   "source": [
    "{\n",
    "  int N=100000;\n",
    "  // get start time\n",
    "  auto start = std::chrono::steady_clock::now(); \n",
    "  // code in here is timed\n",
    "  double sum=0.;\n",
    "  for(int i=0;i<N;i++)\n",
    "  {\n",
    "    for(int x=-5;x<=5;x++)\n",
    "      sum = sum + normalDistribution_int(x,128);\n",
    "  }\n",
    "  cout << sum << endl;\n",
    "  // get finish time\n",
    "  auto finish = std::chrono::steady_clock::now();\n",
    "  // convert into real time in seconds\n",
    "  auto elapsed = std::chrono::duration_cast<std::chrono::duration<double> >(finish - start);\n",
    "  // output values\n",
    "  cout << \" Total time elapsed for \"; \n",
    "  cout << 11.*N << \" calculations is \" << elapsed.count() << endl;\n",
    "}"
   ]
  },
  {
   "cell_type": "markdown",
   "id": "bcd9375a",
   "metadata": {},
   "source": [
    "The results for the integration are more accurate, but take longer to calculate. So clearly we need to measure the trade off between accuracy and speed."
   ]
  },
  {
   "cell_type": "markdown",
   "id": "092f053a",
   "metadata": {},
   "source": [
    "Now try the standard library function"
   ]
  },
  {
   "cell_type": "code",
   "execution_count": 10,
   "id": "55bc4d9d",
   "metadata": {},
   "outputs": [],
   "source": [
    "double normalDistribution_std(double x)\n",
    "{\n",
    "    return 0.5*erfc(-x/sqrt(2.));\n",
    "}"
   ]
  },
  {
   "cell_type": "markdown",
   "id": "459e0ec4",
   "metadata": {},
   "source": [
    "Check we've done the transformation correctly"
   ]
  },
  {
   "cell_type": "code",
   "execution_count": 11,
   "id": "96a58ff9",
   "metadata": {},
   "outputs": [
    {
     "name": "stdout",
     "output_type": "stream",
     "text": [
      "0.5\n",
      "0.841345\n",
      "0.97725\n",
      "0.99865\n",
      "0.999968\n",
      "1\n"
     ]
    }
   ],
   "source": [
    "{\n",
    "    cout << normalDistribution_std(0) << endl;\n",
    "    cout << normalDistribution_std(1) << endl;\n",
    "    cout << normalDistribution_std(2) << endl;\n",
    "    cout << normalDistribution_std(3) << endl;\n",
    "    cout << normalDistribution_std(4) << endl;\n",
    "    cout << normalDistribution_std(5) << endl;\n",
    "}"
   ]
  },
  {
   "cell_type": "code",
   "execution_count": 12,
   "id": "8f5f15ef",
   "metadata": {},
   "outputs": [
    {
     "name": "stdout",
     "output_type": "stream",
     "text": [
      "550000\n",
      " Total time elapsed for 1.1e+06 calculations is 0.0523693\n"
     ]
    }
   ],
   "source": [
    "{\n",
    "  int N=100000;\n",
    "  // get start time\n",
    "  auto start = std::chrono::steady_clock::now(); \n",
    "  // code in here is timed\n",
    "  double sum=0.;\n",
    "  for(int i=0;i<N;i++)\n",
    "  {\n",
    "    for(int x=-5;x<=5;x++)\n",
    "      sum = sum + normalDistribution_std(x);\n",
    "  }\n",
    "  cout << sum << endl;\n",
    "  // get finish time\n",
    "  auto finish = std::chrono::steady_clock::now();\n",
    "  // convert into real time in seconds\n",
    "  auto elapsed = std::chrono::duration_cast<std::chrono::duration<double> >(finish - start);\n",
    "  // output values\n",
    "  cout << \" Total time elapsed for \"; \n",
    "  cout << 11.*N << \" calculations is \" << elapsed.count() << endl;\n",
    "}"
   ]
  },
  {
   "cell_type": "markdown",
   "id": "f981812a",
   "metadata": {},
   "source": [
    "Ok, so this is just as fast as the polynomial approximation but easier to write and accurate to machine precision -- we have a winner!"
   ]
  }
 ],
 "metadata": {
  "kernelspec": {
   "display_name": "C++11",
   "language": "C++11",
   "name": "xcpp11"
  },
  "language_info": {
   "codemirror_mode": "text/x-c++src",
   "file_extension": ".cpp",
   "mimetype": "text/x-c++src",
   "name": "c++",
   "version": "11"
  }
 },
 "nbformat": 4,
 "nbformat_minor": 5
}
